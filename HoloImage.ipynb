{
 "cells": [
  {
   "cell_type": "code",
   "execution_count": 11,
   "metadata": {},
   "outputs": [
    {
     "ename": "SyntaxError",
     "evalue": "invalid syntax (4181321024.py, line 17)",
     "output_type": "error",
     "traceback": [
      "\u001b[0;36m  Cell \u001b[0;32mIn[11], line 17\u001b[0;36m\u001b[0m\n\u001b[0;31m    prompt \"dog with the man in the park cat \"\u001b[0m\n\u001b[0m           ^\u001b[0m\n\u001b[0;31mSyntaxError\u001b[0m\u001b[0;31m:\u001b[0m invalid syntax\n"
     ]
    }
   ],
   "source": [
    "from holodeck import generate_image\n",
    "import PIL.Image as Image\n",
    "\n",
    "p1 = \"\"\"The entire Cobalt Building of Machines is visible. Machines with intricate cogs and tubes, steampunk pipes, and colorful cobalt energy coursing through them on background of the bustling futuristic city with flying cars during the afternoon with warm lighting. nvinkpunk\"\"\"\n",
    "\n",
    "prompt = \"\"\"\n",
    "nvinkpunk, hovering drone\n",
    "\"\"\"\n",
    "\n",
    "negative = \"\"\"\n",
    "Scribbles,Low quality,Low rated,Mediocre,3D rendering,Screenshot,Software,UI,((watermark)),(text),(overlay),getty images,(cropped),low quality,worst quality\n",
    "\"\"\"\n",
    "\n",
    "# negative = \"\"\n",
    "\n",
    "# prompt = \"long shot of a cyberpunk village \"\n",
    "prompt = \"dog with the man in the park cat \"\n",
    "x = await generate_image(prompt, negative)\n",
    "Image.open(x)\n"
   ]
  },
  {
   "cell_type": "code",
   "execution_count": null,
   "metadata": {},
   "outputs": [],
   "source": []
  },
  {
   "cell_type": "code",
   "execution_count": null,
   "metadata": {},
   "outputs": [],
   "source": []
  }
 ],
 "metadata": {
  "kernelspec": {
   "display_name": ".venv",
   "language": "python",
   "name": "python3"
  },
  "language_info": {
   "codemirror_mode": {
    "name": "ipython",
    "version": 3
   },
   "file_extension": ".py",
   "mimetype": "text/x-python",
   "name": "python",
   "nbconvert_exporter": "python",
   "pygments_lexer": "ipython3",
   "version": "3.10.6"
  },
  "orig_nbformat": 4
 },
 "nbformat": 4,
 "nbformat_minor": 2
}
