{
 "cells": [
  {
   "cell_type": "code",
   "execution_count": 6,
   "metadata": {},
   "outputs": [
    {
     "name": "stdout",
     "output_type": "stream",
     "text": [
      "The gpt extension is already loaded. To reload it, use:\n",
      "  %reload_ext gpt\n"
     ]
    }
   ],
   "source": [
    "%load_ext gpt\n"
   ]
  },
  {
   "cell_type": "code",
   "execution_count": 12,
   "metadata": {},
   "outputs": [
    {
     "data": {
      "text/markdown": [
       "Sure, here's a Python code block that generates a random PNG filename and returns its full path:"
      ],
      "text/plain": [
       "<IPython.core.display.Markdown object>"
      ]
     },
     "metadata": {},
     "output_type": "display_data"
    }
   ],
   "source": [
    "%gpt output_file_path =  full path of random *.png filename from ../.images/"
   ]
  },
  {
   "cell_type": "code",
   "execution_count": null,
   "metadata": {},
   "outputs": [],
   "source": [
    "import os\n",
    "import random\n",
    "import string\n",
    "\n",
    "# Define the path to the images directory\n",
    "images_dir = \"../.images/\"\n",
    "\n",
    "# Generate a random filename\n",
    "filename = ''.join(random.choices(string.ascii_lowercase + string.digits, k=10)) + \".png\"\n",
    "\n",
    "# Combine the images directory path and the filename to get the full path\n",
    "output_file_path = os.path.join(images_dir, filename)\n",
    "\n",
    "# Print the full path\n",
    "print(output_file_path)"
   ]
  },
  {
   "cell_type": "code",
   "execution_count": 11,
   "metadata": {},
   "outputs": [
    {
     "name": "stdout",
     "output_type": "stream",
     "text": [
      "Central Market.jpg\n"
     ]
    }
   ],
   "source": [
    "import os\n",
    "import random\n",
    "\n",
    "# Set the directory path\n",
    "dir_path = \"../.images/\"\n",
    "\n",
    "# Get all the files in the directory\n",
    "files = os.listdir(dir_path)\n",
    "\n",
    "# Filter the files to only include PNG files\n",
    "png_files = [f for f in files if f.endswith('.png')]\n",
    "\n",
    "# Get a random PNG file from the list\n",
    "input_pa = random.choice(png_files)\n",
    "\n",
    "# Print the random file name\n",
    "print(random_file)"
   ]
  },
  {
   "cell_type": "code",
   "execution_count": 5,
   "metadata": {},
   "outputs": [
    {
     "ename": "IndexError",
     "evalue": "list index out of range",
     "output_type": "error",
     "traceback": [
      "\u001b[0;31m---------------------------------------------------------------------------\u001b[0m",
      "\u001b[0;31mIndexError\u001b[0m                                Traceback (most recent call last)",
      "Cell \u001b[0;32mIn[5], line 14\u001b[0m\n\u001b[1;32m     11\u001b[0m png_files \u001b[39m=\u001b[39m [f \u001b[39mfor\u001b[39;00m f \u001b[39min\u001b[39;00m all_files \u001b[39mif\u001b[39;00m f\u001b[39m.\u001b[39mendswith(\u001b[39m'\u001b[39m\u001b[39m.png\u001b[39m\u001b[39m'\u001b[39m)]\n\u001b[1;32m     13\u001b[0m \u001b[39m# Get a random filename from the list of .png files\u001b[39;00m\n\u001b[0;32m---> 14\u001b[0m random_filename \u001b[39m=\u001b[39m random\u001b[39m.\u001b[39;49mchoice(png_files)\n\u001b[1;32m     16\u001b[0m \u001b[39m# Print the random filename\u001b[39;00m\n\u001b[1;32m     17\u001b[0m \u001b[39mprint\u001b[39m(random_filename)\n",
      "File \u001b[0;32m/usr/lib/python3.10/random.py:378\u001b[0m, in \u001b[0;36mRandom.choice\u001b[0;34m(self, seq)\u001b[0m\n\u001b[1;32m    376\u001b[0m \u001b[39m\u001b[39m\u001b[39m\"\"\"Choose a random element from a non-empty sequence.\"\"\"\u001b[39;00m\n\u001b[1;32m    377\u001b[0m \u001b[39m# raises IndexError if seq is empty\u001b[39;00m\n\u001b[0;32m--> 378\u001b[0m \u001b[39mreturn\u001b[39;00m seq[\u001b[39mself\u001b[39;49m\u001b[39m.\u001b[39;49m_randbelow(\u001b[39mlen\u001b[39;49m(seq))]\n",
      "\u001b[0;31mIndexError\u001b[0m: list index out of range"
     ]
    }
   ],
   "source": [
    "import os\n",
    "import random\n",
    "\n",
    "# Set the directory path\n",
    "dir_path = \"../.images/\"\n",
    "\n",
    "# Get all the filenames in the directory\n",
    "all_files = os.listdir(dir_path)\n",
    "\n",
    "# Filter the filenames to only include .png files\n",
    "png_files = [f for f in all_files if f.endswith('.png')]\n",
    "\n",
    "# Get a random filename from the list of .png files\n",
    "random_filename = random.choice(png_files)\n",
    "\n",
    "# Print the random filename\n",
    "print(random_filename)"
   ]
  },
  {
   "cell_type": "code",
   "execution_count": 1,
   "metadata": {},
   "outputs": [
    {
     "ename": "FileNotFoundError",
     "evalue": "[Errno 2] No such file or directory: 'input.png'",
     "output_type": "error",
     "traceback": [
      "\u001b[0;31m---------------------------------------------------------------------------\u001b[0m",
      "\u001b[0;31mFileNotFoundError\u001b[0m                         Traceback (most recent call last)",
      "Cell \u001b[0;32mIn[1], line 7\u001b[0m\n\u001b[1;32m      4\u001b[0m input_path \u001b[39m=\u001b[39m \u001b[39m'\u001b[39m\u001b[39minput.png\u001b[39m\u001b[39m'\u001b[39m\n\u001b[1;32m      5\u001b[0m output_path \u001b[39m=\u001b[39m \u001b[39m'\u001b[39m\u001b[39moutput.png\u001b[39m\u001b[39m'\u001b[39m\n\u001b[0;32m----> 7\u001b[0m \u001b[39minput\u001b[39m \u001b[39m=\u001b[39m Image\u001b[39m.\u001b[39;49mopen(input_path)\n\u001b[1;32m      8\u001b[0m output \u001b[39m=\u001b[39m remove(\u001b[39minput\u001b[39m)\n\u001b[1;32m      9\u001b[0m output\u001b[39m.\u001b[39msave(output_path)\n",
      "File \u001b[0;32m~/Holodeck/.venv/lib/python3.10/site-packages/PIL/Image.py:3236\u001b[0m, in \u001b[0;36mopen\u001b[0;34m(fp, mode, formats)\u001b[0m\n\u001b[1;32m   3233\u001b[0m     filename \u001b[39m=\u001b[39m fp\n\u001b[1;32m   3235\u001b[0m \u001b[39mif\u001b[39;00m filename:\n\u001b[0;32m-> 3236\u001b[0m     fp \u001b[39m=\u001b[39m builtins\u001b[39m.\u001b[39;49mopen(filename, \u001b[39m\"\u001b[39;49m\u001b[39mrb\u001b[39;49m\u001b[39m\"\u001b[39;49m)\n\u001b[1;32m   3237\u001b[0m     exclusive_fp \u001b[39m=\u001b[39m \u001b[39mTrue\u001b[39;00m\n\u001b[1;32m   3239\u001b[0m \u001b[39mtry\u001b[39;00m:\n",
      "\u001b[0;31mFileNotFoundError\u001b[0m: [Errno 2] No such file or directory: 'input.png'"
     ]
    }
   ],
   "source": [
    "from rembg import remove\n",
    "from PIL import Image\n",
    "\n",
    "input_path = 'input.png'\n",
    "output_path = 'output.png'\n",
    "\n",
    "input = Image.open(input_path)\n",
    "output = remove(input)\n",
    "output.save(output_path)"
   ]
  },
  {
   "cell_type": "code",
   "execution_count": null,
   "metadata": {},
   "outputs": [],
   "source": []
  }
 ],
 "metadata": {
  "kernelspec": {
   "display_name": ".venv",
   "language": "python",
   "name": "python3"
  },
  "language_info": {
   "codemirror_mode": {
    "name": "ipython",
    "version": 3
   },
   "file_extension": ".py",
   "mimetype": "text/x-python",
   "name": "python",
   "nbconvert_exporter": "python",
   "pygments_lexer": "ipython3",
   "version": "3.10.6"
  },
  "orig_nbformat": 4
 },
 "nbformat": 4,
 "nbformat_minor": 2
}
