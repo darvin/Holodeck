{
 "cells": [
  {
   "attachments": {},
   "cell_type": "markdown",
   "metadata": {},
   "source": [
    "## Prompts for locations"
   ]
  },
  {
   "cell_type": "code",
   "execution_count": 1,
   "metadata": {},
   "outputs": [],
   "source": [
    "location_prompts = [\n",
    "    \"steampunk city with skyscrapers\",\n",
    "    \"cyberpunk village in Japanese rustic style\",\n",
    "    \"fantasy dungeons and dragons\",\n",
    "    \"noir city from 1930s\",\n",
    "    \"StarTrek inspired spaceship\",\n",
    "    \"undeground mine of goblins\",\n",
    "    \"SuperMario style magic land plain\",\n",
    "    \"SuperMario style magic land beach\",\n",
    "]"
   ]
  },
  {
   "attachments": {},
   "cell_type": "markdown",
   "metadata": {},
   "source": [
    "## Generating locations "
   ]
  },
  {
   "cell_type": "code",
   "execution_count": 2,
   "metadata": {},
   "outputs": [
    {
     "name": "stderr",
     "output_type": "stream",
     "text": [
      "Generating locations:   0%|          | 0/8 [00:00<?, ?it/s]"
     ]
    },
    {
     "name": "stdout",
     "output_type": "stream",
     "text": [
      "<\n",
      "{'name': \"Goblin's Mine\", 'description': 'A deep underground system of tunnels and ladders, with a few openings visible in the mountainside, leading down to the mine. The entrances are guarded by a group of goblins.\\n', 'buildings': [{'name': \"Goblin's Entrances\", 'description': \"The guarded entrances to the Goblin's Mine.\", 'enterable': True}], 'ways': [{'name': 'Chasm', 'description': 'A deep chasm that surrounds the mine on all sides. Not even the goblins can cross it.'}]}\n",
      "\n",
      "<\n",
      "{'name': 'Starwrecker', 'description': 'A derelict starship, ancient and powerful, nestled among the jagged rocks at the bottom of a deep ravine. Heat and smoke rise from the twisted remains of its engines, and a few fragments remain of its glorious hull. The ship is surrounded by a dense forest of tall trees. \\n', 'buildings': [{'name': 'Starwrecker Hull', 'description': 'The few scraps of the hull that remain, strewn among the wreckage.', 'enterable': True}, {'name': 'Broken Engines', 'description': \"The twisted, charred remains of the starship's once powerful engines.\"}], 'ways': [{'name': 'Path to the Top', 'description': 'A narrow path leading up from the ravine to the forest above.'}]}\n",
      "<\n",
      "{'name': 'Brick Hill', 'description': \"A vivid, SuperMario-style plain swathed in a blanket of greenery and dotted with tiny brick castles that reach up to the sky. The land gradually slopes downward in all directions, culminating in a large lake in the south surrounded by a brick wall. There is a path on the lake's western side that leads to a castle courtyard.\\n\", 'buildings': [{'name': 'Tiny Brick Castles', 'description': 'Carefully constructed castles that are a part of the landscape are sure to spark awe in any adventurer.'}, {'name': 'Lake Wall', 'description': 'A towering brick wall that encircles the lake. Unclimbable!'}], 'ways': [{'name': 'Lake Path', 'description': 'A winding path that leads to the castle courtyard.'}, {'name': 'Western Road', 'description': 'A dusty road that leads to a village in the distance.'}]}\n",
      "\n",
      "\n",
      "<\n",
      "{'name': \"Mario's Beach\", 'description': 'A tranquil beach sprinkled with star dust and filled with brilliant blue waters. The ocean is alive with dolphins and the air is full of colourful butterflies. There are tall palm trees on the sandy shore and a few buildings nearby.\\n', 'buildings': [{'name': 'Multi-Coloured Seashell Inn', 'description': \"A quaint inn with a thatched roof and walls made from multi-coloured seashells. Customers can stay in a room or eat at the inn's restaurant.\", 'enterable': True}, {'name': 'Starry Shoppe', 'description': 'A magical shop with star-shaped windows and walls. Inside there are items from all corners of the magical land.', 'enterable': True}, {'name': \"Mario's Bungalow\", 'description': \"Mario's famous beach bungalow. It is made from a mixture of shells, driftwood and star dust.\", 'enterable': True}], 'ways': [{'name': \"Road to Mario's hill\", 'description': 'A rocky path that leads to a hill covered in star dust.'}]}\n",
      "\n",
      "<\n",
      "{'name': \"Fantasy Dungeon of Dragon's Keep\", 'description': 'A vast expanse of rocky terrain, with a single mountain rising up out of the ground. On the mountain, perched atop a cliff, is a large castle of dark stone, with a single entrance guarded by a dragon. The dragon protects a labyrinth of winding tunnels and chambers, filled with traps and mysterious creatures.', 'buildings': [{'name': \"Dragon's Keep\", 'description': 'The castle of dark stone, guarded by a single dragon. The entrance is gated with an iron portcullis.', 'enterable': True}, {'name': 'Castle wall', 'description': 'An impenetrable wall surrounds the entrance of the castle.'}], 'ways': [{'name': 'Path to South', 'description': 'A winding path leads away from the castle and into the rocky terrain.'}, {'name': 'Depth of Dungeon', 'description': 'A deep and dangerous labyrinth of tunnels and chambers filled with traps and mysterious creatures.'}]}\n",
      "\n",
      "<\n",
      "{'name': 'Noir City 1930s', 'description': 'A large bustling city dripping with fog. On the north side of the city lies the industrial district, with smoking chimney stacks and slums, while on the south side lies the wealthy business quarter. The east of the city leads to a port on the shore and the west leads to a dark forest.\\n', 'buildings': [{'name': 'Industrial District', 'description': 'A dirty district full of smoking chimney stacks and slums.'}, {'name': 'Business Quarter', 'description': 'A wealthy quarter, with tall buildings and a high-end shopping centre.'}, {'name': 'Port', 'description': 'A murky port on the shore, full of boats and warehouses.'}], 'ways': [{'name': 'Road to West', 'description': 'A road that leads to a dark forest.'}, {'name': 'Road to East', 'description': 'A road that leads to a murky port.'}]}\n",
      "\n",
      "<\n",
      "{'name': 'Steampunk City', 'description': 'A city of tall, smoke-filled steel skyscrapers. The city is alive with the sound of steaming engines and clanging gears. There is a thick fog rising from the river that runs through the city.\\n', 'buildings': [{'name': 'Power Station', 'description': 'A massive generator that powers the entire city. It is surrounded by a metal fence and guarded by mechanical sentries.', 'enterable': True}, {'name': 'Toll Booth', 'description': 'A large toll booth manned by workers. You can pay a small fee to travel through the city.'}, {'name': 'Clocktower', 'description': 'The city’s clocktower, a tall metal tower with a clock at the top. It seems to keep perfect time. '}], 'ways': [{'name': 'River Passage', 'description': 'A narrow passage along the river, with a bridge crossing in the middle.'}, {'name': 'Main Road', 'description': 'The main road through the city. It is full of steam-powered carriages and people on foot.'}]}\n",
      "\n",
      "<\n",
      "{'name': 'Toshigawa Cyber Village', 'description': 'A small, traditional Japanese village surrounded by rusting factories and warehouses. The buildings are made of wood and paper, with a few modern fixtures. The smell of ozone is strong in the air.\\n', 'buildings': [{'name': 'Abandoned Factory', 'description': 'A large, rusted factory that has been abandoned for years. The windows have been smashed and the machinery is broken.\\n', 'enterable': True}, {'name': 'Paper House', 'description': 'A traditional Japanese house made of paper and wood. It is well-kept and appears to be inhabited.\\n', 'enterable': True}, {'name': 'Junk Yard', 'description': 'A junkyard filled with old electronics and other cyberpunk paraphernalia.\\n', 'enterable': True}], 'ways': [{'name': 'Road To North', 'description': 'A road leading to the north of town.\\n'}, {'name': 'Road To East', 'description': 'A road leading to the east of town.\\n'}]}\n",
      "\n",
      "<\n",
      "[{'probability': 0.3, 'description': \"Upon arrival at the Goblin's Mine, you find an abandoned shoemaker's workshop.\", 'actions': [{'type': 'building', 'name': 'Abandoned Workshop', 'description': 'An old, abandoned workshop near the mine entrance.'}], 'trigger': {'type': 'building', 'building': \"Goblin's Entrances\"}}, {'probability': 0.1, 'description': 'You spot a group of tiny goblins riding on the back of bats!', 'actions': [{'type': 'critter', 'name': 'Goblins on Bats', 'description': 'A group of tiny goblins, riding on the back of bats.'}], 'trigger': {'type': 'way', 'way': 'Chasm'}}, {'probability': 0.05, 'description': 'As you make your way around the chasm, you spot a shining chest of valuables!', 'actions': [{'type': 'item', 'name': 'Shining Chest'}]}]\n",
      "\n",
      "<\n",
      "[{'probability': 0.1, 'description': \"As you travel down the path to the Starship's remains, you stumble upon a small pile of treasures\", 'actions': [{'type': 'item', 'name': 'Treasures', 'description': 'A small pile of coins, jewelry, and other treasures'}], 'trigger': {'type': 'way', 'way': 'Path to the Top'}}, {'probability': 0.2, 'description': \"As you approach the ship's hull, you hear strange noises coming from within\", 'actions': [{'type': 'character', 'name': 'Space Rats', 'description': 'Small, rat-like creatures scurrying around inside the hull of the ship'}], 'trigger': {'type': 'building', 'building': 'Starwrecker Hull'}}, {'probability': 0.05, 'description': 'As you approach the engines, you hear a loud hum coming from within', 'actions': [{'type': 'critter', 'name': 'Robot'}]}]\n",
      "\n",
      "<\n",
      "[{'probability': 0.1, 'description': 'On Western Road you stumble across a caravan of nomads', 'actions': [{'type': 'character', 'name': 'Nomad Caravan', 'description': 'A group of nomads travelling the plains in search of adventure'}], 'trigger': {'type': 'way', 'way': 'Western Road'}}, {'probability': 0.2, 'description': 'On the path to the castle courtyard, you find a mysterious artifact', 'actions': [{'type': 'item', 'name': 'Mysterious Artifact', 'description': 'A strange artifact with unknown powers'}], 'trigger': {'type': 'way', 'way': 'Lake Path'}}, {'probability': 0.3, 'description': 'As you explore the tiny brick castles, you find yourself surrounded by bats', 'actions': [{'type': 'critter', 'name': 'Bats', 'description': 'Large colony of bats. Not aggressive unless provoked.'}], 'trigger': {'type': 'building'}}]\n",
      "\n",
      "<\n",
      "[{'probability': 0.05, 'description': 'A group of beautiful dolphins swim near the shore.', 'actions': [{'type': 'critter', 'name': 'Dolphins', 'description': 'A group of beautiful dolphins swimming near the shore. Not aggressive unless provoked.'}]}, {'probability': 0.1, 'description': 'A flurry of colorful butterflies fluttering in the air.', 'actions': [{'type': 'critter', 'name': 'Butterflies', 'description': 'A flurry of colorful butterflies fluttering in the air. Not aggressive.'}]}, {'probability': 0.2, 'description': 'You see a sparkling pearl on one of the seashells of the inn.', 'actions': [{'type': 'item', 'name': 'Sparkling Pearl', 'description': 'A beautiful sparkling pearl hidden in one of the seashells. Could be valuable.'}], 'trigger': {'type': 'building', 'building': 'Multi-Coloured Seashell Inn'}}, {'probability': 0.3}]\n",
      "\n",
      "<\n",
      "[{'probability': 0.1, 'description': 'As you approach the castle, you see a small stream flowing out of a crevice in the rocks.', 'actions': [{'type': 'item', 'name': 'Magical Potion', 'description': 'A glowing magical potion, which emits a faint light.'}], 'trigger': [{'type': 'location'}]}, {'probability': 0.3, 'description': 'As you draw near to the gate of the castle, the dragon roars in warning.', 'actions': [{'type': 'character', 'name': 'Dragon', 'description': 'A fearsome dragon, guarding the entrance to the castle. It will only attack those who attempt to enter the castle uninvited.'}], 'trigger': [{'type': 'building', 'building': \"Dragon's Keep\"}]}, {'probability': 0.02, 'description': 'As you walk the path to the south, you find a small clearing with a strange array of mysterious stones.', 'actions': [{'type': 'building', 'name': 'Mysterious Stones'}]}]\n",
      "\n",
      "Error:  list indices must be integers or slices, not str\n"
     ]
    },
    {
     "name": "stderr",
     "output_type": "stream",
     "text": [
      "Traceback (most recent call last):\n",
      "  File \"/tmp/ipykernel_24014/2627030779.py\", line 14, in generate_location\n",
      "    location = initialize_location(location_dict, encounters_list)\n",
      "  File \"/home/standard/Holodeck/holodeck/game_objects.py\", line 184, in initialize_location\n",
      "    trigger_type = encounter_dict['trigger']['type']\n",
      "TypeError: list indices must be integers or slices, not str\n",
      "Generating locations:  12%|█▎        | 1/8 [00:09<01:07,  9.71s/it]"
     ]
    },
    {
     "name": "stdout",
     "output_type": "stream",
     "text": [
      "<\n",
      "[{'probability': 0.1, 'description': 'On the river passage, you encounter a group of mysterious thieves who offer you a chance to join their gang!', 'actions': [{'type': 'character', 'name': 'Mysterious Thieves', 'description': 'A group of unknown thieves who are looking for new members to join their gang.'}], 'trigger': {'type': 'way', 'way': 'River Passage'}}, {'probability': 0.2, 'description': 'As you travel along the main road, you stumble upon a broken steam-powered carriage with a desperate driver.', 'actions': [{'type': 'character', 'name': 'Desperate Driver', 'description': 'A desperate driver who is trying to repair his steam-powered carriage.'}], 'trigger': {'type': 'way', 'way': 'Main Road'}}, {'probability': 0.3, 'description': 'At the power station you find a group of robotic guards patrolling the facility', 'actions': [{'type': 'critter', 'name': 'Robotic Guards'}]}]\n",
      "\n"
     ]
    },
    {
     "name": "stderr",
     "output_type": "stream",
     "text": [
      "Generating locations: 100%|██████████| 8/8 [00:10<00:00,  1.27s/it]"
     ]
    },
    {
     "name": "stdout",
     "output_type": "stream",
     "text": [
      "<\n",
      "[{'probability': 0.2, 'description': 'On the road to the east, you see a shady figure in a hooded cloak.', 'actions': [{'type': 'character', 'name': 'Shady Figure', 'description': 'A hooded figure in a dark cloak, lurking in the shadows of the street lamps.'}], 'trigger': {'type': 'way', 'way': 'Road to East'}}, {'probability': 0.1, 'description': 'As you enter the industrial district, you hear a piercing whistle.', 'actions': [{'type': 'character', 'name': 'Mysterious Whistler', 'description': 'An unseen figure, whistling an eerie tune that echoes through the district.'}], 'trigger': {'type': 'building', 'building': 'Industrial District'}}, {'probability': 0.05, 'description': 'As you approach the port, you see a shadowy figure in the fog.', 'actions': [{'type': 'character', 'name': 'Shadowy Figure'}]}]\n",
      "\n",
      "<\n",
      "[{'probability': 0.2, 'description': 'As you enter the cyber village, you hear a strange whirring sound coming from the abandoned factory.', 'actions': [{'type': 'building', 'name': 'Suspicious drone', 'description': 'A small suspicious drone hovering near the factory entrance.'}], 'trigger': {'type': 'location'}}, {'probability': 0.2, 'description': 'As you walk along the road to the East, you encounter a group of travellers on their way to the city.', 'actions': [{'type': 'character', 'name': 'Travellers', 'description': 'A group of weary travellers, carrying all of their belongings on their backs.'}], 'trigger': {'type': 'way', 'way': 'Road To East'}}, {'probability': 0.1, 'description': 'As you walk through the junkyard, you find a strange-looking robot, dormant in the corner.', 'actions': [{'type': 'critter', 'name': 'Dormant robot'}]}]\n",
      "\n"
     ]
    },
    {
     "name": "stderr",
     "output_type": "stream",
     "text": [
      "\n"
     ]
    },
    {
     "data": {
      "text/plain": [
       "[<holodeck.game_objects.Location at 0x7f4d94543f10>,\n",
       " <holodeck.game_objects.Location at 0x7f4d94543e50>,\n",
       " <holodeck.game_objects.Location at 0x7f4d94543fa0>,\n",
       " <holodeck.game_objects.Location at 0x7f4d945ad750>,\n",
       " <holodeck.game_objects.Location at 0x7f4d945af610>,\n",
       " <holodeck.game_objects.Location at 0x7f4d945ad870>,\n",
       " <holodeck.game_objects.Location at 0x7f4d945ae1a0>]"
      ]
     },
     "execution_count": 2,
     "metadata": {},
     "output_type": "execute_result"
    }
   ],
   "source": [
    "from holodeck import initialize_location\n",
    "from holodeck import generate_location_and_encounters\n",
    "import os\n",
    "from tqdm.notebook import tqdm\n",
    "import traceback\n",
    "\n",
    "import concurrent.futures\n",
    "from tqdm import tqdm\n",
    "\n",
    "def generate_location(prompt):\n",
    "    location_dict, encounters_list = generate_location_and_encounters(prompt)\n",
    "    if location_dict:\n",
    "        try:\n",
    "            location = initialize_location(location_dict, encounters_list)\n",
    "            return location\n",
    "        except Exception as e:\n",
    "            print(\"Error: \", e)\n",
    "            traceback.print_exc()\n",
    "    else:\n",
    "        print(f\"GENERATING FROM '{prompt}' failed!\")\n",
    "        return None\n",
    "\n",
    "locations = []\n",
    "with concurrent.futures.ThreadPoolExecutor(max_workers=os.cpu_count()) as executor:\n",
    "    results = list(tqdm(executor.map(generate_location, location_prompts), total=len(location_prompts), desc=\"Generating locations\"))\n",
    "    locations += [r for r in results if r is not None]\n",
    "\n",
    "\n",
    "\n",
    "locations"
   ]
  },
  {
   "attachments": {},
   "cell_type": "markdown",
   "metadata": {},
   "source": [
    "## Generate Image Prompts"
   ]
  },
  {
   "cell_type": "code",
   "execution_count": 3,
   "metadata": {},
   "outputs": [
    {
     "name": "stderr",
     "output_type": "stream",
     "text": [
      "Locations: 7it [00:01,  3.80it/s]\n"
     ]
    }
   ],
   "source": [
    "from holodeck.gpt_text import \\\n",
    "        generate_object_image_prompt, \\\n",
    "        generate_building_image_prompt, \\\n",
    "        generate_location_image_prompt\n",
    "\n",
    "from concurrent.futures import ThreadPoolExecutor\n",
    "from tqdm import tqdm\n",
    "\n",
    "locations_prompts = []\n",
    "objects_image_prompts = []\n",
    "buildings_image_prompts = []\n",
    "\n",
    "def generate_location_images(location):\n",
    "    return (location, generate_location_image_prompt(location))\n",
    "\n",
    "def generate_object_images(location):\n",
    "    prompts = []\n",
    "    for o in location.objects:\n",
    "        prompts.append((o, generate_object_image_prompt(o, location)))\n",
    "    return prompts\n",
    "\n",
    "def generate_building_images(location):\n",
    "    prompts = []\n",
    "    for b in location.all_buildings:\n",
    "        prompts.append((b, generate_building_image_prompt(b, location)))\n",
    "    return prompts\n",
    "\n",
    "with ThreadPoolExecutor() as executor:\n",
    "    location_image_futures = list(tqdm(executor.map(generate_location_images, locations), desc=\"Locations\"))\n",
    "    object_image_futures = [executor.submit(generate_object_images, location) for location in locations]\n",
    "    building_image_futures = [executor.submit(generate_building_images, location) for location in locations]\n",
    "\n",
    "    for location, prompt in location_image_futures:\n",
    "        locations_prompts.append((location, prompt))\n",
    "    for f in object_image_futures:\n",
    "        for prompt in f.result():\n",
    "            objects_image_prompts.append(prompt)\n",
    "    for f in building_image_futures:\n",
    "        for prompt in f.result():\n",
    "            buildings_image_prompts.append(prompt)\n",
    "\n",
    "\n"
   ]
  },
  {
   "attachments": {},
   "cell_type": "markdown",
   "metadata": {},
   "source": [
    "## Generate Images"
   ]
  },
  {
   "cell_type": "code",
   "execution_count": 4,
   "metadata": {},
   "outputs": [
    {
     "name": "stderr",
     "output_type": "stream",
     "text": [
      "Images:   0%|          | 0/38 [00:00<?, ?it/s]"
     ]
    },
    {
     "data": {
      "text/markdown": [
       "### Steampunk City"
      ],
      "text/plain": [
       "<IPython.core.display.Markdown object>"
      ]
     },
     "metadata": {},
     "output_type": "display_data"
    },
    {
     "data": {
      "text/markdown": [
       "\n",
       "An aerial photograph of a cityscape with a Power Station, Toll Booth, and Clocktower during nightfall with infrared thermal imaging using an Olympus OM-D E-M5 Mark III — at 16:9. vinkpunk"
      ],
      "text/plain": [
       "<IPython.core.display.Markdown object>"
      ]
     },
     "metadata": {},
     "output_type": "display_data"
    },
    {
     "ename": "ValueError",
     "evalue": "Could not save to PNG for display",
     "output_type": "error",
     "traceback": [
      "\u001b[0;31m---------------------------------------------------------------------------\u001b[0m",
      "\u001b[0;31mValueError\u001b[0m                                Traceback (most recent call last)",
      "File \u001b[0;32m~/Holodeck/.venv/lib/python3.10/site-packages/PIL/Image.py:680\u001b[0m, in \u001b[0;36mImage._repr_png_\u001b[0;34m(self)\u001b[0m\n\u001b[1;32m    679\u001b[0m \u001b[39mtry\u001b[39;00m:\n\u001b[0;32m--> 680\u001b[0m     \u001b[39mself\u001b[39;49m\u001b[39m.\u001b[39;49msave(b, \u001b[39m\"\u001b[39;49m\u001b[39mPNG\u001b[39;49m\u001b[39m\"\u001b[39;49m)\n\u001b[1;32m    681\u001b[0m \u001b[39mexcept\u001b[39;00m \u001b[39mException\u001b[39;00m \u001b[39mas\u001b[39;00m e:\n",
      "File \u001b[0;32m~/Holodeck/.venv/lib/python3.10/site-packages/PIL/Image.py:2395\u001b[0m, in \u001b[0;36mImage.save\u001b[0;34m(self, fp, format, **params)\u001b[0m\n\u001b[1;32m   2394\u001b[0m \u001b[39m# may mutate self!\u001b[39;00m\n\u001b[0;32m-> 2395\u001b[0m \u001b[39mself\u001b[39;49m\u001b[39m.\u001b[39;49m_ensure_mutable()\n\u001b[1;32m   2397\u001b[0m save_all \u001b[39m=\u001b[39m params\u001b[39m.\u001b[39mpop(\u001b[39m\"\u001b[39m\u001b[39msave_all\u001b[39m\u001b[39m\"\u001b[39m, \u001b[39mFalse\u001b[39;00m)\n",
      "File \u001b[0;32m~/Holodeck/.venv/lib/python3.10/site-packages/PIL/Image.py:610\u001b[0m, in \u001b[0;36mImage._ensure_mutable\u001b[0;34m(self)\u001b[0m\n\u001b[1;32m    609\u001b[0m \u001b[39mif\u001b[39;00m \u001b[39mself\u001b[39m\u001b[39m.\u001b[39mreadonly:\n\u001b[0;32m--> 610\u001b[0m     \u001b[39mself\u001b[39;49m\u001b[39m.\u001b[39;49m_copy()\n\u001b[1;32m    611\u001b[0m \u001b[39melse\u001b[39;00m:\n",
      "File \u001b[0;32m~/Holodeck/.venv/lib/python3.10/site-packages/PIL/Image.py:603\u001b[0m, in \u001b[0;36mImage._copy\u001b[0;34m(self)\u001b[0m\n\u001b[1;32m    602\u001b[0m \u001b[39mdef\u001b[39;00m \u001b[39m_copy\u001b[39m(\u001b[39mself\u001b[39m):\n\u001b[0;32m--> 603\u001b[0m     \u001b[39mself\u001b[39;49m\u001b[39m.\u001b[39;49mload()\n\u001b[1;32m    604\u001b[0m     \u001b[39mself\u001b[39m\u001b[39m.\u001b[39mim \u001b[39m=\u001b[39m \u001b[39mself\u001b[39m\u001b[39m.\u001b[39mim\u001b[39m.\u001b[39mcopy()\n",
      "File \u001b[0;32m~/Holodeck/.venv/lib/python3.10/site-packages/PIL/ImageFile.py:236\u001b[0m, in \u001b[0;36mImageFile.load\u001b[0;34m(self)\u001b[0m\n\u001b[1;32m    235\u001b[0m \u001b[39mfor\u001b[39;00m decoder_name, extents, offset, args \u001b[39min\u001b[39;00m \u001b[39mself\u001b[39m\u001b[39m.\u001b[39mtile:\n\u001b[0;32m--> 236\u001b[0m     seek(offset)\n\u001b[1;32m    237\u001b[0m     decoder \u001b[39m=\u001b[39m Image\u001b[39m.\u001b[39m_getdecoder(\n\u001b[1;32m    238\u001b[0m         \u001b[39mself\u001b[39m\u001b[39m.\u001b[39mmode, decoder_name, args, \u001b[39mself\u001b[39m\u001b[39m.\u001b[39mdecoderconfig\n\u001b[1;32m    239\u001b[0m     )\n",
      "\u001b[0;31mValueError\u001b[0m: I/O operation on closed file.",
      "\nThe above exception was the direct cause of the following exception:\n",
      "\u001b[0;31mValueError\u001b[0m                                Traceback (most recent call last)",
      "File \u001b[0;32m~/Holodeck/.venv/lib/python3.10/site-packages/IPython/core/formatters.py:344\u001b[0m, in \u001b[0;36mBaseFormatter.__call__\u001b[0;34m(self, obj)\u001b[0m\n\u001b[1;32m    342\u001b[0m     method \u001b[39m=\u001b[39m get_real_method(obj, \u001b[39mself\u001b[39m\u001b[39m.\u001b[39mprint_method)\n\u001b[1;32m    343\u001b[0m     \u001b[39mif\u001b[39;00m method \u001b[39mis\u001b[39;00m \u001b[39mnot\u001b[39;00m \u001b[39mNone\u001b[39;00m:\n\u001b[0;32m--> 344\u001b[0m         \u001b[39mreturn\u001b[39;00m method()\n\u001b[1;32m    345\u001b[0m     \u001b[39mreturn\u001b[39;00m \u001b[39mNone\u001b[39;00m\n\u001b[1;32m    346\u001b[0m \u001b[39melse\u001b[39;00m:\n",
      "File \u001b[0;32m~/Holodeck/.venv/lib/python3.10/site-packages/PIL/Image.py:683\u001b[0m, in \u001b[0;36mImage._repr_png_\u001b[0;34m(self)\u001b[0m\n\u001b[1;32m    681\u001b[0m \u001b[39mexcept\u001b[39;00m \u001b[39mException\u001b[39;00m \u001b[39mas\u001b[39;00m e:\n\u001b[1;32m    682\u001b[0m     msg \u001b[39m=\u001b[39m \u001b[39m\"\u001b[39m\u001b[39mCould not save to PNG for display\u001b[39m\u001b[39m\"\u001b[39m\n\u001b[0;32m--> 683\u001b[0m     \u001b[39mraise\u001b[39;00m \u001b[39mValueError\u001b[39;00m(msg) \u001b[39mfrom\u001b[39;00m \u001b[39me\u001b[39;00m\n\u001b[1;32m    684\u001b[0m \u001b[39mreturn\u001b[39;00m b\u001b[39m.\u001b[39mgetvalue()\n",
      "\u001b[0;31mValueError\u001b[0m: Could not save to PNG for display"
     ]
    },
    {
     "data": {
      "text/plain": [
       "<PIL.PngImagePlugin.PngImageFile image mode=RGB size=512x512>"
      ]
     },
     "metadata": {},
     "output_type": "display_data"
    },
    {
     "name": "stderr",
     "output_type": "stream",
     "text": [
      "Images:   0%|          | 0/38 [00:10<?, ?it/s]\n"
     ]
    },
    {
     "ename": "ValueError",
     "evalue": "I/O operation on closed file.",
     "output_type": "error",
     "traceback": [
      "\u001b[0;31m---------------------------------------------------------------------------\u001b[0m",
      "\u001b[0;31mValueError\u001b[0m                                Traceback (most recent call last)",
      "Cell \u001b[0;32mIn[4], line 19\u001b[0m\n\u001b[1;32m     17\u001b[0m display(image)\n\u001b[1;32m     18\u001b[0m image_file_name \u001b[39m=\u001b[39m \u001b[39mf\u001b[39m\u001b[39m\"\u001b[39m\u001b[39m.images/\u001b[39m\u001b[39m{\u001b[39;00mobj\u001b[39m.\u001b[39mname\u001b[39m}\u001b[39;00m\u001b[39m.jpg\u001b[39m\u001b[39m\"\u001b[39m\n\u001b[0;32m---> 19\u001b[0m image\u001b[39m.\u001b[39msave(image_file_name)\n\u001b[1;32m     20\u001b[0m image\u001b[39m.\u001b[39mclose()\n\u001b[1;32m     21\u001b[0m images\u001b[39m.\u001b[39mappend((obj, prompt, image_file_name))\n",
      "File \u001b[0;32m~/Holodeck/.venv/lib/python3.10/site-packages/PIL/Image.py:2395\u001b[0m, in \u001b[0;36mImage.save\u001b[0;34m(self, fp, format, **params)\u001b[0m\n\u001b[1;32m   2392\u001b[0m     filename \u001b[39m=\u001b[39m fp\u001b[39m.\u001b[39mname\n\u001b[1;32m   2394\u001b[0m \u001b[39m# may mutate self!\u001b[39;00m\n\u001b[0;32m-> 2395\u001b[0m \u001b[39mself\u001b[39;49m\u001b[39m.\u001b[39;49m_ensure_mutable()\n\u001b[1;32m   2397\u001b[0m save_all \u001b[39m=\u001b[39m params\u001b[39m.\u001b[39mpop(\u001b[39m\"\u001b[39m\u001b[39msave_all\u001b[39m\u001b[39m\"\u001b[39m, \u001b[39mFalse\u001b[39;00m)\n\u001b[1;32m   2398\u001b[0m \u001b[39mself\u001b[39m\u001b[39m.\u001b[39mencoderinfo \u001b[39m=\u001b[39m params\n",
      "File \u001b[0;32m~/Holodeck/.venv/lib/python3.10/site-packages/PIL/Image.py:610\u001b[0m, in \u001b[0;36mImage._ensure_mutable\u001b[0;34m(self)\u001b[0m\n\u001b[1;32m    608\u001b[0m \u001b[39mdef\u001b[39;00m \u001b[39m_ensure_mutable\u001b[39m(\u001b[39mself\u001b[39m):\n\u001b[1;32m    609\u001b[0m     \u001b[39mif\u001b[39;00m \u001b[39mself\u001b[39m\u001b[39m.\u001b[39mreadonly:\n\u001b[0;32m--> 610\u001b[0m         \u001b[39mself\u001b[39;49m\u001b[39m.\u001b[39;49m_copy()\n\u001b[1;32m    611\u001b[0m     \u001b[39melse\u001b[39;00m:\n\u001b[1;32m    612\u001b[0m         \u001b[39mself\u001b[39m\u001b[39m.\u001b[39mload()\n",
      "File \u001b[0;32m~/Holodeck/.venv/lib/python3.10/site-packages/PIL/Image.py:603\u001b[0m, in \u001b[0;36mImage._copy\u001b[0;34m(self)\u001b[0m\n\u001b[1;32m    602\u001b[0m \u001b[39mdef\u001b[39;00m \u001b[39m_copy\u001b[39m(\u001b[39mself\u001b[39m):\n\u001b[0;32m--> 603\u001b[0m     \u001b[39mself\u001b[39;49m\u001b[39m.\u001b[39;49mload()\n\u001b[1;32m    604\u001b[0m     \u001b[39mself\u001b[39m\u001b[39m.\u001b[39mim \u001b[39m=\u001b[39m \u001b[39mself\u001b[39m\u001b[39m.\u001b[39mim\u001b[39m.\u001b[39mcopy()\n\u001b[1;32m    605\u001b[0m     \u001b[39mself\u001b[39m\u001b[39m.\u001b[39mpyaccess \u001b[39m=\u001b[39m \u001b[39mNone\u001b[39;00m\n",
      "File \u001b[0;32m~/Holodeck/.venv/lib/python3.10/site-packages/PIL/ImageFile.py:236\u001b[0m, in \u001b[0;36mImageFile.load\u001b[0;34m(self)\u001b[0m\n\u001b[1;32m    229\u001b[0m \u001b[39mself\u001b[39m\u001b[39m.\u001b[39mtile \u001b[39m=\u001b[39m [\n\u001b[1;32m    230\u001b[0m     \u001b[39mlist\u001b[39m(tiles)[\u001b[39m-\u001b[39m\u001b[39m1\u001b[39m]\n\u001b[1;32m    231\u001b[0m     \u001b[39mfor\u001b[39;00m _, tiles \u001b[39min\u001b[39;00m itertools\u001b[39m.\u001b[39mgroupby(\n\u001b[1;32m    232\u001b[0m         \u001b[39mself\u001b[39m\u001b[39m.\u001b[39mtile, \u001b[39mlambda\u001b[39;00m tile: (tile[\u001b[39m0\u001b[39m], tile[\u001b[39m1\u001b[39m], tile[\u001b[39m3\u001b[39m])\n\u001b[1;32m    233\u001b[0m     )\n\u001b[1;32m    234\u001b[0m ]\n\u001b[1;32m    235\u001b[0m \u001b[39mfor\u001b[39;00m decoder_name, extents, offset, args \u001b[39min\u001b[39;00m \u001b[39mself\u001b[39m\u001b[39m.\u001b[39mtile:\n\u001b[0;32m--> 236\u001b[0m     seek(offset)\n\u001b[1;32m    237\u001b[0m     decoder \u001b[39m=\u001b[39m Image\u001b[39m.\u001b[39m_getdecoder(\n\u001b[1;32m    238\u001b[0m         \u001b[39mself\u001b[39m\u001b[39m.\u001b[39mmode, decoder_name, args, \u001b[39mself\u001b[39m\u001b[39m.\u001b[39mdecoderconfig\n\u001b[1;32m    239\u001b[0m     )\n\u001b[1;32m    240\u001b[0m     \u001b[39mtry\u001b[39;00m:\n",
      "\u001b[0;31mValueError\u001b[0m: I/O operation on closed file."
     ]
    }
   ],
   "source": [
    "from holodeck.gpt_image import generate_image\n",
    "from IPython.display import display, Markdown\n",
    "import PIL.Image as Image\n",
    "\n",
    "img_prompts = locations_prompts + objects_image_prompts + buildings_image_prompts\n",
    "\n",
    "# img_prompts = img_prompts[:9]\n",
    "\n",
    "images = []\n",
    "\n",
    "for obj, prompt in tqdm(img_prompts, desc=\"Images\"):\n",
    "    image_bytes = await generate_image(prompt)\n",
    "    image = Image.open(image_bytes)\n",
    "    display(Markdown(f\"### {obj.name}\"))\n",
    "    display(Markdown(prompt))\n",
    "    display(image)\n",
    "    image_file_name = f\".images/{obj.name}.jpg\"\n",
    "    image.save(image_file_name)\n",
    "    image.close()\n",
    "    image_bytes.close()\n",
    "    del image_bytes\n",
    "    images.append((obj, prompt, image_file_name))\n",
    "\n",
    "len(images)\n"
   ]
  },
  {
   "attachments": {},
   "cell_type": "markdown",
   "metadata": {},
   "source": [
    "## Display Images"
   ]
  },
  {
   "cell_type": "code",
   "execution_count": null,
   "metadata": {},
   "outputs": [],
   "source": [
    "# import textwrap\n",
    "# import matplotlib.pyplot as plt\n",
    "# from matplotlib.patheffects import withStroke\n",
    "\n",
    "# text_width = 30\n",
    "# dpi = 400.0\n",
    "# fig_width = 3.234\n",
    "\n",
    "# columns = 4\n",
    "# pic_width = fig_width * 0.25\n",
    "\n",
    "\n",
    "# def plot_images(images):\n",
    "\n",
    "#     # Estimate the number of rows needed based on the number of images\n",
    "#     num_rows = (len(images) + columns - 1) // columns\n",
    "\n",
    "#     # Get the height of the first image adjusted for scale\n",
    "#     with Image.open(images[0][2]) as img:\n",
    "#         w, h = img.size\n",
    "#         aspect_ratio = float(w) / h\n",
    "#         fig_height = ( h *  ((fig_width * dpi) / w) ) * num_rows\n",
    "\n",
    "#     fig = plt.figure(figsize=(fig_width, fig_height), dpi=dpi)\n",
    "\n",
    "#     # Define the path effect for the outline\n",
    "#     outline_effect = withStroke(linewidth=0.3, foreground='black')\n",
    "\n",
    "#     # Loop over the images and create a subplot for each\n",
    "#     for i, (obj, prompt, image_file_name) in enumerate(images):\n",
    "#         image = Image.open(image_file_name)\n",
    "        \n",
    "#         # Resize the image\n",
    "#         w, h = image.size\n",
    "#         aspect_ratio = float(w) / h\n",
    "#         new_width = int(pic_width * dpi)\n",
    "#         new_height = int(new_width / aspect_ratio)\n",
    "#         image = image.resize((new_width, new_height), Resampling.LANCZOS)\n",
    "        \n",
    "#         # Create a subplot for the image\n",
    "#         ax = fig.add_subplot(len(images) // columns + 1, columns, i + 1)\n",
    "        \n",
    "#         # Display the image\n",
    "#         ax.imshow(image)\n",
    "#         ax.set_xticks([])\n",
    "#         ax.set_yticks([])\n",
    "#         ax.set_aspect('equal') # set aspect ratio to 1:1\n",
    "        \n",
    "#         # Set the title to the obj.name\n",
    "#         # ax.set_title(obj.name, fontsize=4, color='magenta', pad=-10)\n",
    "        \n",
    "#         # Wrap the prompt text to the desired width\n",
    "#         wrapped_prompt = textwrap.fill(prompt, width=text_width)\n",
    "        \n",
    "#         # Display the wrapped prompt text below the title with black outline\n",
    "#         ax.text(0.08, -0.3, wrapped_prompt, ha='left', va='center', transform=ax.transAxes, fontsize=2, family='monospace', color='white', path_effects=[outline_effect])\n",
    "        \n",
    "#         ax.text(0.5, -0.6, obj.name, ha='center', va='top', transform=ax.transAxes, fontsize=4, family='monospace', color='magenta', path_effects=[outline_effect])\n",
    "\n",
    "#     fig.subplots_adjust(wspace=0.07, hspace=0.07)\n",
    "\n",
    "#     plt.tight_layout()\n",
    "\n",
    "#     # Remove the half-transparent white overlay\n",
    "#     fig.patch.set_facecolor('none')\n",
    "\n",
    "\n",
    "# plot_images(images[:4])\n"
   ]
  },
  {
   "cell_type": "code",
   "execution_count": null,
   "metadata": {},
   "outputs": [],
   "source": []
  }
 ],
 "metadata": {
  "kernelspec": {
   "display_name": ".venv",
   "language": "python",
   "name": "python3"
  },
  "language_info": {
   "codemirror_mode": {
    "name": "ipython",
    "version": 3
   },
   "file_extension": ".py",
   "mimetype": "text/x-python",
   "name": "python",
   "nbconvert_exporter": "python",
   "pygments_lexer": "ipython3",
   "version": "3.10.6"
  },
  "orig_nbformat": 4
 },
 "nbformat": 4,
 "nbformat_minor": 2
}
