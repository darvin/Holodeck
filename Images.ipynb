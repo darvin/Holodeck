{
 "cells": [
  {
   "attachments": {},
   "cell_type": "markdown",
   "metadata": {},
   "source": [
    "## Prompts for locations"
   ]
  },
  {
   "cell_type": "code",
   "execution_count": 1,
   "metadata": {},
   "outputs": [],
   "source": [
    "location_prompts = [\n",
    "    \"steampunk city with skyscrapers\",\n",
    "    # \"cyberpunk village in Japanese rustic style\",\n",
    "    # \"fantasy dungsseons and dragons\",\n",
    "    # \"noir city from 1930s\",\n",
    "    # \"StarTrek inspired spaceship\",\n",
    "    # \"undeground mine of goblins\",\n",
    "    # \"SuperMario style magic land plain\",\n",
    "    # \"SuperMario style magic land beach\",\n",
    "]"
   ]
  },
  {
   "attachments": {},
   "cell_type": "markdown",
   "metadata": {},
   "source": [
    "## Generating locations "
   ]
  },
  {
   "cell_type": "code",
   "execution_count": 2,
   "metadata": {},
   "outputs": [
    {
     "name": "stderr",
     "output_type": "stream",
     "text": [
      "Generating locations:   0%|          | 0/1 [00:00<?, ?it/s]"
     ]
    },
    {
     "name": "stdout",
     "output_type": "stream",
     "text": [
      "<\n",
      "{'name': 'The City of Avarice', 'description': 'A towering metropolis with steampunk inspired buildings and ornate steam powered automobiles filling the air with soot. The city is filled with skyscrapers that reach up to the sky, interspersed with large clock towers and old cathedrals. The streets are cobblestone lined, and the buildings are all built of an obsidian-like substance.', 'buildings': [{'name': 'Clock Tower', 'description': 'A tall, ornate clock tower with intricate carvings and an array of gears and cogs powering its clock face.', 'enterable': False}, {'name': 'Obsidian Building', 'description': 'A tall, obsidian building with a large door at its base and no windows.', 'enterable': True}, {'name': 'Cathedral of Avarice', 'description': 'A grand cathedral with grand stained glass windows and a large, ornate altar.', 'enterable': True}], 'ways': [{'name': 'Main Street', 'description': 'The main thoroughfare of the city, lined with steampunk inspired buildings and shops.'}]}\n",
      "\n"
     ]
    },
    {
     "name": "stderr",
     "output_type": "stream",
     "text": [
      "Generating locations: 100%|██████████| 1/1 [00:14<00:00, 14.37s/it]"
     ]
    },
    {
     "name": "stdout",
     "output_type": "stream",
     "text": [
      "<\n",
      "[{'probability': 0.4, 'description': 'You find an old man struggling to open the door of an obsidian building', 'actions': [{'type': 'character', 'name': 'Old man', 'description': 'An old man struggling to open the door of an obsidian building.'}], 'trigger': {'type': 'building', 'building': 'Obsidian Building'}}, {'probability': 0.2, 'description': 'You hear a loud crash coming from the cathedral', 'actions': [{'type': 'character', 'name': 'Robber', 'description': 'A robber, who has broken into the cathedral and is making off with a valuable artefact.'}], 'trigger': {'type': 'building', 'building': 'Cathedral of Avarice'}}, {'probability': 0.1, 'description': 'You hear a loud ticking from the clock tower', 'actions': [{'type': 'critter', 'name': 'Mechanical rat', 'description': 'A mechanical rat, with gears and cogs instead of fur and skin, scurrying through th'}]}]\n",
      "\n"
     ]
    },
    {
     "name": "stderr",
     "output_type": "stream",
     "text": [
      "\n"
     ]
    },
    {
     "data": {
      "text/plain": [
       "[Location(name='The City of Avarice', description='A towering metropolis with steampunk inspired buildings and ornate steam powered automobiles filling the air with soot. The city is filled with skyscrapers that reach up to the sky, interspersed with large clock towers and old cathedrals. The streets are cobblestone lined, and the buildings are all built of an obsidian-like substance.', buildings=[Building(name='Clock Tower', description='A tall, ornate clock tower with intricate carvings and an array of gears and cogs powering its clock face.', enterable=False), Building(name='Obsidian Building', description='A tall, obsidian building with a large door at its base and no windows.', enterable=True), Building(name='Cathedral of Avarice', description='A grand cathedral with grand stained glass windows and a large, ornate altar.', enterable=True)], ways=[Way(name='Main Street', description='The main thoroughfare of the city, lined with steampunk inspired buildings and shops.')], encounters=[Encounter(probability=0.4, description='You find an old man struggling to open the door of an obsidian building', triggers=[Trigger(type=<TriggerType.BUILDING: 'building'>, way=None, building=Building(name='Obsidian Building', description='A tall, obsidian building with a large door at its base and no windows.', enterable=True))], actions=[Action(type='character', character=Character(name='Old man', description='An old man struggling to open the door of an obsidian building.'))]), Encounter(probability=0.2, description='You hear a loud crash coming from the cathedral', triggers=[Trigger(type=<TriggerType.BUILDING: 'building'>, way=None, building=Building(name='Cathedral of Avarice', description='A grand cathedral with grand stained glass windows and a large, ornate altar.', enterable=True))], actions=[Action(type='character', character=Character(name='Robber', description='A robber, who has broken into the cathedral and is making off with a valuable artefact.'))])])]"
      ]
     },
     "execution_count": 2,
     "metadata": {},
     "output_type": "execute_result"
    }
   ],
   "source": [
    "from holodeck import initialize_location\n",
    "from holodeck import generate_location_and_encounters\n",
    "import os\n",
    "from tqdm.notebook import tqdm\n",
    "import traceback\n",
    "\n",
    "import concurrent.futures\n",
    "from tqdm import tqdm\n",
    "\n",
    "def generate_location(prompt):\n",
    "    location_dict, encounters_list = generate_location_and_encounters(prompt)\n",
    "    if location_dict:\n",
    "        try:\n",
    "            location = initialize_location(location_dict, encounters_list)\n",
    "            return location\n",
    "        except Exception as e:\n",
    "            print(\"Error: \", e)\n",
    "            traceback.print_exc()\n",
    "    else:\n",
    "        print(f\"GENERATING FROM '{prompt}' failed!\")\n",
    "        return None\n",
    "\n",
    "locations = []\n",
    "with concurrent.futures.ThreadPoolExecutor(max_workers=os.cpu_count()) as executor:\n",
    "    results = list(tqdm(executor.map(generate_location, location_prompts), total=len(location_prompts), desc=\"Generating locations\"))\n",
    "    locations += [r for r in results if r is not None]\n",
    "\n",
    "\n",
    "assert len(locations) == len(location_prompts), \"some locations are failed to generate\"\n",
    "\n",
    "locations"
   ]
  },
  {
   "cell_type": "code",
   "execution_count": 3,
   "metadata": {},
   "outputs": [
    {
     "data": {
      "text/plain": [
       "Trigger(type=<TriggerType.BUILDING: 'building'>, way=None, building=Building(name='Central Square', description='The heart of Skyport. Everything converges here, and the airship docks are located in this area.', enterable=True))"
      ]
     },
     "execution_count": 3,
     "metadata": {},
     "output_type": "execute_result"
    }
   ],
   "source": [
    "locations[0]\\\n",
    "    .encounters[1]\\\n",
    "        .triggers[0]"
   ]
  },
  {
   "cell_type": "code",
   "execution_count": 4,
   "metadata": {},
   "outputs": [
    {
     "name": "stdout",
     "output_type": "stream",
     "text": [
      "Trigger(type=WAY, way=Main Road, encounter_id=None)\n",
      "Trigger(type=WAY, way=River Riveria, encounter_id=None)\n"
     ]
    }
   ],
   "source": [
    "for location in locations:\n",
    "    for encounter in location.encounters:\n",
    "        for trigger in encounter.triggers:\n",
    "            print(trigger)\n",
    "\n"
   ]
  },
  {
   "attachments": {},
   "cell_type": "markdown",
   "metadata": {},
   "source": [
    "## Save Locations to sqlite"
   ]
  },
  {
   "cell_type": "code",
   "execution_count": 3,
   "metadata": {},
   "outputs": [],
   "source": [
    "import os\n",
    "from sqlalchemy import create_engine\n",
    "from sqlalchemy.orm import sessionmaker\n",
    "from sqlite3 import dbapi2 as sqlite\n",
    "from sqlmodel import SQLModel\n",
    "def save_locations():\n",
    "\n",
    "    # Make sure the .data directory exists\n",
    "    if not os.path.exists('.data'):\n",
    "        os.mkdir('.data')\n",
    "\n",
    "    # Remove the database file if it exists\n",
    "    if os.path.exists('.data/locations.db'):\n",
    "        os.remove('.data/locations.db')\n",
    "\n",
    "    # Create the engine that connects to the SQLite database\n",
    "    engine = create_engine('sqlite+pysqlite:///.data/locations.db', module=sqlite)\n",
    "\n",
    "    # Define a session factory that will be used to interact with the database\n",
    "    Session = sessionmaker(bind=engine)\n",
    "\n",
    "    # Create the tables in the database\n",
    "    SQLModel.metadata.create_all(engine)\n",
    "\n",
    "    # Open a session and add the locations list to it\n",
    "    with Session() as session:\n",
    "        for location in locations:\n",
    "            session.add(location)\n",
    "        session.commit()\n",
    "\n",
    "    # Close the database connection\n",
    "    engine.dispose()\n",
    "save_locations()"
   ]
  },
  {
   "attachments": {},
   "cell_type": "markdown",
   "metadata": {},
   "source": [
    "## Load Locations from sqlite"
   ]
  },
  {
   "cell_type": "code",
   "execution_count": 38,
   "metadata": {},
   "outputs": [
    {
     "data": {
      "text/plain": [
       "[Location(name='The City of Avarice', id=1, description='A towering metropolis with steampunk inspired buildings and ornate steam powered automobiles filling the air with soot. The city is filled with skyscrapers that reach up to the sky, interspersed with large clock towers and old cathedrals. The streets are cobblestone lined, and the buildings are all built of an obsidian-like substance.', encounters=[Encounter(probability=0.2, location_id=1, description='You hear a loud crash coming from the cathedral', id=2, actions=[Action(type='character', critter_id=None, item_id=None, id=2, encounter_id=2, character_id=2, building_id=None, building=None, character=Character(location_id=None, description='A robber, who has broken into the cathedral and is making off with a valuable artefact.', id=2, name='Robber'), critter=None, item=None)], triggers=[Trigger(type='building', building_id=3, id=2, way_id=None, encounter_id=2, way=None, building=Building(enterable=True, name='Cathedral of Avarice', id=3, location_id=1, description='A grand cathedral with grand stained glass windows and a large, ornate altar.'))]), Encounter(probability=0.4, location_id=1, description='You find an old man struggling to open the door of an obsidian building', id=1, actions=[Action(type='character', critter_id=None, item_id=None, id=1, encounter_id=1, character_id=1, building_id=None, building=None, character=Character(location_id=None, description='An old man struggling to open the door of an obsidian building.', id=1, name='Old man'), critter=None, item=None)], triggers=[Trigger(type='building', building_id=2, id=1, way_id=None, encounter_id=1, way=None, building=Building(enterable=True, name='Obsidian Building', id=2, location_id=1, description='A tall, obsidian building with a large door at its base and no windows.'))])], characters=[], buildings=[Building(enterable=True, name='Cathedral of Avarice', id=3, location_id=1, description='A grand cathedral with grand stained glass windows and a large, ornate altar.'), Building(enterable=False, name='Clock Tower', id=1, location_id=1, description='A tall, ornate clock tower with intricate carvings and an array of gears and cogs powering its clock face.'), Building(enterable=True, name='Obsidian Building', id=2, location_id=1, description='A tall, obsidian building with a large door at its base and no windows.')], ways=[Way(location_id=1, name='Main Street', description='The main thoroughfare of the city, lined with steampunk inspired buildings and shops.', id=1)])]"
      ]
     },
     "execution_count": 38,
     "metadata": {},
     "output_type": "execute_result"
    }
   ],
   "source": [
    "from sqlalchemy import create_engine\n",
    "from sqlalchemy.orm import sessionmaker\n",
    "from sqlite3 import dbapi2 as sqlite\n",
    "from holodeck import *\n",
    "from sqlmodel import select\n",
    "from sqlalchemy.orm import selectinload, joinedload\n",
    "\n",
    "def get_saved_locations():\n",
    "    engine = create_engine('sqlite+pysqlite:///.data/locations.db', module=sqlite)\n",
    "\n",
    "    SessionLocal = sessionmaker(bind=engine)\n",
    "\n",
    "    with SessionLocal() as session:\n",
    "        locations = session.query(Location).options(\n",
    "            joinedload(Location.buildings),\n",
    "            joinedload(Location.ways),\n",
    "            joinedload(Location.encounters).joinedload(Encounter.actions)\n",
    "                .joinedload(Action.critter),\n",
    "            joinedload(Location.encounters).joinedload(Encounter.actions)\n",
    "                .joinedload(Action.character),\n",
    "            joinedload(Location.encounters).joinedload(Encounter.actions)\n",
    "                .joinedload(Action.item),\n",
    "            joinedload(Location.encounters).joinedload(Encounter.actions)\n",
    "                .joinedload(Action.building),\n",
    "            joinedload(Location.encounters).joinedload(Encounter.triggers).joinedload(Trigger.way),\n",
    "            joinedload(Location.encounters).joinedload(Encounter.triggers).joinedload(Trigger.building),\n",
    "            joinedload(Location.characters)\n",
    "        ).all()\n",
    "\n",
    "\n",
    "        \n",
    "\n",
    "        return [location for location in locations]\n",
    "\n",
    "get_saved_locations()\n",
    "\n",
    "\n",
    "\n",
    "\n",
    "# Remove the loaded objects from the session cache\n",
    "# session.expunge_all()\n",
    "\n",
    "# Close the database connection\n",
    "# engine.dispose()"
   ]
  },
  {
   "attachments": {},
   "cell_type": "markdown",
   "metadata": {},
   "source": [
    "## Generate Image Prompts"
   ]
  },
  {
   "cell_type": "code",
   "execution_count": 41,
   "metadata": {},
   "outputs": [
    {
     "name": "stdout",
     "output_type": "stream",
     "text": [
      "<\n",
      "{'prompt': '(Bird eye view:1.9)of a (metropolis:1.8) filled with (steampunk inspired buildings:1.3), (ornate steam powered automobiles:1.5) emitting (smoke:1.4), (towering skyscrapers:1.5) reaching up to the sky and (large clock towers:1.3), (old cathedrals:1.3) and (cobblestone lined streets:1.5). There is also a (Cathedral of Avarice:1.5) with grand stained glass windows and a large, ornate altar, a (tall clock tower:1.4) with intricate carvings and an array of gears and cogs and an (obsidian building:1.4) with a large door at its base. Everything is built of an (obsidian-like:1.3) substance. detailed, intricate, mesmerizing, beautiful, high resolution, realistic.', 'negative_prompt': 'Scribbles,Low quality,Low rated,Mediocre,3D rendering,Screenshot,Software,UI,((watermark)),(text),(overlay),getty images,(cropped),low'}\n",
      "\n",
      "<\n",
      "{'prompt': '(Long shot) of a (grand:1.8) (cathedral:1.8) with (ornate stained glass:1.6) windows and a (large:1.4) (ornate altar), located in a (towering:1.8) (metropolis:1.8) with (steampunk:1.8) style (buildings:1.6) and (ornate steam powered:1.6) cars, (skyscrapers:1.2) reaching high up to the sky, clock towers, and old cathedrals, (cobblestone:1.2) lined streets and (obsidian-like:1.6) structures, grandeur, majestic, suspended in time, intricate', 'negative_prompt': 'Scribbles,Low quality,Low rated,Mediocre,3D rendering,Screenshot,Software,UI,((watermark)),(text),(overlay),getty images,(cropped),low quality,worst quality'}\n",
      "\n",
      "<\n",
      "{'prompt': '(mid-shot) of a (towering:1.6) (clock tower:1.6) with (intricate carvings:1.4) and (gears and cogs:1.4) powering its (clock face:1.4) in a towering metropolis with steampunk inspired buildings, (ornate:1.4) (steam powered:1.4) automobiles filling the air with (soot:1.4), skyscrapers that reach up to the sky, interspersed with (clock towers:1.4) and (old cathedrals:1.4), cobblestone lined streets, and buildings made of an obsidian-like substance, majestic, high resolution, very detailed.', 'negative_prompt': 'Scribbles,Low quality,Low rated,Mediocre,3D rendering,Screenshot,Software,UI,((watermark)),(text),(overlay),getty images,(cropped),low quality,worst quality'}\n",
      "\n",
      "<\n",
      "{'prompt': '(long shot) of a towering (metropolis:1.5) with (steampunk:1.5) inspired (buildings:1.4) and (ornate:1.5) (steam-powered:1.4) (automobiles:1.4) filling the (air with soot), (skycrapers:1.4) reaching up to the (sky:1.3) with interspersed (large:1.2) (clock towers:1.3) and (old:1.2) (cathedrals:1.2), (cobblestone:1.3) lined (streets), and a (tall:1.2) (Obsidian:1.5) building with a (large door) at its base and (no windows), splendid, gorgeous, outstanding, intricate, vibrant', 'negative_prompt': 'Low quality, Low rated,Mediocre,3D rendering, Screenshot, Software, UI,((watermark)),(text),(overlay),getty images,(cropped),low quality, worst quality'}\n",
      "\n"
     ]
    }
   ],
   "source": [
    "from holodeck.gpt_text import \\\n",
    "        generate_object_image_prompt, \\\n",
    "        generate_building_image_prompt, \\\n",
    "        generate_location_image_prompt\n",
    "\n",
    "from concurrent.futures import ThreadPoolExecutor\n",
    "from tqdm import tqdm\n",
    "\n",
    "locations = get_saved_locations()\n",
    "locations_image_prompts = []\n",
    "objects_image_prompts = []\n",
    "buildings_image_prompts = []\n",
    "\n",
    "def generate_location_images(location):\n",
    "    return [(location, generate_location_image_prompt(location))]\n",
    "\n",
    "def generate_object_images(location):\n",
    "    prompts = []\n",
    "    for o in location.objects:\n",
    "        prompts.append((o, generate_object_image_prompt(o, location)))\n",
    "    return prompts\n",
    "\n",
    "def generate_building_images(location):\n",
    "    prompts = []\n",
    "    for b in location.all_buildings:\n",
    "        prompts.append((b, generate_building_image_prompt(b, location)))\n",
    "    return prompts\n",
    "\n",
    "with ThreadPoolExecutor() as executor:\n",
    "    location_image_futures = [executor.submit(generate_location_images, location) for location in locations]\n",
    "    object_image_futures = [executor.submit(generate_object_images, location) for location in locations]\n",
    "    building_image_futures = [executor.submit(generate_building_images, location) for location in locations]\n",
    "\n",
    "    for f in location_image_futures:\n",
    "        for prompt in f.result():\n",
    "            locations_image_prompts.append(prompt)\n",
    "    for f in object_image_futures:\n",
    "        for prompt in f.result():\n",
    "            objects_image_prompts.append(prompt)\n",
    "    for f in building_image_futures:\n",
    "        for prompt in f.result():\n",
    "            buildings_image_prompts.append(prompt)\n",
    "\n",
    "\n",
    "img_prompts = locations_image_prompts + objects_image_prompts + buildings_image_prompts\n",
    "\n",
    "obj_number = 0\n",
    "for location in locations:\n",
    "    obj_number += 1\n",
    "    obj_number += len(location.all_buildings)\n",
    "    obj_number += len(location.objects)\n",
    "\n",
    "\n",
    "assert len(img_prompts) == obj_number, \"not all descriptions got generated!\"\n",
    "\n"
   ]
  },
  {
   "attachments": {},
   "cell_type": "markdown",
   "metadata": {},
   "source": [
    "## Generate Images"
   ]
  },
  {
   "cell_type": "code",
   "execution_count": null,
   "metadata": {},
   "outputs": [],
   "source": [
    "from holodeck.gpt_image import generate_image\n",
    "from IPython.display import display, Markdown\n",
    "import PIL.Image as Image\n",
    "import random\n",
    "\n",
    "\n",
    "random.shuffle(img_prompts)\n",
    "\n",
    "# img_prompts = img_prompts[:9]\n",
    "\n",
    "images = []\n",
    "\n",
    "for obj, gen_options in tqdm(img_prompts, desc=\"Images\"):\n",
    "    prompt = gen_options['prompt']\n",
    "    negative_prompt = gen_options['negative_prompt']\n",
    "    image_bytes = await generate_image(prompt=prompt, negative_prompt=negative_prompt)\n",
    "    image = Image.open(image_bytes)\n",
    "    display(Markdown(f\"### {obj.name}\"))\n",
    "    display(Markdown(f\"\"\"\n",
    "- {prompt}\n",
    "  - *negative: {negative_prompt}*\n",
    "    \"\"\"))\n",
    "    display(image)\n",
    "    image_file_name = f\".images/{obj.name}.png\"\n",
    "    image.save(image_file_name)\n",
    "    image.close()\n",
    "    image_bytes.close()\n",
    "    del image_bytes\n",
    "    images.append((obj, prompt, image_file_name))\n",
    "\n",
    "len(images)\n"
   ]
  },
  {
   "attachments": {},
   "cell_type": "markdown",
   "metadata": {},
   "source": [
    "## Display Images"
   ]
  },
  {
   "cell_type": "code",
   "execution_count": null,
   "metadata": {},
   "outputs": [],
   "source": [
    "import textwrap\n",
    "import matplotlib.pyplot as plt\n",
    "from matplotlib.patheffects import withStroke\n",
    "from PIL.Image import Resampling\n",
    "\n",
    "text_width = 30\n",
    "dpi = 600.0\n",
    "fig_width = 3.234\n",
    "\n",
    "columns = 4\n",
    "pic_width = fig_width * 0.27\n",
    "\n",
    "\n",
    "def plot_images(images):\n",
    "\n",
    "    # Estimate the number of rows needed based on the number of images\n",
    "    num_rows = (len(images) + columns - 1) // columns\n",
    "    fig_height = 0\n",
    "    # Get the height of the first image adjusted for scale\n",
    "    with Image.open(images[0][2]) as img:\n",
    "        w, h = img.size\n",
    "        aspect_ratio = float(w) / h\n",
    "        pic_height = pic_width / aspect_ratio\n",
    "\n",
    "        fig_height = pic_height * num_rows * 1.6\n",
    "\n",
    "    fig = plt.figure(figsize=(fig_width, fig_height), dpi=dpi)\n",
    "\n",
    "    # Define the path effect for the outline\n",
    "    outline_effect = withStroke(linewidth=0.3, foreground='black')\n",
    "\n",
    "    # Loop over the images and create a subplot for each\n",
    "    for i, (obj, prompt, image_file_name) in enumerate(images):\n",
    "        with Image.open(image_file_name) as image:\n",
    "        \n",
    "            # Resize the image\n",
    "            w, h = image.size\n",
    "            aspect_ratio = float(w) / h\n",
    "            new_width = int(pic_width * dpi)\n",
    "            new_height = int(new_width / aspect_ratio)\n",
    "            with image.resize((new_width, new_height), Resampling.LANCZOS) as image_resized:\n",
    "                # Create a subplot for the image\n",
    "                ax = fig.add_subplot(len(images) // columns + 1, columns, i + 1)\n",
    "                \n",
    "                # Display the image\n",
    "                ax.imshow(image_resized)\n",
    "\n",
    "        ax.set_xticks([])\n",
    "        ax.set_yticks([])\n",
    "        ax.set_aspect('equal') # set aspect ratio to 1:1\n",
    "        \n",
    "        # Set the title to the obj.name\n",
    "        # ax.set_title(obj.name, fontsize=4, color='magenta', pad=-10)\n",
    "        \n",
    "        # Wrap the prompt text to the desired width\n",
    "        wrapped_prompt = textwrap.fill(prompt, width=text_width)\n",
    "        wrapped_title = textwrap.fill(obj.name, width=14)\n",
    "        \n",
    "        # Display the wrapped prompt text below the title with black outline\n",
    "        ax.text(0.08, -0.38, wrapped_prompt, ha='left', va='bottom', transform=ax.transAxes, fontsize=1.7, family='monospace', color='white', path_effects=[outline_effect])\n",
    "        \n",
    "        ax.text(1.0-0.08, -0.4, wrapped_title, ha='right', va='top', transform=ax.transAxes, fontsize=2.4, family='monospace', color='magenta', path_effects=[outline_effect])\n",
    "\n",
    "    plt.subplots_adjust(wspace=0.03)\n",
    "\n",
    "    fig.patch.set_facecolor('none')\n",
    "\n",
    "\n",
    "plot_images(images)\n"
   ]
  }
 ],
 "metadata": {
  "kernelspec": {
   "display_name": ".venv",
   "language": "python",
   "name": "python3"
  },
  "language_info": {
   "codemirror_mode": {
    "name": "ipython",
    "version": 3
   },
   "file_extension": ".py",
   "mimetype": "text/x-python",
   "name": "python",
   "nbconvert_exporter": "python",
   "pygments_lexer": "ipython3",
   "version": "3.10.9"
  },
  "orig_nbformat": 4
 },
 "nbformat": 4,
 "nbformat_minor": 2
}
