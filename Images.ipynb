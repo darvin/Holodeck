{
 "cells": [
  {
   "attachments": {},
   "cell_type": "markdown",
   "metadata": {},
   "source": [
    "## Prompts for locations"
   ]
  },
  {
   "cell_type": "code",
   "execution_count": 1,
   "metadata": {},
   "outputs": [],
   "source": [
    "location_prompts = [\n",
    "    \"steampunk city with skyscrapers\",\n",
    "    \"cyberpunk village in Japanese rustic style\",\n",
    "    \"fantasy dungeons and dragons\",\n",
    "    \"noir city from 1930s\",\n",
    "    \"StarTrek inspired spaceship\",\n",
    "    \"undeground mine of goblins\",\n",
    "    \"SuperMario style magic land plain\",\n",
    "    \"SuperMario style magic land beach\",\n",
    "]"
   ]
  },
  {
   "attachments": {},
   "cell_type": "markdown",
   "metadata": {},
   "source": [
    "## Generating locations "
   ]
  },
  {
   "cell_type": "code",
   "execution_count": 2,
   "metadata": {},
   "outputs": [
    {
     "data": {
      "application/vnd.jupyter.widget-view+json": {
       "model_id": "5eb96077c472411e8e1a3f64772434fb",
       "version_major": 2,
       "version_minor": 0
      },
      "text/plain": [
       "Fetching 15 files:   0%|          | 0/15 [00:00<?, ?it/s]"
      ]
     },
     "metadata": {},
     "output_type": "display_data"
    },
    {
     "name": "stderr",
     "output_type": "stream",
     "text": [
      "`text_config_dict` is provided which will be used to initialize `CLIPTextConfig`. The value `text_config[\"id2label\"]` will be overriden.\n"
     ]
    },
    {
     "data": {
      "application/vnd.jupyter.widget-view+json": {
       "model_id": "a73ddb2d3755470299ed105479a98197",
       "version_major": 2,
       "version_minor": 0
      },
      "text/plain": [
       "Generating locations:   0%|          | 0/8 [00:00<?, ?it/s]"
      ]
     },
     "metadata": {},
     "output_type": "display_data"
    },
    {
     "ename": "TypeError",
     "evalue": "'NoneType' object is not iterable",
     "output_type": "error",
     "traceback": [
      "\u001b[0;31m---------------------------------------------------------------------------\u001b[0m",
      "\u001b[0;31mTypeError\u001b[0m                                 Traceback (most recent call last)",
      "Cell \u001b[0;32mIn[2], line 11\u001b[0m\n\u001b[1;32m      9\u001b[0m     location_dict, encounters_list \u001b[39m=\u001b[39m generate_location_and_encounters(p)\n\u001b[1;32m     10\u001b[0m     \u001b[39mif\u001b[39;00m location_dict:\n\u001b[0;32m---> 11\u001b[0m         location \u001b[39m=\u001b[39m initialize_location(location_dict, encounters_list)\n\u001b[1;32m     12\u001b[0m         locations\u001b[39m.\u001b[39mappend(location)\n\u001b[1;32m     15\u001b[0m locations\n",
      "File \u001b[0;32m~/Holodeck/holodeck/game_objects.py:160\u001b[0m, in \u001b[0;36minitialize_location\u001b[0;34m(location_dict, encounters_list)\u001b[0m\n\u001b[1;32m    156\u001b[0m         i \u001b[39m+\u001b[39m\u001b[39m=\u001b[39m \u001b[39m1\u001b[39m\n\u001b[1;32m    159\u001b[0m location \u001b[39m=\u001b[39m Location(location_dict[\u001b[39m'\u001b[39m\u001b[39mname\u001b[39m\u001b[39m'\u001b[39m], location_dict[\u001b[39m'\u001b[39m\u001b[39mdescription\u001b[39m\u001b[39m'\u001b[39m])\n\u001b[0;32m--> 160\u001b[0m \u001b[39mfor\u001b[39;00m building_dict \u001b[39min\u001b[39;00m location_dict[\u001b[39m'\u001b[39m\u001b[39mbuildings\u001b[39m\u001b[39m'\u001b[39m]:\n\u001b[1;32m    161\u001b[0m     building \u001b[39m=\u001b[39m Building(building_dict\u001b[39m.\u001b[39mget(\u001b[39m'\u001b[39m\u001b[39mname\u001b[39m\u001b[39m'\u001b[39m, \u001b[39mf\u001b[39m\u001b[39m\"\u001b[39m\u001b[39mBuilding \u001b[39m\u001b[39m{\u001b[39;00mget_building_number()\u001b[39m}\u001b[39;00m\u001b[39m\"\u001b[39m), building_dict[\u001b[39m'\u001b[39m\u001b[39mdescription\u001b[39m\u001b[39m'\u001b[39m], building_dict\u001b[39m.\u001b[39mget(\u001b[39m'\u001b[39m\u001b[39menterable\u001b[39m\u001b[39m'\u001b[39m, \u001b[39mFalse\u001b[39;00m))\n\u001b[1;32m    162\u001b[0m     location\u001b[39m.\u001b[39madd_building(building)\n",
      "\u001b[0;31mTypeError\u001b[0m: 'NoneType' object is not iterable"
     ]
    }
   ],
   "source": [
    "from holodeck import initialize_location\n",
    "from holodeck import generate_location_and_encounters\n",
    "\n",
    "from tqdm.notebook import tqdm\n",
    "\n",
    "locations = []\n",
    "\n",
    "for p in tqdm(location_prompts, desc=\"Generating locations\"):\n",
    "    location_dict, encounters_list = generate_location_and_encounters(p)\n",
    "    if location_dict:\n",
    "        location = initialize_location(location_dict, encounters_list)\n",
    "        locations.append(location)\n",
    "\n",
    "\n",
    "locations"
   ]
  },
  {
   "attachments": {},
   "cell_type": "markdown",
   "metadata": {},
   "source": [
    "## Generate Image Prompts"
   ]
  },
  {
   "cell_type": "code",
   "execution_count": null,
   "metadata": {},
   "outputs": [
    {
     "data": {
      "application/vnd.jupyter.widget-view+json": {
       "model_id": "2a204686a88c40c09f82d70df312f7da",
       "version_major": 2,
       "version_minor": 0
      },
      "text/plain": [
       "Locations:   0%|          | 0/8 [00:00<?, ?it/s]"
      ]
     },
     "metadata": {},
     "output_type": "display_data"
    },
    {
     "ename": "AttributeError",
     "evalue": "'str' object has no attribute 'description'",
     "output_type": "error",
     "traceback": [
      "\u001b[0;31m---------------------------------------------------------------------------\u001b[0m",
      "\u001b[0;31mAttributeError\u001b[0m                            Traceback (most recent call last)",
      "Cell \u001b[0;32mIn[3], line 12\u001b[0m\n\u001b[1;32m      8\u001b[0m buildings_image_prompts \u001b[39m=\u001b[39m []\n\u001b[1;32m     10\u001b[0m \u001b[39mfor\u001b[39;00m location \u001b[39min\u001b[39;00m tqdm(locations, desc\u001b[39m=\u001b[39m\u001b[39m\"\u001b[39m\u001b[39mLocations\u001b[39m\u001b[39m\"\u001b[39m):\n\u001b[0;32m---> 12\u001b[0m     locations_prompts\u001b[39m.\u001b[39mappend((location, generate_location_image_prompt(location)))\n\u001b[1;32m     14\u001b[0m     \u001b[39mfor\u001b[39;00m o \u001b[39min\u001b[39;00m tqdm(location\u001b[39m.\u001b[39mobjects, desc\u001b[39m=\u001b[39m\u001b[39m\"\u001b[39m\u001b[39mObjects\u001b[39m\u001b[39m\"\u001b[39m):\n\u001b[1;32m     15\u001b[0m         objects_image_prompts\u001b[39m.\u001b[39mappend((o, generate_object_image_prompt(o, location)))\n",
      "File \u001b[0;32m~/Holodeck/holodeck/gpt_text.py:57\u001b[0m, in \u001b[0;36mgenerate_location_image_prompt\u001b[0;34m(location)\u001b[0m\n\u001b[1;32m     55\u001b[0m \u001b[39mdef\u001b[39;00m \u001b[39mgenerate_location_image_prompt\u001b[39m(location):\n\u001b[1;32m     56\u001b[0m     \u001b[39mreturn\u001b[39;00m chain_image_location({\n\u001b[0;32m---> 57\u001b[0m         \u001b[39m'\u001b[39m\u001b[39mlocation\u001b[39m\u001b[39m'\u001b[39m:location\u001b[39m.\u001b[39;49mdescription,\n\u001b[1;32m     58\u001b[0m         \u001b[39m'\u001b[39m\u001b[39mbuildings\u001b[39m\u001b[39m'\u001b[39m:\u001b[39m\"\u001b[39m\u001b[39m\\n\u001b[39;00m\u001b[39m\"\u001b[39m\u001b[39m.\u001b[39mjoin([\u001b[39mf\u001b[39m\u001b[39m\"\u001b[39m\u001b[39m{\u001b[39;00mb\u001b[39m.\u001b[39mname\u001b[39m}\u001b[39;00m\u001b[39m: \u001b[39m\u001b[39m{\u001b[39;00mb\u001b[39m.\u001b[39mdescription\u001b[39m}\u001b[39;00m\u001b[39m\"\u001b[39m \u001b[39mfor\u001b[39;00m b \u001b[39min\u001b[39;00m location\u001b[39m.\u001b[39mbuildings])\n\u001b[1;32m     59\u001b[0m     })[\u001b[39m'\u001b[39m\u001b[39mtext\u001b[39m\u001b[39m'\u001b[39m]\n",
      "\u001b[0;31mAttributeError\u001b[0m: 'str' object has no attribute 'description'"
     ]
    }
   ],
   "source": [
    "from holodeck.gpt_text import \\\n",
    "        generate_object_image_prompt, \\\n",
    "        generate_building_image_prompt, \\\n",
    "        generate_location_image_prompt\n",
    "\n",
    "locations_prompts = []\n",
    "objects_image_prompts = []\n",
    "buildings_image_prompts = []\n",
    "\n",
    "for location in tqdm(locations, desc=\"Locations\"):\n",
    "\n",
    "    locations_prompts.append((location, generate_location_image_prompt(location)))\n",
    "\n",
    "    for o in tqdm(location.objects, desc=\"Objects\"):\n",
    "        objects_image_prompts.append((o, generate_object_image_prompt(o, location)))\n",
    "\n",
    "\n",
    "    for b in tqdm(location.objects, desc=\"Buildings\"):\n",
    "        objects_image_prompts.append((b, generate_building_image_prompt(o, location)))\n",
    "\n",
    "\n"
   ]
  },
  {
   "attachments": {},
   "cell_type": "markdown",
   "metadata": {},
   "source": [
    "## Generate Images"
   ]
  },
  {
   "cell_type": "code",
   "execution_count": null,
   "metadata": {},
   "outputs": [],
   "source": [
    "from holodeck.gpt_image import generate_image\n",
    "from IPython.display import display, Markdown\n",
    "\n",
    "img_prompts = locations_prompts + objects_image_prompts + buildings_image_prompts\n",
    "\n",
    "images = []\n",
    "\n",
    "for obj, prompt in tqdm(img_prompts, desc=\"Images\"):\n",
    "    image = generate_image(prompt)\n",
    "    display(Markdown(prompt))\n",
    "    display(image)\n",
    "    image_file_name = f\".images/{obj.name}.jpg\"\n",
    "    image.save(image_file_name)\n",
    "    images.append((obj, prompt, image_file_name))\n",
    "\n",
    "len(images)\n"
   ]
  },
  {
   "attachments": {},
   "cell_type": "markdown",
   "metadata": {},
   "source": [
    "## Display Images"
   ]
  },
  {
   "cell_type": "code",
   "execution_count": null,
   "metadata": {},
   "outputs": [
    {
     "ename": "FileNotFoundError",
     "evalue": "[Errno 2] No such file or directory: 'image1.jpg'",
     "output_type": "error",
     "traceback": [
      "\u001b[0;31m---------------------------------------------------------------------------\u001b[0m",
      "\u001b[0;31mFileNotFoundError\u001b[0m                         Traceback (most recent call last)",
      "Cell \u001b[0;32mIn[3], line 27\u001b[0m\n\u001b[1;32m     25\u001b[0m \u001b[39m# loop through the data and create a widget for each tuple\u001b[39;00m\n\u001b[1;32m     26\u001b[0m \u001b[39mfor\u001b[39;00m i, (obj, text, img_path) \u001b[39min\u001b[39;00m \u001b[39menumerate\u001b[39m(data):\n\u001b[0;32m---> 27\u001b[0m     \u001b[39mwith\u001b[39;00m \u001b[39mopen\u001b[39;49m(img_path, \u001b[39m\"\u001b[39;49m\u001b[39mrb\u001b[39;49m\u001b[39m\"\u001b[39;49m) \u001b[39mas\u001b[39;00m f:\n\u001b[1;32m     28\u001b[0m         img \u001b[39m=\u001b[39m Image\u001b[39m.\u001b[39mopen(f)\n\u001b[1;32m     29\u001b[0m         img_widget \u001b[39m=\u001b[39m widgets\u001b[39m.\u001b[39mImage(value\u001b[39m=\u001b[39mf\u001b[39m.\u001b[39mread(), \u001b[39mformat\u001b[39m\u001b[39m=\u001b[39m\u001b[39m\"\u001b[39m\u001b[39mjpg\u001b[39m\u001b[39m\"\u001b[39m, width\u001b[39m=\u001b[39m\u001b[39m150\u001b[39m, height\u001b[39m=\u001b[39m\u001b[39m150\u001b[39m)\n",
      "File \u001b[0;32m~/Holodeck/.venv/lib/python3.10/site-packages/IPython/core/interactiveshell.py:284\u001b[0m, in \u001b[0;36m_modified_open\u001b[0;34m(file, *args, **kwargs)\u001b[0m\n\u001b[1;32m    277\u001b[0m \u001b[39mif\u001b[39;00m file \u001b[39min\u001b[39;00m {\u001b[39m0\u001b[39m, \u001b[39m1\u001b[39m, \u001b[39m2\u001b[39m}:\n\u001b[1;32m    278\u001b[0m     \u001b[39mraise\u001b[39;00m \u001b[39mValueError\u001b[39;00m(\n\u001b[1;32m    279\u001b[0m         \u001b[39mf\u001b[39m\u001b[39m\"\u001b[39m\u001b[39mIPython won\u001b[39m\u001b[39m'\u001b[39m\u001b[39mt let you open fd=\u001b[39m\u001b[39m{\u001b[39;00mfile\u001b[39m}\u001b[39;00m\u001b[39m by default \u001b[39m\u001b[39m\"\u001b[39m\n\u001b[1;32m    280\u001b[0m         \u001b[39m\"\u001b[39m\u001b[39mas it is likely to crash IPython. If you know what you are doing, \u001b[39m\u001b[39m\"\u001b[39m\n\u001b[1;32m    281\u001b[0m         \u001b[39m\"\u001b[39m\u001b[39myou can use builtins\u001b[39m\u001b[39m'\u001b[39m\u001b[39m open.\u001b[39m\u001b[39m\"\u001b[39m\n\u001b[1;32m    282\u001b[0m     )\n\u001b[0;32m--> 284\u001b[0m \u001b[39mreturn\u001b[39;00m io_open(file, \u001b[39m*\u001b[39;49margs, \u001b[39m*\u001b[39;49m\u001b[39m*\u001b[39;49mkwargs)\n",
      "\u001b[0;31mFileNotFoundError\u001b[0m: [Errno 2] No such file or directory: 'image1.jpg'"
     ]
    }
   ],
   "source": [
    "import ipywidgets as widgets\n",
    "from IPython.display import display\n",
    "import PIL.Image as Image\n",
    "\n",
    "# create an array of tuples containing objects, text, and images\n",
    "data = [\n",
    "    ({\"name\": \"Object 1\"}, \"Text 1\", \"image1.jpg\"),\n",
    "    ({\"name\": \"Object 2\"}, \"Text 2\", \"image2.jpg\"),\n",
    "    ({\"name\": \"Object 3\"}, \"Text 3\", \"image3.jpg\"),\n",
    "    ({\"name\": \"Object 4\"}, \"Text 4\", \"image4.jpg\"),\n",
    "    ({\"name\": \"Object 5\"}, \"Text 5\", \"image5.jpg\"),\n",
    "    ({\"name\": \"Object 6\"}, \"Text 6\", \"image6.jpg\"),\n",
    "    ({\"name\": \"Object 7\"}, \"Text 7\", \"image7.jpg\"),\n",
    "    ({\"name\": \"Object 8\"}, \"Text 8\", \"image8.jpg\")\n",
    "]\n",
    "\n",
    "# define the grid layout\n",
    "grid = widgets.GridBox(\n",
    "    layout=widgets.Layout(\n",
    "        grid_template_columns=\"repeat(4, 1fr)\",\n",
    "        grid_gap=\"10px\"\n",
    "    )\n",
    ")\n",
    "\n",
    "# loop through the data and create a widget for each tuple\n",
    "for i, (obj, text, img_path) in enumerate(data):\n",
    "    with open(img_path, \"rb\") as f:\n",
    "        img = Image.open(f)\n",
    "        img_widget = widgets.Image(value=f.read(), format=\"jpg\", width=150, height=150)\n",
    "    obj_widget = widgets.HTML(f\"<h3>{obj['name']}</h3>\")\n",
    "    text_widget = widgets.HTML(f\"<p>{text}</p>\")\n",
    "    item = widgets.VBox([img_widget, obj_widget, text_widget])\n",
    "    grid.children += (item,)\n",
    "    \n",
    "# display the grid\n",
    "display(grid)\n"
   ]
  },
  {
   "cell_type": "markdown",
   "metadata": {},
   "source": []
  }
 ],
 "metadata": {
  "kernelspec": {
   "display_name": ".venv",
   "language": "python",
   "name": "python3"
  },
  "language_info": {
   "codemirror_mode": {
    "name": "ipython",
    "version": 3
   },
   "file_extension": ".py",
   "mimetype": "text/x-python",
   "name": "python",
   "nbconvert_exporter": "python",
   "pygments_lexer": "ipython3",
   "version": "3.10.6"
  },
  "orig_nbformat": 4
 },
 "nbformat": 4,
 "nbformat_minor": 2
}
