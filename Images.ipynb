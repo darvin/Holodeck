{
 "cells": [
  {
   "attachments": {},
   "cell_type": "markdown",
   "metadata": {},
   "source": [
    "## Prompts for locations"
   ]
  },
  {
   "cell_type": "code",
   "execution_count": 1,
   "metadata": {},
   "outputs": [],
   "source": [
    "location_prompts = [\n",
    "    \"steampunk city with skyscrapers\",\n",
    "    \"cyberpunk village in Japanese rustic style\",\n",
    "    \"fantasy dungeons and dragons\",\n",
    "    \"noir city from 1930s\",\n",
    "    \"StarTrek inspired spaceship\",\n",
    "    \"undeground mine of goblins\",\n",
    "    \"SuperMario style magic land plain\",\n",
    "    \"SuperMario style magic land beach\",\n",
    "]"
   ]
  },
  {
   "attachments": {},
   "cell_type": "markdown",
   "metadata": {},
   "source": [
    "## Generating locations "
   ]
  },
  {
   "cell_type": "code",
   "execution_count": 2,
   "metadata": {},
   "outputs": [
    {
     "data": {
      "application/vnd.jupyter.widget-view+json": {
       "model_id": "e94c9c988ebf415782beb6669b666aa9",
       "version_major": 2,
       "version_minor": 0
      },
      "text/plain": [
       "Generating locations:   0%|          | 0/8 [00:00<?, ?it/s]"
      ]
     },
     "metadata": {},
     "output_type": "display_data"
    },
    {
     "ename": "ParserError",
     "evalue": "while parsing a block collection\n  in \"<unicode string>\", line 8, column 3:\n      - name: City Tower\n      ^\nexpected <block end>, but found '<block sequence start>'\n  in \"<unicode string>\", line 11, column 4:\n       - name: Magenta Hub\n       ^",
     "output_type": "error",
     "traceback": [
      "\u001b[0;31m---------------------------------------------------------------------------\u001b[0m",
      "\u001b[0;31mParserError\u001b[0m                               Traceback (most recent call last)",
      "Cell \u001b[0;32mIn[2], line 9\u001b[0m\n\u001b[1;32m      6\u001b[0m locations \u001b[39m=\u001b[39m []\n\u001b[1;32m      8\u001b[0m \u001b[39mfor\u001b[39;00m p \u001b[39min\u001b[39;00m tqdm(location_prompts, desc\u001b[39m=\u001b[39m\u001b[39m\"\u001b[39m\u001b[39mGenerating locations\u001b[39m\u001b[39m\"\u001b[39m):\n\u001b[0;32m----> 9\u001b[0m     location_dict, encounters_list \u001b[39m=\u001b[39m generate_location_and_encounters(p)\n\u001b[1;32m     10\u001b[0m     \u001b[39mif\u001b[39;00m location_dict:\n\u001b[1;32m     11\u001b[0m         location \u001b[39m=\u001b[39m initialize_location(location_dict, encounters_list)\n",
      "File \u001b[0;32m~/Holodeck/holodeck/gpt_text.py:50\u001b[0m, in \u001b[0;36mgenerate_location_and_encounters\u001b[0;34m(prompt)\u001b[0m\n\u001b[1;32m     49\u001b[0m \u001b[39mdef\u001b[39;00m \u001b[39mgenerate_location_and_encounters\u001b[39m(prompt):\n\u001b[0;32m---> 50\u001b[0m     location \u001b[39m=\u001b[39m deyaml(chain_location(\u001b[39m\"\u001b[39;49m\u001b[39mfuturistic city flying cars crazy steampunk\u001b[39;49m\u001b[39m\"\u001b[39;49m))\n\u001b[1;32m     51\u001b[0m     encounters \u001b[39m=\u001b[39m deyaml(chain_encounters(yaml\u001b[39m.\u001b[39mdump(location)))\n\u001b[1;32m     52\u001b[0m     \u001b[39mreturn\u001b[39;00m (location, encounters \u001b[39mor\u001b[39;00m [])\n",
      "File \u001b[0;32m~/Holodeck/holodeck/gpt_text.py:38\u001b[0m, in \u001b[0;36mdeyaml\u001b[0;34m(chain_response)\u001b[0m\n\u001b[1;32m     36\u001b[0m \u001b[39mwhile\u001b[39;00m \u001b[39mTrue\u001b[39;00m:\n\u001b[1;32m     37\u001b[0m     \u001b[39mtry\u001b[39;00m:\n\u001b[0;32m---> 38\u001b[0m         \u001b[39mreturn\u001b[39;00m yaml\u001b[39m.\u001b[39;49msafe_load(text)\n\u001b[1;32m     39\u001b[0m     \u001b[39mexcept\u001b[39;00m yaml\u001b[39m.\u001b[39mscanner\u001b[39m.\u001b[39mScannerError \u001b[39mas\u001b[39;00m e:\n\u001b[1;32m     40\u001b[0m         lines \u001b[39m=\u001b[39m text\u001b[39m.\u001b[39msplit(\u001b[39m'\u001b[39m\u001b[39m\\n\u001b[39;00m\u001b[39m'\u001b[39m)\n",
      "File \u001b[0;32m~/Holodeck/.venv/lib/python3.10/site-packages/yaml/__init__.py:125\u001b[0m, in \u001b[0;36msafe_load\u001b[0;34m(stream)\u001b[0m\n\u001b[1;32m    117\u001b[0m \u001b[39mdef\u001b[39;00m \u001b[39msafe_load\u001b[39m(stream):\n\u001b[1;32m    118\u001b[0m \u001b[39m    \u001b[39m\u001b[39m\"\"\"\u001b[39;00m\n\u001b[1;32m    119\u001b[0m \u001b[39m    Parse the first YAML document in a stream\u001b[39;00m\n\u001b[1;32m    120\u001b[0m \u001b[39m    and produce the corresponding Python object.\u001b[39;00m\n\u001b[0;32m   (...)\u001b[0m\n\u001b[1;32m    123\u001b[0m \u001b[39m    to be safe for untrusted input.\u001b[39;00m\n\u001b[1;32m    124\u001b[0m \u001b[39m    \"\"\"\u001b[39;00m\n\u001b[0;32m--> 125\u001b[0m     \u001b[39mreturn\u001b[39;00m load(stream, SafeLoader)\n",
      "File \u001b[0;32m~/Holodeck/.venv/lib/python3.10/site-packages/yaml/__init__.py:81\u001b[0m, in \u001b[0;36mload\u001b[0;34m(stream, Loader)\u001b[0m\n\u001b[1;32m     79\u001b[0m loader \u001b[39m=\u001b[39m Loader(stream)\n\u001b[1;32m     80\u001b[0m \u001b[39mtry\u001b[39;00m:\n\u001b[0;32m---> 81\u001b[0m     \u001b[39mreturn\u001b[39;00m loader\u001b[39m.\u001b[39;49mget_single_data()\n\u001b[1;32m     82\u001b[0m \u001b[39mfinally\u001b[39;00m:\n\u001b[1;32m     83\u001b[0m     loader\u001b[39m.\u001b[39mdispose()\n",
      "File \u001b[0;32m~/Holodeck/.venv/lib/python3.10/site-packages/yaml/constructor.py:49\u001b[0m, in \u001b[0;36mBaseConstructor.get_single_data\u001b[0;34m(self)\u001b[0m\n\u001b[1;32m     47\u001b[0m \u001b[39mdef\u001b[39;00m \u001b[39mget_single_data\u001b[39m(\u001b[39mself\u001b[39m):\n\u001b[1;32m     48\u001b[0m     \u001b[39m# Ensure that the stream contains a single document and construct it.\u001b[39;00m\n\u001b[0;32m---> 49\u001b[0m     node \u001b[39m=\u001b[39m \u001b[39mself\u001b[39;49m\u001b[39m.\u001b[39;49mget_single_node()\n\u001b[1;32m     50\u001b[0m     \u001b[39mif\u001b[39;00m node \u001b[39mis\u001b[39;00m \u001b[39mnot\u001b[39;00m \u001b[39mNone\u001b[39;00m:\n\u001b[1;32m     51\u001b[0m         \u001b[39mreturn\u001b[39;00m \u001b[39mself\u001b[39m\u001b[39m.\u001b[39mconstruct_document(node)\n",
      "File \u001b[0;32m~/Holodeck/.venv/lib/python3.10/site-packages/yaml/composer.py:36\u001b[0m, in \u001b[0;36mComposer.get_single_node\u001b[0;34m(self)\u001b[0m\n\u001b[1;32m     34\u001b[0m document \u001b[39m=\u001b[39m \u001b[39mNone\u001b[39;00m\n\u001b[1;32m     35\u001b[0m \u001b[39mif\u001b[39;00m \u001b[39mnot\u001b[39;00m \u001b[39mself\u001b[39m\u001b[39m.\u001b[39mcheck_event(StreamEndEvent):\n\u001b[0;32m---> 36\u001b[0m     document \u001b[39m=\u001b[39m \u001b[39mself\u001b[39;49m\u001b[39m.\u001b[39;49mcompose_document()\n\u001b[1;32m     38\u001b[0m \u001b[39m# Ensure that the stream contains no more documents.\u001b[39;00m\n\u001b[1;32m     39\u001b[0m \u001b[39mif\u001b[39;00m \u001b[39mnot\u001b[39;00m \u001b[39mself\u001b[39m\u001b[39m.\u001b[39mcheck_event(StreamEndEvent):\n",
      "File \u001b[0;32m~/Holodeck/.venv/lib/python3.10/site-packages/yaml/composer.py:55\u001b[0m, in \u001b[0;36mComposer.compose_document\u001b[0;34m(self)\u001b[0m\n\u001b[1;32m     52\u001b[0m \u001b[39mself\u001b[39m\u001b[39m.\u001b[39mget_event()\n\u001b[1;32m     54\u001b[0m \u001b[39m# Compose the root node.\u001b[39;00m\n\u001b[0;32m---> 55\u001b[0m node \u001b[39m=\u001b[39m \u001b[39mself\u001b[39;49m\u001b[39m.\u001b[39;49mcompose_node(\u001b[39mNone\u001b[39;49;00m, \u001b[39mNone\u001b[39;49;00m)\n\u001b[1;32m     57\u001b[0m \u001b[39m# Drop the DOCUMENT-END event.\u001b[39;00m\n\u001b[1;32m     58\u001b[0m \u001b[39mself\u001b[39m\u001b[39m.\u001b[39mget_event()\n",
      "File \u001b[0;32m~/Holodeck/.venv/lib/python3.10/site-packages/yaml/composer.py:84\u001b[0m, in \u001b[0;36mComposer.compose_node\u001b[0;34m(self, parent, index)\u001b[0m\n\u001b[1;32m     82\u001b[0m     node \u001b[39m=\u001b[39m \u001b[39mself\u001b[39m\u001b[39m.\u001b[39mcompose_sequence_node(anchor)\n\u001b[1;32m     83\u001b[0m \u001b[39melif\u001b[39;00m \u001b[39mself\u001b[39m\u001b[39m.\u001b[39mcheck_event(MappingStartEvent):\n\u001b[0;32m---> 84\u001b[0m     node \u001b[39m=\u001b[39m \u001b[39mself\u001b[39;49m\u001b[39m.\u001b[39;49mcompose_mapping_node(anchor)\n\u001b[1;32m     85\u001b[0m \u001b[39mself\u001b[39m\u001b[39m.\u001b[39mascend_resolver()\n\u001b[1;32m     86\u001b[0m \u001b[39mreturn\u001b[39;00m node\n",
      "File \u001b[0;32m~/Holodeck/.venv/lib/python3.10/site-packages/yaml/composer.py:133\u001b[0m, in \u001b[0;36mComposer.compose_mapping_node\u001b[0;34m(self, anchor)\u001b[0m\n\u001b[1;32m    129\u001b[0m item_key \u001b[39m=\u001b[39m \u001b[39mself\u001b[39m\u001b[39m.\u001b[39mcompose_node(node, \u001b[39mNone\u001b[39;00m)\n\u001b[1;32m    130\u001b[0m \u001b[39m#if item_key in node.value:\u001b[39;00m\n\u001b[1;32m    131\u001b[0m \u001b[39m#    raise ComposerError(\"while composing a mapping\", start_event.start_mark,\u001b[39;00m\n\u001b[1;32m    132\u001b[0m \u001b[39m#            \"found duplicate key\", key_event.start_mark)\u001b[39;00m\n\u001b[0;32m--> 133\u001b[0m item_value \u001b[39m=\u001b[39m \u001b[39mself\u001b[39;49m\u001b[39m.\u001b[39;49mcompose_node(node, item_key)\n\u001b[1;32m    134\u001b[0m \u001b[39m#node.value[item_key] = item_value\u001b[39;00m\n\u001b[1;32m    135\u001b[0m node\u001b[39m.\u001b[39mvalue\u001b[39m.\u001b[39mappend((item_key, item_value))\n",
      "File \u001b[0;32m~/Holodeck/.venv/lib/python3.10/site-packages/yaml/composer.py:82\u001b[0m, in \u001b[0;36mComposer.compose_node\u001b[0;34m(self, parent, index)\u001b[0m\n\u001b[1;32m     80\u001b[0m     node \u001b[39m=\u001b[39m \u001b[39mself\u001b[39m\u001b[39m.\u001b[39mcompose_scalar_node(anchor)\n\u001b[1;32m     81\u001b[0m \u001b[39melif\u001b[39;00m \u001b[39mself\u001b[39m\u001b[39m.\u001b[39mcheck_event(SequenceStartEvent):\n\u001b[0;32m---> 82\u001b[0m     node \u001b[39m=\u001b[39m \u001b[39mself\u001b[39;49m\u001b[39m.\u001b[39;49mcompose_sequence_node(anchor)\n\u001b[1;32m     83\u001b[0m \u001b[39melif\u001b[39;00m \u001b[39mself\u001b[39m\u001b[39m.\u001b[39mcheck_event(MappingStartEvent):\n\u001b[1;32m     84\u001b[0m     node \u001b[39m=\u001b[39m \u001b[39mself\u001b[39m\u001b[39m.\u001b[39mcompose_mapping_node(anchor)\n",
      "File \u001b[0;32m~/Holodeck/.venv/lib/python3.10/site-packages/yaml/composer.py:110\u001b[0m, in \u001b[0;36mComposer.compose_sequence_node\u001b[0;34m(self, anchor)\u001b[0m\n\u001b[1;32m    108\u001b[0m     \u001b[39mself\u001b[39m\u001b[39m.\u001b[39manchors[anchor] \u001b[39m=\u001b[39m node\n\u001b[1;32m    109\u001b[0m index \u001b[39m=\u001b[39m \u001b[39m0\u001b[39m\n\u001b[0;32m--> 110\u001b[0m \u001b[39mwhile\u001b[39;00m \u001b[39mnot\u001b[39;00m \u001b[39mself\u001b[39;49m\u001b[39m.\u001b[39;49mcheck_event(SequenceEndEvent):\n\u001b[1;32m    111\u001b[0m     node\u001b[39m.\u001b[39mvalue\u001b[39m.\u001b[39mappend(\u001b[39mself\u001b[39m\u001b[39m.\u001b[39mcompose_node(node, index))\n\u001b[1;32m    112\u001b[0m     index \u001b[39m+\u001b[39m\u001b[39m=\u001b[39m \u001b[39m1\u001b[39m\n",
      "File \u001b[0;32m~/Holodeck/.venv/lib/python3.10/site-packages/yaml/parser.py:98\u001b[0m, in \u001b[0;36mParser.check_event\u001b[0;34m(self, *choices)\u001b[0m\n\u001b[1;32m     96\u001b[0m \u001b[39mif\u001b[39;00m \u001b[39mself\u001b[39m\u001b[39m.\u001b[39mcurrent_event \u001b[39mis\u001b[39;00m \u001b[39mNone\u001b[39;00m:\n\u001b[1;32m     97\u001b[0m     \u001b[39mif\u001b[39;00m \u001b[39mself\u001b[39m\u001b[39m.\u001b[39mstate:\n\u001b[0;32m---> 98\u001b[0m         \u001b[39mself\u001b[39m\u001b[39m.\u001b[39mcurrent_event \u001b[39m=\u001b[39m \u001b[39mself\u001b[39;49m\u001b[39m.\u001b[39;49mstate()\n\u001b[1;32m     99\u001b[0m \u001b[39mif\u001b[39;00m \u001b[39mself\u001b[39m\u001b[39m.\u001b[39mcurrent_event \u001b[39mis\u001b[39;00m \u001b[39mnot\u001b[39;00m \u001b[39mNone\u001b[39;00m:\n\u001b[1;32m    100\u001b[0m     \u001b[39mif\u001b[39;00m \u001b[39mnot\u001b[39;00m choices:\n",
      "File \u001b[0;32m~/Holodeck/.venv/lib/python3.10/site-packages/yaml/parser.py:392\u001b[0m, in \u001b[0;36mParser.parse_block_sequence_entry\u001b[0;34m(self)\u001b[0m\n\u001b[1;32m    390\u001b[0m \u001b[39mif\u001b[39;00m \u001b[39mnot\u001b[39;00m \u001b[39mself\u001b[39m\u001b[39m.\u001b[39mcheck_token(BlockEndToken):\n\u001b[1;32m    391\u001b[0m     token \u001b[39m=\u001b[39m \u001b[39mself\u001b[39m\u001b[39m.\u001b[39mpeek_token()\n\u001b[0;32m--> 392\u001b[0m     \u001b[39mraise\u001b[39;00m ParserError(\u001b[39m\"\u001b[39m\u001b[39mwhile parsing a block collection\u001b[39m\u001b[39m\"\u001b[39m, \u001b[39mself\u001b[39m\u001b[39m.\u001b[39mmarks[\u001b[39m-\u001b[39m\u001b[39m1\u001b[39m],\n\u001b[1;32m    393\u001b[0m             \u001b[39m\"\u001b[39m\u001b[39mexpected <block end>, but found \u001b[39m\u001b[39m%r\u001b[39;00m\u001b[39m\"\u001b[39m \u001b[39m%\u001b[39m token\u001b[39m.\u001b[39mid, token\u001b[39m.\u001b[39mstart_mark)\n\u001b[1;32m    394\u001b[0m token \u001b[39m=\u001b[39m \u001b[39mself\u001b[39m\u001b[39m.\u001b[39mget_token()\n\u001b[1;32m    395\u001b[0m event \u001b[39m=\u001b[39m SequenceEndEvent(token\u001b[39m.\u001b[39mstart_mark, token\u001b[39m.\u001b[39mend_mark)\n",
      "\u001b[0;31mParserError\u001b[0m: while parsing a block collection\n  in \"<unicode string>\", line 8, column 3:\n      - name: City Tower\n      ^\nexpected <block end>, but found '<block sequence start>'\n  in \"<unicode string>\", line 11, column 4:\n       - name: Magenta Hub\n       ^"
     ]
    }
   ],
   "source": [
    "from holodeck.game_objects import initialize_location\n",
    "from holodeck.gpt_text import generate_location_and_encounters\n",
    "\n",
    "from tqdm.notebook import tqdm\n",
    "\n",
    "locations = []\n",
    "\n",
    "for p in tqdm(location_prompts, desc=\"Generating locations\"):\n",
    "    location_dict, encounters_list = generate_location_and_encounters(p)\n",
    "    if location_dict:\n",
    "        location = initialize_location(location_dict, encounters_list)\n",
    "        locations.append(location)\n",
    "\n",
    "\n",
    "locations"
   ]
  },
  {
   "attachments": {},
   "cell_type": "markdown",
   "metadata": {},
   "source": [
    "## Generate Image Prompts"
   ]
  },
  {
   "cell_type": "code",
   "execution_count": null,
   "metadata": {},
   "outputs": [
    {
     "data": {
      "application/vnd.jupyter.widget-view+json": {
       "model_id": "2a204686a88c40c09f82d70df312f7da",
       "version_major": 2,
       "version_minor": 0
      },
      "text/plain": [
       "Locations:   0%|          | 0/8 [00:00<?, ?it/s]"
      ]
     },
     "metadata": {},
     "output_type": "display_data"
    },
    {
     "ename": "AttributeError",
     "evalue": "'str' object has no attribute 'description'",
     "output_type": "error",
     "traceback": [
      "\u001b[0;31m---------------------------------------------------------------------------\u001b[0m",
      "\u001b[0;31mAttributeError\u001b[0m                            Traceback (most recent call last)",
      "Cell \u001b[0;32mIn[3], line 12\u001b[0m\n\u001b[1;32m      8\u001b[0m buildings_image_prompts \u001b[39m=\u001b[39m []\n\u001b[1;32m     10\u001b[0m \u001b[39mfor\u001b[39;00m location \u001b[39min\u001b[39;00m tqdm(locations, desc\u001b[39m=\u001b[39m\u001b[39m\"\u001b[39m\u001b[39mLocations\u001b[39m\u001b[39m\"\u001b[39m):\n\u001b[0;32m---> 12\u001b[0m     locations_prompts\u001b[39m.\u001b[39mappend((location, generate_location_image_prompt(location)))\n\u001b[1;32m     14\u001b[0m     \u001b[39mfor\u001b[39;00m o \u001b[39min\u001b[39;00m tqdm(location\u001b[39m.\u001b[39mobjects, desc\u001b[39m=\u001b[39m\u001b[39m\"\u001b[39m\u001b[39mObjects\u001b[39m\u001b[39m\"\u001b[39m):\n\u001b[1;32m     15\u001b[0m         objects_image_prompts\u001b[39m.\u001b[39mappend((o, generate_object_image_prompt(o, location)))\n",
      "File \u001b[0;32m~/Holodeck/holodeck/gpt_text.py:57\u001b[0m, in \u001b[0;36mgenerate_location_image_prompt\u001b[0;34m(location)\u001b[0m\n\u001b[1;32m     55\u001b[0m \u001b[39mdef\u001b[39;00m \u001b[39mgenerate_location_image_prompt\u001b[39m(location):\n\u001b[1;32m     56\u001b[0m     \u001b[39mreturn\u001b[39;00m chain_image_location({\n\u001b[0;32m---> 57\u001b[0m         \u001b[39m'\u001b[39m\u001b[39mlocation\u001b[39m\u001b[39m'\u001b[39m:location\u001b[39m.\u001b[39;49mdescription,\n\u001b[1;32m     58\u001b[0m         \u001b[39m'\u001b[39m\u001b[39mbuildings\u001b[39m\u001b[39m'\u001b[39m:\u001b[39m\"\u001b[39m\u001b[39m\\n\u001b[39;00m\u001b[39m\"\u001b[39m\u001b[39m.\u001b[39mjoin([\u001b[39mf\u001b[39m\u001b[39m\"\u001b[39m\u001b[39m{\u001b[39;00mb\u001b[39m.\u001b[39mname\u001b[39m}\u001b[39;00m\u001b[39m: \u001b[39m\u001b[39m{\u001b[39;00mb\u001b[39m.\u001b[39mdescription\u001b[39m}\u001b[39;00m\u001b[39m\"\u001b[39m \u001b[39mfor\u001b[39;00m b \u001b[39min\u001b[39;00m location\u001b[39m.\u001b[39mbuildings])\n\u001b[1;32m     59\u001b[0m     })[\u001b[39m'\u001b[39m\u001b[39mtext\u001b[39m\u001b[39m'\u001b[39m]\n",
      "\u001b[0;31mAttributeError\u001b[0m: 'str' object has no attribute 'description'"
     ]
    }
   ],
   "source": [
    "from holodeck.gpt_text import \\\n",
    "        generate_object_image_prompt, \\\n",
    "        generate_building_image_prompt, \\\n",
    "        generate_location_image_prompt\n",
    "\n",
    "locations_prompts = []\n",
    "objects_image_prompts = []\n",
    "buildings_image_prompts = []\n",
    "\n",
    "for location in tqdm(locations, desc=\"Locations\"):\n",
    "\n",
    "    locations_prompts.append((location, generate_location_image_prompt(location)))\n",
    "\n",
    "    for o in tqdm(location.objects, desc=\"Objects\"):\n",
    "        objects_image_prompts.append((o, generate_object_image_prompt(o, location)))\n",
    "\n",
    "\n",
    "    for b in tqdm(location.objects, desc=\"Buildings\"):\n",
    "        objects_image_prompts.append((b, generate_building_image_prompt(o, location)))\n",
    "\n",
    "\n"
   ]
  },
  {
   "attachments": {},
   "cell_type": "markdown",
   "metadata": {},
   "source": [
    "## Generate Images"
   ]
  },
  {
   "cell_type": "code",
   "execution_count": null,
   "metadata": {},
   "outputs": [],
   "source": [
    "from holodeck.gpt_image import generate_image\n",
    "from IPython.display import display, Markdown\n",
    "\n",
    "img_prompts = locations_prompts + objects_image_prompts + buildings_image_prompts\n",
    "\n",
    "images = []\n",
    "\n",
    "for obj, prompt in tqdm(img_prompts, desc=\"Images\"):\n",
    "    image = generate_image(prompt)\n",
    "    display(Markdown(prompt))\n",
    "    display(image)\n",
    "    image_file_name = f\".images/{obj.name}.jpg\"\n",
    "    image.save(image_file_name)\n",
    "    images.append((obj, prompt, image_file_name))\n",
    "\n",
    "len(images)\n"
   ]
  },
  {
   "attachments": {},
   "cell_type": "markdown",
   "metadata": {},
   "source": [
    "## Display Images"
   ]
  },
  {
   "cell_type": "code",
   "execution_count": null,
   "metadata": {},
   "outputs": [
    {
     "ename": "FileNotFoundError",
     "evalue": "[Errno 2] No such file or directory: 'image1.jpg'",
     "output_type": "error",
     "traceback": [
      "\u001b[0;31m---------------------------------------------------------------------------\u001b[0m",
      "\u001b[0;31mFileNotFoundError\u001b[0m                         Traceback (most recent call last)",
      "Cell \u001b[0;32mIn[3], line 27\u001b[0m\n\u001b[1;32m     25\u001b[0m \u001b[39m# loop through the data and create a widget for each tuple\u001b[39;00m\n\u001b[1;32m     26\u001b[0m \u001b[39mfor\u001b[39;00m i, (obj, text, img_path) \u001b[39min\u001b[39;00m \u001b[39menumerate\u001b[39m(data):\n\u001b[0;32m---> 27\u001b[0m     \u001b[39mwith\u001b[39;00m \u001b[39mopen\u001b[39;49m(img_path, \u001b[39m\"\u001b[39;49m\u001b[39mrb\u001b[39;49m\u001b[39m\"\u001b[39;49m) \u001b[39mas\u001b[39;00m f:\n\u001b[1;32m     28\u001b[0m         img \u001b[39m=\u001b[39m Image\u001b[39m.\u001b[39mopen(f)\n\u001b[1;32m     29\u001b[0m         img_widget \u001b[39m=\u001b[39m widgets\u001b[39m.\u001b[39mImage(value\u001b[39m=\u001b[39mf\u001b[39m.\u001b[39mread(), \u001b[39mformat\u001b[39m\u001b[39m=\u001b[39m\u001b[39m\"\u001b[39m\u001b[39mjpg\u001b[39m\u001b[39m\"\u001b[39m, width\u001b[39m=\u001b[39m\u001b[39m150\u001b[39m, height\u001b[39m=\u001b[39m\u001b[39m150\u001b[39m)\n",
      "File \u001b[0;32m~/Holodeck/.venv/lib/python3.10/site-packages/IPython/core/interactiveshell.py:284\u001b[0m, in \u001b[0;36m_modified_open\u001b[0;34m(file, *args, **kwargs)\u001b[0m\n\u001b[1;32m    277\u001b[0m \u001b[39mif\u001b[39;00m file \u001b[39min\u001b[39;00m {\u001b[39m0\u001b[39m, \u001b[39m1\u001b[39m, \u001b[39m2\u001b[39m}:\n\u001b[1;32m    278\u001b[0m     \u001b[39mraise\u001b[39;00m \u001b[39mValueError\u001b[39;00m(\n\u001b[1;32m    279\u001b[0m         \u001b[39mf\u001b[39m\u001b[39m\"\u001b[39m\u001b[39mIPython won\u001b[39m\u001b[39m'\u001b[39m\u001b[39mt let you open fd=\u001b[39m\u001b[39m{\u001b[39;00mfile\u001b[39m}\u001b[39;00m\u001b[39m by default \u001b[39m\u001b[39m\"\u001b[39m\n\u001b[1;32m    280\u001b[0m         \u001b[39m\"\u001b[39m\u001b[39mas it is likely to crash IPython. If you know what you are doing, \u001b[39m\u001b[39m\"\u001b[39m\n\u001b[1;32m    281\u001b[0m         \u001b[39m\"\u001b[39m\u001b[39myou can use builtins\u001b[39m\u001b[39m'\u001b[39m\u001b[39m open.\u001b[39m\u001b[39m\"\u001b[39m\n\u001b[1;32m    282\u001b[0m     )\n\u001b[0;32m--> 284\u001b[0m \u001b[39mreturn\u001b[39;00m io_open(file, \u001b[39m*\u001b[39;49margs, \u001b[39m*\u001b[39;49m\u001b[39m*\u001b[39;49mkwargs)\n",
      "\u001b[0;31mFileNotFoundError\u001b[0m: [Errno 2] No such file or directory: 'image1.jpg'"
     ]
    }
   ],
   "source": [
    "import ipywidgets as widgets\n",
    "from IPython.display import display\n",
    "import PIL.Image as Image\n",
    "\n",
    "# create an array of tuples containing objects, text, and images\n",
    "data = [\n",
    "    ({\"name\": \"Object 1\"}, \"Text 1\", \"image1.jpg\"),\n",
    "    ({\"name\": \"Object 2\"}, \"Text 2\", \"image2.jpg\"),\n",
    "    ({\"name\": \"Object 3\"}, \"Text 3\", \"image3.jpg\"),\n",
    "    ({\"name\": \"Object 4\"}, \"Text 4\", \"image4.jpg\"),\n",
    "    ({\"name\": \"Object 5\"}, \"Text 5\", \"image5.jpg\"),\n",
    "    ({\"name\": \"Object 6\"}, \"Text 6\", \"image6.jpg\"),\n",
    "    ({\"name\": \"Object 7\"}, \"Text 7\", \"image7.jpg\"),\n",
    "    ({\"name\": \"Object 8\"}, \"Text 8\", \"image8.jpg\")\n",
    "]\n",
    "\n",
    "# define the grid layout\n",
    "grid = widgets.GridBox(\n",
    "    layout=widgets.Layout(\n",
    "        grid_template_columns=\"repeat(4, 1fr)\",\n",
    "        grid_gap=\"10px\"\n",
    "    )\n",
    ")\n",
    "\n",
    "# loop through the data and create a widget for each tuple\n",
    "for i, (obj, text, img_path) in enumerate(data):\n",
    "    with open(img_path, \"rb\") as f:\n",
    "        img = Image.open(f)\n",
    "        img_widget = widgets.Image(value=f.read(), format=\"jpg\", width=150, height=150)\n",
    "    obj_widget = widgets.HTML(f\"<h3>{obj['name']}</h3>\")\n",
    "    text_widget = widgets.HTML(f\"<p>{text}</p>\")\n",
    "    item = widgets.VBox([img_widget, obj_widget, text_widget])\n",
    "    grid.children += (item,)\n",
    "    \n",
    "# display the grid\n",
    "display(grid)\n"
   ]
  },
  {
   "cell_type": "markdown",
   "metadata": {},
   "source": []
  }
 ],
 "metadata": {
  "kernelspec": {
   "display_name": ".venv",
   "language": "python",
   "name": "python3"
  },
  "language_info": {
   "codemirror_mode": {
    "name": "ipython",
    "version": 3
   },
   "file_extension": ".py",
   "mimetype": "text/x-python",
   "name": "python",
   "nbconvert_exporter": "python",
   "pygments_lexer": "ipython3",
   "version": "3.10.6"
  },
  "orig_nbformat": 4
 },
 "nbformat": 4,
 "nbformat_minor": 2
}
