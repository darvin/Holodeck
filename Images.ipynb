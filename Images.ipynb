{
 "cells": [
  {
   "attachments": {},
   "cell_type": "markdown",
   "metadata": {},
   "source": [
    "## Prompts for locations"
   ]
  },
  {
   "cell_type": "code",
   "execution_count": 1,
   "metadata": {},
   "outputs": [],
   "source": [
    "location_prompts = [\n",
    "    \"steampunk city with skyscrapers\",\n",
    "    \"cyberpunk village in Japanese rustic style\",\n",
    "    \"fantasy dungsseons and dragons\",\n",
    "    \"noir city from 1930s\",\n",
    "    \"StarTrek inspired spaceship\",\n",
    "    \"undeground mine of goblins\",\n",
    "    \"SuperMario style magic land plain\",\n",
    "    \"SuperMario style magic land beach\",\n",
    "]"
   ]
  },
  {
   "attachments": {},
   "cell_type": "markdown",
   "metadata": {},
   "source": [
    "## Generating locations "
   ]
  },
  {
   "cell_type": "code",
   "execution_count": 3,
   "metadata": {},
   "outputs": [
    {
     "name": "stderr",
     "output_type": "stream",
     "text": [
      "Generating locations:   0%|          | 0/8 [00:00<?, ?it/s]"
     ]
    },
    {
     "name": "stdout",
     "output_type": "stream",
     "text": [
      "<\n",
      "{'name': 'Goblin Mine', 'description': 'The entrance to an underground mine filled with strange screeching and the unmistakable smell of goblins. The rocky walls are full of cracks, leading deeper and deeper into the earth. All around, there are strange and sinister shapes in the rocks. \\n', 'buildings': [{'name': 'Mine Entrance', 'description': 'The entrance to an underground mine filled with strange screeching and the unmistakable smell of goblins.', 'enterable': True}, {'name': 'Rocky Walls', 'description': 'The rocky walls of the mine, full of cracks leading deeper and deeper into the earth, with strange and sinister shapes in the rocks.'}], 'ways': [{'name': 'Path Into the Mine', 'description': 'A path leading into the depths of the goblin mine.'}, {'name': 'Path to the Surface', 'description': 'A path leading out of the goblin mine to the surface.'}]}\n",
      "\n",
      "<\n",
      "{'name': 'Cabot City', 'description': 'A desolate cityscape, surrounded by a perpetual fog. Relics of the past stand among the dark streets, and lakeside factories with their chimneys silhouetted against the sky. The smell of motor oil hangs in the air.', 'buildings': [{'name': 'Grand Hotel', 'description': 'An imposing old hotel, with a marble facade. Lights still shine in the windows, despite the ominous atmosphere of the city.', 'enterable': True}, {'name': 'Smoggy chimney', 'description': 'A tall, smoke-belching chimney from one of the many lakeside factories.'}], 'ways': [{'name': 'Lakeside Road', 'description': 'A winding road, leading to the east.'}, {'name': 'Main Street', 'description': 'A long street running north-south, lined with old-fashioned street lamps.'}]}\n",
      "\n",
      "<\n",
      "{'name': 'Steampunk City', 'description': 'A bustling city of towering skyscrapers and winding streets. The streets are filled with clamoring steam-powered vehicles and the smell of oil and coal. Smoke billows from the chimneys of various workshops and factories.\\n', 'buildings': [{'name': 'Tower of Machinery', 'description': 'The tallest building in the city, the Tower of Machinery is a marvel of steampunk engineering. Huge steam turbines and gears can be seen turning, creaking, and clanking along the sides of the tower. ', 'enterable': True}, {'name': \"Inventor's Workshop\", 'description': 'A medium-sized building that is filled with tools, gadgets and contraptions of all shapes and sizes. The inventor here is constantly tinkering with new ideas and inventions.', 'enterable': True}, {'name': 'Central Park', 'description': \"A wide open space surrounded by the tall buildings of the city. It contains a pond, a few trees, and a statue of the city's founder.\"}], 'ways': [{'name': 'Grand Canal', 'description': 'A wide cana'}]}\n",
      "\n",
      "<\n",
      "{'name': 'Starfleet Cruiser', 'description': 'A proud and mighty Starfleet vessel similar to ones used in the Star Trek TV series. The exterior is a gleaming white, with a sleek curved design and two giant engine exhausts. The interior is a complex network of corridors and cabins'}\n",
      "\n",
      "<\n",
      "{'name': 'Hiroshima Village', 'description': 'A small cyberpunk village nestled in the hills of ancient Japan. The cobbled streets are lined with traditional wooden houses and shops, a temple with a brightly colored facade, and street market stalls. Electricity still runs here, but technology is more rudimentary and the atmosphere is that of a forgotten time.\\n', 'buildings': [{'name': 'Temple', 'description': 'A swarming hub of energy, with a brilliantly colored facade. Inside, visitors can see  traditional religious artifacts and offerings to the gods placed around the room.', 'enterable': True}, {'name': 'Streets', 'description': 'Cobbled streets lined with small traditional wooden houses, shops, and street market stalls.'}, {'name': 'Houses', 'description': 'Small wooden houses sitting close to each other, with traditional tiled roofs and paper sliding doors.', 'enterable': True}], 'ways': [{'name': 'Path to Market', 'description': 'A winding path that leads to the street market.'}, {'name': 'Alley to Temple', 'description': 'A narrow alley that leads'}]}\n",
      "\n",
      "<\n",
      "{'name': \"Felicia's Cavern\", 'description': 'A wide clearing in a dense forest, with a small cave entrance in the center. A river runs alongside the entrance, providing easy access to the underground tunnels. Nearby are a few ruins, the remains of an old fort that once warded off dragons from entering the cavern.\\n', 'buildings': [{'name': 'Cave entrance', 'description': 'A small opening in the ground, leading to a network of underground tunnels and chambers', 'enterable': True}, {'name': 'Ruined fort', 'description': 'The shattered remains of an old fort that was used to protect the entrance to the cavern.'}], 'ways': [{'name': 'River', 'description': 'A wide, shallow river that runs along the entrance of the cavern.'}]}\n",
      "\n"
     ]
    },
    {
     "name": "stderr",
     "output_type": "stream",
     "text": [
      "Generating locations:  12%|█▎        | 1/8 [00:12<01:27, 12.52s/it]"
     ]
    },
    {
     "name": "stdout",
     "output_type": "stream",
     "text": [
      "<\n",
      "[{'probability': 0.05, 'description': 'As you explore the ship, you find an alien artifact', 'actions': [{'type': 'item', 'name': 'Alien Artifact', 'description': 'A mysterious alien artifact with glowing runes and symbols on its surface'}], 'trigger': {'type': 'location'}}, {'probability': 0.1, 'description': 'You hear an eerie laughter coming from the dark corridors', 'actions': [{'type': 'character', 'name': 'Ghostly Presence', 'description': 'A ghostly presence wanders the ship, stalking its inhabitants and laughing ominously'}], 'trigger': {'type': 'location'}}, {'probability': 0.02, 'description': 'There is a malfunctioning drone in one of the cabins', 'actions': [{'type': 'critter', 'name': 'Defective Drone', 'description': 'A malfunctioning drone that lurches erratically around the cabin'}], 'trigger': {'type': 'location'}}]\n",
      "\n",
      "<\n",
      "[{'probability': 0.1, 'description': 'As you walk through the steampunk city, you spot a lost dog.', 'actions': [{'type': 'critter', 'name': 'Lost Dog', 'description': 'A small, lost puppy wandering the streets.'}], 'trigger': {'type': 'location'}}, {'probability': 0.2, 'description': 'On the central park, you find a strange contraption.', 'actions': [{'type': 'item', 'name': 'Strange Contraption', 'description': 'A strange contraption with a variety of dials, levers and buttons.'}], 'trigger': {'type': 'building', 'building': 'Central Park'}}, {'probability': 0.05, 'description': 'The turbines of the Tower of Machinery start to spin faster and faster, and a strange figure appears.', 'actions': [{'type': 'character', 'name': 'Strange Figure', 'description': 'A robed figure with a metallic face and glowing eyes. It seems to be controlling the tower.'}], 'trigger': {}}]\n",
      "\n",
      "<\n",
      "[{'probability': 0.2, 'description': 'As you enter the mine, you find a chest of treasure', 'actions': [{'type': 'item', 'name': 'Treasure Chest', 'description': 'A chest filled with gold and gems.'}], 'trigger': {'type': 'location'}}, {'probability': 0.1, 'description': 'On the rocky walls you find a strange inscription', 'actions': [{'type': 'building', 'name': 'Strange Inscription', 'description': 'A strange inscription written in an unknown language.'}], 'trigger': {'type': 'building', 'building': 'Rocky Walls'}}, {'probability': 0.05, 'description': 'As you read the strange inscription, a giant ooze appears!', 'actions': [{'type': 'character', 'name': 'Giant Ooze', 'description': 'A giant, gelatinous blob that attacks anything that moves.'}], 'trigger': {'type': 'building', 'building': 'Strange Inscription'}}, {'probability': 0}]\n",
      "\n",
      "<\n",
      "[{'probability': 0.1, 'description': 'As you wander along Main Street, you hear the sound of a crying child', 'actions': [{'type': 'character', 'name': 'Lost Child', 'description': 'A small, lost child looking for her parents.'}], 'trigger': {'type': 'way', 'way': 'Main Street'}}, {'probability': 0.07, 'description': 'As you travel along Lakeside Road, you come across an abandoned car', 'actions': [{'type': 'item', 'name': 'Abandoned Car', 'description': 'An old, rusty car, with its windows smashed in. Inside, you find a small cache of items.'}], 'trigger': {'type': 'way', 'way': 'Lakeside Road'}}, {'probability': 0.06, 'description': 'Near the Grand Hotel, you spot a strange figure lurking in the alley', 'actions': [{'type': 'character', 'name': 'Mysterious Lurker', 'description': 'A mysterious figure in a large coat'}]}]\n",
      "\n"
     ]
    },
    {
     "name": "stderr",
     "output_type": "stream",
     "text": [
      "Generating locations:  25%|██▌       | 2/8 [00:14<00:36,  6.15s/it]"
     ]
    },
    {
     "name": "stdout",
     "output_type": "stream",
     "text": [
      "<\n",
      "[{'probability': 0.2, 'description': 'As you explore the streets of the Hiroshima village, you encounter a mysterious figure cloaked in shadows.', 'actions': [{'type': 'character', 'name': 'Mysterious Figure', 'description': 'Cloaked in shadows, walking between the houses.'}], 'trigger': {'type': 'location'}}, {'probability': 0.1, 'description': 'As you stroll down the winding path to the market, you stumble upon a half-forgotten shrine.', 'actions': [{'type': 'building', 'name': 'Half-Forgotten Shrine', 'description': 'A small, crumbling shrine, covered in moss and vines.'}], 'trigger': {'type': 'way', 'way': 'Path to Market'}}, {'probability': 0.05, 'description': 'As you venture down the alley to the temple, you hear an eerie sound coming from the darkness.', 'actions': [{'type': 'critter', 'name': 'Eerie Sound', 'description': 'A strange and mysterious sound coming from the darkness.'}]}]\n",
      "\n"
     ]
    },
    {
     "name": "stderr",
     "output_type": "stream",
     "text": [
      "Generating locations:  38%|███▊      | 3/8 [00:14<00:18,  3.70s/it]"
     ]
    },
    {
     "name": "stdout",
     "output_type": "stream",
     "text": [
      "<\n",
      "[{'probability': 0.2, 'description': 'As you enter the clearing, you see a small, timid deer.', 'actions': [{'type': 'critter', 'name': 'Timid Deer', 'description': 'A small, timid deer that looks at you with large eyes before running away.'}], 'trigger': {'type': 'location'}}, {'probability': 0.1, 'description': 'As you approach the ruins of the fort, you hear a low growling in the distance.', 'actions': [{'type': 'character', 'name': 'Gargoyle', 'description': 'An ancient gargoyle guarding the entrance to the cavern, ready to attack any intruders.'}], 'trigger': {'type': 'building', 'building': 'Ruined fort'}}, {'probability': 0.05, 'description': 'As you stand near the river, you see a strange fish swimming around.', 'actions': [{'type': 'critter', 'name': 'Mysterious Fish', 'description': 'A strange fish with luminescent scales and long fins, swimming aroun'}]}]\n",
      "\n",
      "<\n",
      "{'name': 'Mystic Beach', 'description': 'A beach full of secrets, enchanting crystals and marble statues scattered along the shore. The wide, sandy beach wraps around a small bay, and on the horizon the sun sparkles off the vast expanse of the open sea.\\n', 'buildings': [{'name': 'Mystic Palace', 'description': 'A magnificent marble palace, filled with winding passages and secret chambers.', 'enterable': True}, {'name': 'Giant Seashell', 'description': 'A huge, glimmering shell with a staircase leading all the way to the top!', 'enterable': True}, {'name': 'Starfish Shrine', 'description': 'An ancient shrine made of starfish and other sea creatures.'}], 'ways': [{'name': 'Dock', 'description': 'A sturdy dock stretching out into the bay.'}, {'name': 'Sandy Coast', 'description': 'A path along the sandy coast, leading to the open sea.'}]}\n",
      "\n",
      "<\n",
      "{'name': \"SuperMario's Magic Plain\", 'description': 'A vast stretch of green grassland with patches of multicolored flowers. Giant mushrooms and trees dot the horizon, and a rainbow-colored bridge spreads across a large pond. A checkered flag flutters in the distance.\\n', 'buildings': [{'name': 'Giant Mushrooms', 'description': 'Vast mushrooms that seem to defy the laws of nature. Some of them even have golden coins on top!', 'enterable': False}, {'name': 'Rainbow Bridge', 'description': 'A beautiful bridge that stretches across a large pond, with each plank a different color of the rainbow.', 'enterable': False}, {'name': 'Checkered Flag', 'description': \"A checkered flag that flutters in the distance. It's the goal of all those who adventure in this magical land.\", 'enterable': False}], 'ways': [{'name': 'Path to North', 'description': 'A path leading northwards to an unknown destination.'}, {'name': 'Path to West', 'description': 'A path leading westwards to an unknown destination.'}]}\n",
      "\n"
     ]
    },
    {
     "name": "stderr",
     "output_type": "stream",
     "text": [
      "Generating locations: 100%|██████████| 8/8 [00:24<00:00,  3.12s/it]"
     ]
    },
    {
     "name": "stdout",
     "output_type": "stream",
     "text": [
      "<\n",
      "[{'probability': 0.1, 'description': 'As you approach the Mystic Palace, you spot a mysterious figure in the shadows.', 'actions': [{'type': 'character', 'name': 'Mysterious Figure', 'description': 'A figure shrouded in dark robes, hiding in the shadows of the palace.'}], 'trigger': {'type': 'building', 'building': 'Mystic Palace'}}, {'probability': 0.2, 'description': 'As you explore the sandy coast, you come across a large seagull picking at an old artifact.', 'actions': [{'type': 'item', 'name': 'Old Artifact', 'description': 'An ancient artifact made of bone and jade, picked at by a large seagull.'}], 'trigger': {'type': 'way', 'way': 'Sandy Coast'}}, {'probability': 0.05, 'description': 'As you climb the Giant Seashell, you encounter a group of mermaids singing a magical song.', 'actions': [{'type': 'critter', 'description': 'Group of mermaids singin'}]}]\n",
      "\n",
      "<\n",
      "[{'probability': 0.1, 'description': 'As you explore the magical plains, you find a mysterious chest.', 'actions': [{'type': 'item', 'name': 'Mysterious Chest', 'description': 'A mysterious chest full of golden coins and rare gems.'}], 'trigger': {'type': 'location'}}, {'probability': 0.3, 'description': 'On the mushroom you find a talking parrot', 'actions': [{'type': 'critter', 'name': 'Talking Parrot', 'description': 'A parrot that can speak the language of humans. Will give advice for a price.'}], 'trigger': {'type': 'building', 'building': 'Giant Mushrooms'}}, {'probability': 0.02, 'description': 'As you cross the rainbow bridge, a giant rainbow dragon appears!', 'actions': [{'type': 'character', 'name': 'Rainbow Dragon', 'description': 'A giant rainbow dragon with wings and claws. Keeps guard of the bridge and will only attack those who threaten its home.'}]}]\n",
      "\n"
     ]
    },
    {
     "name": "stderr",
     "output_type": "stream",
     "text": [
      "\n"
     ]
    },
    {
     "data": {
      "text/plain": [
       "[Location(name='Steampunk City', description='A bustling city of towering skyscrapers and winding streets. The streets are filled with clamoring steam-powered vehicles and the smell of oil and coal. Smoke billows from the chimneys of various workshops and factories.\\n', buildings=[Building(name='Tower of Machinery', description='The tallest building in the city, the Tower of Machinery is a marvel of steampunk engineering. Huge steam turbines and gears can be seen turning, creaking, and clanking along the sides of the tower. ', enterable=True, location_id=None), Building(name=\"Inventor's Workshop\", description='A medium-sized building that is filled with tools, gadgets and contraptions of all shapes and sizes. The inventor here is constantly tinkering with new ideas and inventions.', enterable=True, location_id=None), Building(name='Central Park', description=\"A wide open space surrounded by the tall buildings of the city. It contains a pond, a few trees, and a statue of the city's founder.\", enterable=False, location_id=None)], ways=[Way(name='Grand Canal', description='A wide cana', location_id=None)], encounters=[Encounter(probability=0.1, description='As you walk through the steampunk city, you spot a lost dog.', triggers=[], actions=[Action(type='critter', critter=Critter(name='Lost Dog', description='A small, lost puppy wandering the streets.'))], location_id=None), Encounter(probability=0.2, description='On the central park, you find a strange contraption.', triggers=[Trigger(type=<TriggerType.BUILDING: 'building'>, way=None, building=Building(name='Central Park', description=\"A wide open space surrounded by the tall buildings of the city. It contains a pond, a few trees, and a statue of the city's founder.\", enterable=False, location_id=None))], actions=[Action(type='item', item=Item(name='Strange Contraption', description='A strange contraption with a variety of dials, levers and buttons.'))], location_id=None)]),\n",
       " Location(name='Hiroshima Village', description='A small cyberpunk village nestled in the hills of ancient Japan. The cobbled streets are lined with traditional wooden houses and shops, a temple with a brightly colored facade, and street market stalls. Electricity still runs here, but technology is more rudimentary and the atmosphere is that of a forgotten time.\\n', buildings=[Building(name='Temple', description='A swarming hub of energy, with a brilliantly colored facade. Inside, visitors can see  traditional religious artifacts and offerings to the gods placed around the room.', enterable=True, location_id=None), Building(name='Streets', description='Cobbled streets lined with small traditional wooden houses, shops, and street market stalls.', enterable=False, location_id=None), Building(name='Houses', description='Small wooden houses sitting close to each other, with traditional tiled roofs and paper sliding doors.', enterable=True, location_id=None)], ways=[Way(name='Path to Market', description='A winding path that leads to the street market.', location_id=None), Way(name='Alley to Temple', description='A narrow alley that leads', location_id=None), Way(name='Path to Market', description='A winding path that leads to the street market.', location_id=None)], encounters=[Encounter(probability=0.2, description='As you explore the streets of the Hiroshima village, you encounter a mysterious figure cloaked in shadows.', triggers=[], actions=[Action(type='character', character=Character(name='Mysterious Figure', description='Cloaked in shadows, walking between the houses.'))], location_id=None), Encounter(probability=0.1, description='As you stroll down the winding path to the market, you stumble upon a half-forgotten shrine.', triggers=[Trigger(type=<TriggerType.WAY: 'way'>, way=Way(name='Path to Market', description='A winding path that leads to the street market.', location_id=None), building=None)], actions=[Action(type='building', building=Building(name='Half-Forgotten Shrine', description='A small, crumbling shrine, covered in moss and vines.', enterable=True))], location_id=None)]),\n",
       " Location(name=\"Felicia's Cavern\", description='A wide clearing in a dense forest, with a small cave entrance in the center. A river runs alongside the entrance, providing easy access to the underground tunnels. Nearby are a few ruins, the remains of an old fort that once warded off dragons from entering the cavern.\\n', buildings=[Building(name='Cave entrance', description='A small opening in the ground, leading to a network of underground tunnels and chambers', enterable=True, location_id=None), Building(name='Ruined fort', description='The shattered remains of an old fort that was used to protect the entrance to the cavern.', enterable=False, location_id=None)], ways=[Way(name='River', description='A wide, shallow river that runs along the entrance of the cavern.', location_id=None)], encounters=[Encounter(probability=0.2, description='As you enter the clearing, you see a small, timid deer.', triggers=[], actions=[Action(type='critter', critter=Critter(name='Timid Deer', description='A small, timid deer that looks at you with large eyes before running away.'))], location_id=None), Encounter(probability=0.1, description='As you approach the ruins of the fort, you hear a low growling in the distance.', triggers=[Trigger(type=<TriggerType.BUILDING: 'building'>, way=None, building=Building(name='Ruined fort', description='The shattered remains of an old fort that was used to protect the entrance to the cavern.', enterable=False, location_id=None))], actions=[Action(type='character', character=Character(name='Gargoyle', description='An ancient gargoyle guarding the entrance to the cavern, ready to attack any intruders.'))], location_id=None)]),\n",
       " Location(name='Cabot City', description='A desolate cityscape, surrounded by a perpetual fog. Relics of the past stand among the dark streets, and lakeside factories with their chimneys silhouetted against the sky. The smell of motor oil hangs in the air.', buildings=[Building(name='Grand Hotel', description='An imposing old hotel, with a marble facade. Lights still shine in the windows, despite the ominous atmosphere of the city.', enterable=True, location_id=None), Building(name='Smoggy chimney', description='A tall, smoke-belching chimney from one of the many lakeside factories.', enterable=False, location_id=None)], ways=[Way(name='Lakeside Road', description='A winding road, leading to the east.', location_id=None), Way(name='Main Street', description='A long street running north-south, lined with old-fashioned street lamps.', location_id=None), Way(name='Main Street', description='A long street running north-south, lined with old-fashioned street lamps.', location_id=None), Way(name='Lakeside Road', description='A winding road, leading to the east.', location_id=None)], encounters=[Encounter(probability=0.1, description='As you wander along Main Street, you hear the sound of a crying child', triggers=[Trigger(type=<TriggerType.WAY: 'way'>, way=Way(name='Main Street', description='A long street running north-south, lined with old-fashioned street lamps.', location_id=None), building=None)], actions=[Action(type='character', character=Character(name='Lost Child', description='A small, lost child looking for her parents.'))], location_id=None), Encounter(probability=0.07, description='As you travel along Lakeside Road, you come across an abandoned car', triggers=[Trigger(type=<TriggerType.WAY: 'way'>, way=Way(name='Lakeside Road', description='A winding road, leading to the east.', location_id=None), building=None)], actions=[Action(type='item', item=Item(name='Abandoned Car', description='An old, rusty car, with its windows smashed in. Inside, you find a small cache of items.'))], location_id=None)]),\n",
       " Location(name='Starfleet Cruiser', description='A proud and mighty Starfleet vessel similar to ones used in the Star Trek TV series. The exterior is a gleaming white, with a sleek curved design and two giant engine exhausts. The interior is a complex network of corridors and cabins', encounters=[Encounter(probability=0.05, description='As you explore the ship, you find an alien artifact', triggers=[], actions=[Action(type='item', item=Item(name='Alien Artifact', description='A mysterious alien artifact with glowing runes and symbols on its surface'))], location_id=None), Encounter(probability=0.1, description='You hear an eerie laughter coming from the dark corridors', triggers=[], actions=[Action(type='character', character=Character(name='Ghostly Presence', description='A ghostly presence wanders the ship, stalking its inhabitants and laughing ominously'))], location_id=None), Encounter(probability=0.02, description='There is a malfunctioning drone in one of the cabins', triggers=[], actions=[Action(type='critter', critter=Critter(name='Defective Drone', description='A malfunctioning drone that lurches erratically around the cabin'))], location_id=None)]),\n",
       " Location(name='Goblin Mine', description='The entrance to an underground mine filled with strange screeching and the unmistakable smell of goblins. The rocky walls are full of cracks, leading deeper and deeper into the earth. All around, there are strange and sinister shapes in the rocks. \\n', buildings=[Building(name='Mine Entrance', description='The entrance to an underground mine filled with strange screeching and the unmistakable smell of goblins.', enterable=True, location_id=None), Building(name='Rocky Walls', description='The rocky walls of the mine, full of cracks leading deeper and deeper into the earth, with strange and sinister shapes in the rocks.', enterable=False, location_id=None)], ways=[Way(name='Path Into the Mine', description='A path leading into the depths of the goblin mine.', location_id=None), Way(name='Path to the Surface', description='A path leading out of the goblin mine to the surface.', location_id=None)], encounters=[Encounter(probability=0.2, description='As you enter the mine, you find a chest of treasure', triggers=[], actions=[Action(type='item', item=Item(name='Treasure Chest', description='A chest filled with gold and gems.'))], location_id=None), Encounter(probability=0.1, description='On the rocky walls you find a strange inscription', triggers=[Trigger(type=<TriggerType.BUILDING: 'building'>, way=None, building=Building(name='Rocky Walls', description='The rocky walls of the mine, full of cracks leading deeper and deeper into the earth, with strange and sinister shapes in the rocks.', enterable=False, location_id=None))], actions=[Action(type='building', building=Building(name='Strange Inscription', description='A strange inscription written in an unknown language.', enterable=True))], location_id=None), Encounter(probability=0.05, description='As you read the strange inscription, a giant ooze appears!', triggers=[Trigger(type=<TriggerType.BUILDING: 'building'>, way=None, building=Building(name='Strange Inscription', description='A strange inscription written in an unknown language.', enterable=True))], actions=[Action(type='character', character=Character(name='Giant Ooze', description='A giant, gelatinous blob that attacks anything that moves.'))], location_id=None)]),\n",
       " Location(name=\"SuperMario's Magic Plain\", description='A vast stretch of green grassland with patches of multicolored flowers. Giant mushrooms and trees dot the horizon, and a rainbow-colored bridge spreads across a large pond. A checkered flag flutters in the distance.\\n', buildings=[Building(name='Giant Mushrooms', description='Vast mushrooms that seem to defy the laws of nature. Some of them even have golden coins on top!', enterable=False, location_id=None), Building(name='Rainbow Bridge', description='A beautiful bridge that stretches across a large pond, with each plank a different color of the rainbow.', enterable=False, location_id=None), Building(name='Checkered Flag', description=\"A checkered flag that flutters in the distance. It's the goal of all those who adventure in this magical land.\", enterable=False, location_id=None)], ways=[Way(name='Path to North', description='A path leading northwards to an unknown destination.', location_id=None), Way(name='Path to West', description='A path leading westwards to an unknown destination.', location_id=None)], encounters=[Encounter(probability=0.1, description='As you explore the magical plains, you find a mysterious chest.', triggers=[], actions=[Action(type='item', item=Item(name='Mysterious Chest', description='A mysterious chest full of golden coins and rare gems.'))], location_id=None), Encounter(probability=0.3, description='On the mushroom you find a talking parrot', triggers=[Trigger(type=<TriggerType.BUILDING: 'building'>, way=None, building=Building(name='Giant Mushrooms', description='Vast mushrooms that seem to defy the laws of nature. Some of them even have golden coins on top!', enterable=False, location_id=None))], actions=[Action(type='critter', critter=Critter(name='Talking Parrot', description='A parrot that can speak the language of humans. Will give advice for a price.'))], location_id=None)]),\n",
       " Location(name='Mystic Beach', description='A beach full of secrets, enchanting crystals and marble statues scattered along the shore. The wide, sandy beach wraps around a small bay, and on the horizon the sun sparkles off the vast expanse of the open sea.\\n', buildings=[Building(name='Mystic Palace', description='A magnificent marble palace, filled with winding passages and secret chambers.', enterable=True, location_id=None), Building(name='Giant Seashell', description='A huge, glimmering shell with a staircase leading all the way to the top!', enterable=True, location_id=None), Building(name='Starfish Shrine', description='An ancient shrine made of starfish and other sea creatures.', enterable=False, location_id=None)], ways=[Way(name='Dock', description='A sturdy dock stretching out into the bay.', location_id=None), Way(name='Sandy Coast', description='A path along the sandy coast, leading to the open sea.', location_id=None), Way(name='Sandy Coast', description='A path along the sandy coast, leading to the open sea.', location_id=None)], encounters=[Encounter(probability=0.1, description='As you approach the Mystic Palace, you spot a mysterious figure in the shadows.', triggers=[Trigger(type=<TriggerType.BUILDING: 'building'>, way=None, building=Building(name='Mystic Palace', description='A magnificent marble palace, filled with winding passages and secret chambers.', enterable=True, location_id=None))], actions=[Action(type='character', character=Character(name='Mysterious Figure', description='A figure shrouded in dark robes, hiding in the shadows of the palace.'))], location_id=None), Encounter(probability=0.2, description='As you explore the sandy coast, you come across a large seagull picking at an old artifact.', triggers=[Trigger(type=<TriggerType.WAY: 'way'>, way=Way(name='Sandy Coast', description='A path along the sandy coast, leading to the open sea.', location_id=None), building=None)], actions=[Action(type='item', item=Item(name='Old Artifact', description='An ancient artifact made of bone and jade, picked at by a large seagull.'))], location_id=None)])]"
      ]
     },
     "execution_count": 3,
     "metadata": {},
     "output_type": "execute_result"
    }
   ],
   "source": [
    "from holodeck.gpt_game_gen import initialize_location\n",
    "from holodeck.gpt_text import generate_location_and_encounters\n",
    "import os\n",
    "from tqdm.notebook import tqdm\n",
    "import traceback\n",
    "\n",
    "import concurrent.futures\n",
    "from tqdm import tqdm\n",
    "\n",
    "def generate_location(prompt):\n",
    "    location_dict, encounters_list = generate_location_and_encounters(prompt)\n",
    "    if location_dict:\n",
    "        try:\n",
    "            location = initialize_location(location_dict, encounters_list)\n",
    "            return location\n",
    "        except Exception as e:\n",
    "            print(\"Error: \", e)\n",
    "            traceback.print_exc()\n",
    "    else:\n",
    "        print(f\"GENERATING FROM '{prompt}' failed!\")\n",
    "        return None\n",
    "\n",
    "locations = []\n",
    "with concurrent.futures.ThreadPoolExecutor(max_workers=os.cpu_count()) as executor:\n",
    "    results = list(tqdm(executor.map(generate_location, location_prompts), total=len(location_prompts), desc=\"Generating locations\"))\n",
    "    locations += [r for r in results if r is not None]\n",
    "\n",
    "\n",
    "assert len(locations) == len(location_prompts), \"some locations are failed to generate\"\n",
    "\n",
    "locations"
   ]
  },
  {
   "cell_type": "code",
   "execution_count": null,
   "metadata": {},
   "outputs": [],
   "source": [
    "locations[0].characters"
   ]
  },
  {
   "attachments": {},
   "cell_type": "markdown",
   "metadata": {},
   "source": [
    "## Save Locations to sqlite"
   ]
  },
  {
   "cell_type": "code",
   "execution_count": 4,
   "metadata": {},
   "outputs": [],
   "source": [
    "import os\n",
    "from sqlalchemy import create_engine\n",
    "from sqlalchemy.orm import sessionmaker\n",
    "from sqlite3 import dbapi2 as sqlite\n",
    "from sqlmodel import SQLModel\n",
    "def save_locations():\n",
    "\n",
    "    # Make sure the .data directory exists\n",
    "    if not os.path.exists('.data'):\n",
    "        os.mkdir('.data')\n",
    "\n",
    "    # Remove the database file if it exists\n",
    "    if os.path.exists('.data/locations.db'):\n",
    "        os.remove('.data/locations.db')\n",
    "\n",
    "    # Create the engine that connects to the SQLite database\n",
    "    engine = create_engine('sqlite+pysqlite:///.data/locations.db', module=sqlite)\n",
    "\n",
    "    # Define a session factory that will be used to interact with the database\n",
    "    Session = sessionmaker(bind=engine)\n",
    "\n",
    "    # Create the tables in the database\n",
    "    SQLModel.metadata.create_all(engine)\n",
    "\n",
    "    # Open a session and add the locations list to it\n",
    "    with Session() as session:\n",
    "        for location in locations:\n",
    "            session.add(location)\n",
    "        session.commit()\n",
    "\n",
    "    # Close the database connection\n",
    "    engine.dispose()\n",
    "save_locations()"
   ]
  },
  {
   "attachments": {},
   "cell_type": "markdown",
   "metadata": {},
   "source": [
    "## Load Locations from sqlite"
   ]
  },
  {
   "cell_type": "code",
   "execution_count": 2,
   "metadata": {},
   "outputs": [
    {
     "data": {
      "text/plain": [
       "[Location(id=1, description='The entrance to a deep cave, surrounded by thick ivy and tall rocks. The sun barely penetrates the darkness, and a chill fills the air. The walls are covered in strange carvings of dragons, and the path inside is lined with torches.\\n', name=\"Fang's Cave\", image_id=1, encounters=[Encounter(id=1, description=\"As you approach the entrance of Fang's Cave, you hear a rumbling noise coming from the depth of the cave\", probability=0.1, location_id=1, triggers=[Trigger(id=1, way_id=None, encounter_id=1, type='building', building_id=2, way=None, building=Building(name=\"Fang's Cave Entrance\", enterable=True, image_id=10, id=2, description='The entrance of a dark cave, with carvings of dragons that lead deeper into the darkness.', location_id=1))], actions=[Action(id=1, encounter_id=1, character_id=1, building_id=None, type='character', critter_id=None, item_id=None, item=None, building=None, critter=None, character=Character(id=1, description=\"A giant, ancient dragon that guards the entrance of Fang's Cave\", location_id=None, image_id=None, name=\"Dragon of Fang's Cave\", game_character_id=None))]), Encounter(id=2, description=\"As you walk up the path to the entrance of Fang's Cave, you see a group of spiders scurrying around the ivy\", probability=0.2, location_id=1, triggers=[Trigger(id=2, way_id=1, encounter_id=2, type='way', building_id=None, way=Way(name='Path to the Cave', location_id=1, description=\"A winding path leading up to the entrance of Fang's Cave.\", id=1), building=None)], actions=[Action(id=2, encounter_id=2, character_id=None, building_id=None, type='critter', critter_id=1, item_id=None, item=None, building=None, critter=Critter(name='Critter F5o9vc', image_id=None, description='Group of spiders living in the ivy. Not aggressive, but be careful not to get too close', id=1), character=None)])], characters=[], buildings=[Building(name=\"Fang's Cave Entrance\", enterable=True, image_id=10, id=2, description='The entrance of a dark cave, with carvings of dragons that lead deeper into the darkness.', location_id=1), Building(name='The Road', enterable=False, image_id=9, id=1, description=\"A winding road leading up to the entrance of Fang's Cave.\", location_id=1), Building(name='Torches', enterable=False, image_id=11, id=3, description='Vintage torches line the walls, flickering in the darkness.', location_id=1)], ways=[Way(name='Path to the Cave', location_id=1, description=\"A winding path leading up to the entrance of Fang's Cave.\", id=1)]),\n",
       " Location(id=2, description='The streets are narrow, with old neon signs flickering in the darkness. On the left is a diner with a jukebox playing old tunes and a theater with a marquee display. In the middle of the street is a suspicious looking alleyway with a bar down the end and a back entrance to the theater. On the right is an old bank with a broken window and a car parked out front.\\n', name='Noir City Streets', image_id=2, encounters=[Encounter(id=3, description='As you walk down the main street, you spot a suspicious looking character in an alleyway.', probability=0.1, location_id=2, triggers=[Trigger(id=3, way_id=2, encounter_id=3, type='way', building_id=None, way=Way(name='Main Street', location_id=2, description='The main street lined with neon signs, two', id=2), building=None)], actions=[Action(id=3, encounter_id=3, character_id=2, building_id=None, type='character', critter_id=None, item_id=None, item=None, building=None, critter=None, character=Character(id=2, description='A shady figure, wearing a long coat and a hat pulled low.', location_id=None, image_id=None, name='Suspicious Character', game_character_id=None))]), Encounter(id=4, description='As you enter the diner, you hear someone playing the jukebox on the back wall.', probability=0.3, location_id=2, triggers=[Trigger(id=4, way_id=None, encounter_id=4, type='building', building_id=4, way=None, building=Building(name='Diner', enterable=True, image_id=24, id=4, description='A small diner with a jukebox playing old tunes.', location_id=2))], actions=[Action(id=4, encounter_id=4, character_id=3, building_id=None, type='character', critter_id=None, item_id=None, item=None, building=None, critter=None, character=Character(id=3, description='A mysterious figure playing the jukebox, their face shrouded in the shadows.', location_id=None, image_id=None, name='Mysterious Player', game_character_id=None))])], characters=[], buildings=[Building(name='Bank', enterable=True, image_id=27, id=7, description='An old bank with a broken window and a car parked out front.', location_id=2), Building(name='Bar', enterable=True, image_id=26, id=6, description='A seedy bar tucked away down an alleyway.', location_id=2), Building(name='Diner', enterable=True, image_id=24, id=4, description='A small diner with a jukebox playing old tunes.', location_id=2), Building(name='Theater', enterable=True, image_id=25, id=5, description='An old theater with a marquee display and a back entrance.', location_id=2)], ways=[Way(name='Main Street', location_id=2, description='The main street lined with neon signs, two', id=2)])]"
      ]
     },
     "execution_count": 2,
     "metadata": {},
     "output_type": "execute_result"
    }
   ],
   "source": [
    "from sqlalchemy import create_engine\n",
    "from sqlalchemy.orm import sessionmaker\n",
    "from sqlite3 import dbapi2 as sqlite\n",
    "from holodeck.models.game_objects import *\n",
    "from holodeck.models.game_engine import *\n",
    "from holodeck.models.images import *\n",
    "from sqlmodel import select\n",
    "from sqlalchemy.orm import selectinload, joinedload\n",
    "\n",
    "def get_saved_locations():\n",
    "    engine = create_engine('sqlite+pysqlite:///.data/locations.db', module=sqlite)\n",
    "\n",
    "    SessionLocal = sessionmaker(bind=engine)\n",
    "\n",
    "    with SessionLocal() as session:\n",
    "        locations = session.query(Location).options(\n",
    "            joinedload(Location.buildings),\n",
    "            joinedload(Location.ways),\n",
    "            joinedload(Location.encounters).joinedload(Encounter.actions)\n",
    "                .joinedload(Action.critter),\n",
    "            joinedload(Location.encounters).joinedload(Encounter.actions)\n",
    "                .joinedload(Action.character),\n",
    "            joinedload(Location.encounters).joinedload(Encounter.actions)\n",
    "                .joinedload(Action.item),\n",
    "            joinedload(Location.encounters).joinedload(Encounter.actions)\n",
    "                .joinedload(Action.building),\n",
    "            joinedload(Location.encounters).joinedload(Encounter.triggers).joinedload(Trigger.way),\n",
    "            joinedload(Location.encounters).joinedload(Encounter.triggers).joinedload(Trigger.building),\n",
    "            joinedload(Location.characters)\n",
    "        ).all()\n",
    "\n",
    "        return [location for location in locations]\n",
    "\n",
    "get_saved_locations()\n",
    "\n",
    "\n",
    "\n",
    "\n",
    "# Remove the loaded objects from the session cache\n",
    "# session.expunge_all()\n",
    "\n",
    "# Close the database connection\n",
    "# engine.dispose()"
   ]
  },
  {
   "attachments": {},
   "cell_type": "markdown",
   "metadata": {},
   "source": [
    "## Generate Image Prompts"
   ]
  },
  {
   "cell_type": "code",
   "execution_count": 7,
   "metadata": {},
   "outputs": [
    {
     "name": "stdout",
     "output_type": "stream",
     "text": [
      "Generated 13 descriptions\n"
     ]
    },
    {
     "data": {
      "text/markdown": [
       "### Fang's Cave"
      ],
      "text/plain": [
       "<IPython.core.display.Markdown object>"
      ]
     },
     "metadata": {},
     "output_type": "display_data"
    },
    {
     "data": {
      "text/markdown": [
       "\n",
       "- Dense ivy, towering rocks, eerie carvings, flickering torches. Mysterious, eerie, (view from distant, at cave entrance.) nvinkpunk minimalism, by adrian ghenie, esao andrews, jenny saville, edward hopper, surrealism, dark art by james jean, takato yamamoto\n",
       "    "
      ],
      "text/plain": [
       "<IPython.core.display.Markdown object>"
      ]
     },
     "metadata": {},
     "output_type": "display_data"
    },
    {
     "data": {
      "text/markdown": [
       "### Noir City Streets"
      ],
      "text/plain": [
       "<IPython.core.display.Markdown object>"
      ]
     },
     "metadata": {},
     "output_type": "display_data"
    },
    {
     "data": {
      "text/markdown": [
       "\n",
       "- Scene of old city, neon signs, alleyway, bank, bar, diner, theater, (panoramic view) nvinkpunk minimalism, by adrian ghenie, esao andrews, jenny saville, edward hopper, surrealism, dark art by james jean, takato yamamoto\n",
       "    "
      ],
      "text/plain": [
       "<IPython.core.display.Markdown object>"
      ]
     },
     "metadata": {},
     "output_type": "display_data"
    },
    {
     "data": {
      "text/markdown": [
       "### Dragon of Fang's Cave"
      ],
      "text/plain": [
       "<IPython.core.display.Markdown object>"
      ]
     },
     "metadata": {},
     "output_type": "display_data"
    },
    {
     "data": {
      "text/markdown": [
       "\n",
       "- portrait of fierce dragon, horns and armored scales, deep gold eyes, guarding, mysterious, entrance to a cave with strange carvings and torches in the background. nvinkpunk minimalism, by adrian ghenie, esao andrews, jenny saville, edward hopper, surrealism, dark art by james jean, takato yamamoto\n",
       "    "
      ],
      "text/plain": [
       "<IPython.core.display.Markdown object>"
      ]
     },
     "metadata": {},
     "output_type": "display_data"
    },
    {
     "data": {
      "text/markdown": [
       "### Critter F5o9vc"
      ],
      "text/plain": [
       "<IPython.core.display.Markdown object>"
      ]
     },
     "metadata": {},
     "output_type": "display_data"
    },
    {
     "data": {
      "text/markdown": [
       "\n",
       "- close-up shot of the critter F5o9vc, spiders in the ivy, not aggressive, caution advised, mysterious, (ivy-covered rocks and tall torches in the background:1.9) nvinkpunk minimalism, by adrian ghenie, esao andrews, jenny saville, edward hopper, surrealism, dark art by james jean, takato yamamoto\n",
       "    "
      ],
      "text/plain": [
       "<IPython.core.display.Markdown object>"
      ]
     },
     "metadata": {},
     "output_type": "display_data"
    },
    {
     "data": {
      "text/markdown": [
       "### Suspicious Character"
      ],
      "text/plain": [
       "<IPython.core.display.Markdown object>"
      ]
     },
     "metadata": {},
     "output_type": "display_data"
    },
    {
     "data": {
      "text/markdown": [
       "\n",
       "- \n",
       "portrait of shady figure, long coat, hat pulled low, suspicious look, mystery, bustling city night scene with neon signs, diner, theater, alley, bank, car in the background. nvinkpunk minimalism, by adrian ghenie, esao andrews, jenny saville, edward hopper, surrealism, dark art by james jean, takato yamamoto\n",
       "    "
      ],
      "text/plain": [
       "<IPython.core.display.Markdown object>"
      ]
     },
     "metadata": {},
     "output_type": "display_data"
    },
    {
     "data": {
      "text/markdown": [
       "### Mysterious Player"
      ],
      "text/plain": [
       "<IPython.core.display.Markdown object>"
      ]
     },
     "metadata": {},
     "output_type": "display_data"
    },
    {
     "data": {
      "text/markdown": [
       "\n",
       "- portrait of mysterious figure, face shrouded in shadows, no visible features, playing the jukebox, mystery, dimly lit street with neon signs, diner, theater and old bank in the background. nvinkpunk minimalism, by adrian ghenie, esao andrews, jenny saville, edward hopper, surrealism, dark art by james jean, takato yamamoto\n",
       "    "
      ],
      "text/plain": [
       "<IPython.core.display.Markdown object>"
      ]
     },
     "metadata": {},
     "output_type": "display_data"
    },
    {
     "data": {
      "text/markdown": [
       "### Fang's Cave Entrance"
      ],
      "text/plain": [
       "<IPython.core.display.Markdown object>"
      ]
     },
     "metadata": {},
     "output_type": "display_data"
    },
    {
     "data": {
      "text/markdown": [
       "\n",
       "- Fang's Cave Entrance: carvings of dragons, torches, darkened cave, (first-person view). nvinkpunk minimalism, by adrian ghenie, esao andrews, jenny saville, edward hopper, surrealism, dark art by james jean, takato yamamoto\n",
       "    "
      ],
      "text/plain": [
       "<IPython.core.display.Markdown object>"
      ]
     },
     "metadata": {},
     "output_type": "display_data"
    },
    {
     "data": {
      "text/markdown": [
       "### The Road"
      ],
      "text/plain": [
       "<IPython.core.display.Markdown object>"
      ]
     },
     "metadata": {},
     "output_type": "display_data"
    },
    {
     "data": {
      "text/markdown": [
       "\n",
       "- A winding road leading to a cave entrance, surrounded by thick ivy and tall rocks. Sunlight barely penetrates the darkness, and a chill fills the air. Covered in strange carvings of dragons, path lit by torches. Fantasy, atmospheric, (wide shot) nvinkpunk minimalism, by adrian ghenie, esao andrews, jenny saville, edward hopper, surrealism, dark art by james jean, takato yamamoto\n",
       "    "
      ],
      "text/plain": [
       "<IPython.core.display.Markdown object>"
      ]
     },
     "metadata": {},
     "output_type": "display_data"
    },
    {
     "data": {
      "text/markdown": [
       "### Torches"
      ],
      "text/plain": [
       "<IPython.core.display.Markdown object>"
      ]
     },
     "metadata": {},
     "output_type": "display_data"
    },
    {
     "data": {
      "text/markdown": [
       "\n",
       "- Torches, vintage, flicker, darkness, (first-person view) nvinkpunk minimalism, by adrian ghenie, esao andrews, jenny saville, edward hopper, surrealism, dark art by james jean, takato yamamoto\n",
       "    "
      ],
      "text/plain": [
       "<IPython.core.display.Markdown object>"
      ]
     },
     "metadata": {},
     "output_type": "display_data"
    },
    {
     "data": {
      "text/markdown": [
       "### Bank"
      ],
      "text/plain": [
       "<IPython.core.display.Markdown object>"
      ]
     },
     "metadata": {},
     "output_type": "display_data"
    },
    {
     "data": {
      "text/markdown": [
       "\n",
       "- Bank, broken window, car, (first-person view) nvinkpunk minimalism, by adrian ghenie, esao andrews, jenny saville, edward hopper, surrealism, dark art by james jean, takato yamamoto\n",
       "    "
      ],
      "text/plain": [
       "<IPython.core.display.Markdown object>"
      ]
     },
     "metadata": {},
     "output_type": "display_data"
    },
    {
     "data": {
      "text/markdown": [
       "### Bar"
      ],
      "text/plain": [
       "<IPython.core.display.Markdown object>"
      ]
     },
     "metadata": {},
     "output_type": "display_data"
    },
    {
     "data": {
      "text/markdown": [
       "\n",
       "- Bar: seedy, alleyway, flickering neon, (first-person view) nvinkpunk minimalism, by adrian ghenie, esao andrews, jenny saville, edward hopper, surrealism, dark art by james jean, takato yamamoto\n",
       "    "
      ],
      "text/plain": [
       "<IPython.core.display.Markdown object>"
      ]
     },
     "metadata": {},
     "output_type": "display_data"
    },
    {
     "data": {
      "text/markdown": [
       "### Diner"
      ],
      "text/plain": [
       "<IPython.core.display.Markdown object>"
      ]
     },
     "metadata": {},
     "output_type": "display_data"
    },
    {
     "data": {
      "text/markdown": [
       "\n",
       "- Diner: A small diner, jukebox playing old tunes, (first-person view). nvinkpunk minimalism, by adrian ghenie, esao andrews, jenny saville, edward hopper, surrealism, dark art by james jean, takato yamamoto\n",
       "    "
      ],
      "text/plain": [
       "<IPython.core.display.Markdown object>"
      ]
     },
     "metadata": {},
     "output_type": "display_data"
    },
    {
     "data": {
      "text/markdown": [
       "### Theater"
      ],
      "text/plain": [
       "<IPython.core.display.Markdown object>"
      ]
     },
     "metadata": {},
     "output_type": "display_data"
    },
    {
     "data": {
      "text/markdown": [
       "\n",
       "- Theater: An old theater, marquee display, back entrance. neo-noir, eerie, (top-down view) nvinkpunk minimalism, by adrian ghenie, esao andrews, jenny saville, edward hopper, surrealism, dark art by james jean, takato yamamoto\n",
       "    "
      ],
      "text/plain": [
       "<IPython.core.display.Markdown object>"
      ]
     },
     "metadata": {},
     "output_type": "display_data"
    }
   ],
   "source": [
    "from holodeck.gpt_text import \\\n",
    "        generate_object_image_prompt, \\\n",
    "        generate_building_image_prompt, \\\n",
    "        generate_location_image_prompt\n",
    "\n",
    "from concurrent.futures import ThreadPoolExecutor\n",
    "from tqdm import tqdm\n",
    "from IPython.display import display, Markdown\n",
    "\n",
    "locations = get_saved_locations()\n",
    "locations_image_prompts = []\n",
    "objects_image_prompts = []\n",
    "buildings_image_prompts = []\n",
    "\n",
    "def generate_location_images(location):\n",
    "    return [(location, generate_location_image_prompt(location))]\n",
    "\n",
    "def generate_object_images(location):\n",
    "    prompts = []\n",
    "    for o in location.objects:\n",
    "        prompts.append((o, generate_object_image_prompt(o, location)))\n",
    "    return prompts\n",
    "\n",
    "def generate_building_images(location):\n",
    "    prompts = []\n",
    "    for b in location.all_buildings:\n",
    "        prompts.append((b, generate_building_image_prompt(b, location)))\n",
    "    return prompts\n",
    "\n",
    "with ThreadPoolExecutor() as executor:\n",
    "    location_image_futures = [executor.submit(generate_location_images, location) for location in locations]\n",
    "    object_image_futures = [executor.submit(generate_object_images, location) for location in locations]\n",
    "    building_image_futures = [executor.submit(generate_building_images, location) for location in locations]\n",
    "\n",
    "    for f in location_image_futures:\n",
    "        for prompt in f.result():\n",
    "            locations_image_prompts.append(prompt)\n",
    "    for f in object_image_futures:\n",
    "        for prompt in f.result():\n",
    "            objects_image_prompts.append(prompt)\n",
    "    for f in building_image_futures:\n",
    "        for prompt in f.result():\n",
    "            buildings_image_prompts.append(prompt)\n",
    "\n",
    "\n",
    "img_prompts = locations_image_prompts + objects_image_prompts + buildings_image_prompts\n",
    "\n",
    "obj_number = 0\n",
    "for location in locations:\n",
    "    obj_number += 1\n",
    "    obj_number += len(location.all_buildings)\n",
    "    obj_number += len(location.objects)\n",
    "\n",
    "\n",
    "assert len(img_prompts) == obj_number, \"not all descriptions got generated!\"\n",
    "\n",
    "print(f\"Generated {len(img_prompts)} descriptions\")\n",
    "\n",
    "for obj, prompt in img_prompts:\n",
    "    display(Markdown(f\"### {obj.name}\"))\n",
    "    display(Markdown(f\"\"\"\n",
    "- {prompt}\n",
    "    \"\"\"))\n"
   ]
  },
  {
   "attachments": {},
   "cell_type": "markdown",
   "metadata": {},
   "source": [
    "## Generate Images"
   ]
  },
  {
   "cell_type": "code",
   "execution_count": null,
   "metadata": {},
   "outputs": [],
   "source": [
    "locations[0].objects"
   ]
  },
  {
   "cell_type": "code",
   "execution_count": 8,
   "metadata": {},
   "outputs": [
    {
     "name": "stderr",
     "output_type": "stream",
     "text": [
      "Images:   0%|          | 0/13 [00:01<?, ?it/s]\n"
     ]
    },
    {
     "ename": "UnidentifiedImageError",
     "evalue": "cannot identify image file <_io.BytesIO object at 0x7f66868958a0>",
     "output_type": "error",
     "traceback": [
      "\u001b[0;31m---------------------------------------------------------------------------\u001b[0m",
      "\u001b[0;31mUnidentifiedImageError\u001b[0m                    Traceback (most recent call last)",
      "Cell \u001b[0;32mIn[8], line 15\u001b[0m\n\u001b[1;32m     13\u001b[0m \u001b[39mfor\u001b[39;00m obj, prompt \u001b[39min\u001b[39;00m tqdm(img_prompts, desc\u001b[39m=\u001b[39m\u001b[39m\"\u001b[39m\u001b[39mImages\u001b[39m\u001b[39m\"\u001b[39m):\n\u001b[1;32m     14\u001b[0m     image_bytes \u001b[39m=\u001b[39m \u001b[39mawait\u001b[39;00m generate_image(prompt\u001b[39m=\u001b[39mprompt)\n\u001b[0;32m---> 15\u001b[0m     image \u001b[39m=\u001b[39m Image\u001b[39m.\u001b[39mopen(image_bytes)\n\u001b[1;32m     16\u001b[0m     display(Markdown(\u001b[39mf\u001b[39m\u001b[39m\"\u001b[39m\u001b[39m### \u001b[39m\u001b[39m{\u001b[39;00mobj\u001b[39m.\u001b[39mname\u001b[39m}\u001b[39;00m\u001b[39m\"\u001b[39m))\n\u001b[1;32m     17\u001b[0m     display(Markdown(\u001b[39mf\u001b[39m\u001b[39m\"\"\"\u001b[39m\n\u001b[1;32m     18\u001b[0m \u001b[39m- \u001b[39m\u001b[39m{\u001b[39;00mprompt\u001b[39m}\u001b[39;00m\n\u001b[1;32m     19\u001b[0m \u001b[39m    \u001b[39m\u001b[39m\"\"\"\u001b[39m))\n",
      "File \u001b[0;32m~/src/Holodeck/.venv/lib/python3.10/site-packages/PIL/Image.py:3298\u001b[0m, in \u001b[0;36mopen\u001b[0;34m(fp, mode, formats)\u001b[0m\n\u001b[1;32m   3296\u001b[0m     warnings\u001b[39m.\u001b[39mwarn(message)\n\u001b[1;32m   3297\u001b[0m msg \u001b[39m=\u001b[39m \u001b[39m\"\u001b[39m\u001b[39mcannot identify image file \u001b[39m\u001b[39m%r\u001b[39;00m\u001b[39m\"\u001b[39m \u001b[39m%\u001b[39m (filename \u001b[39mif\u001b[39;00m filename \u001b[39melse\u001b[39;00m fp)\n\u001b[0;32m-> 3298\u001b[0m \u001b[39mraise\u001b[39;00m UnidentifiedImageError(msg)\n",
      "\u001b[0;31mUnidentifiedImageError\u001b[0m: cannot identify image file <_io.BytesIO object at 0x7f66868958a0>"
     ]
    }
   ],
   "source": [
    "from holodeck.gpt_image import generate_image\n",
    "from IPython.display import display, Markdown\n",
    "import PIL.Image as Image\n",
    "import random\n",
    "\n",
    "\n",
    "random.shuffle(img_prompts)\n",
    "\n",
    "# img_prompts = img_prompts[:9]\n",
    "\n",
    "images = []\n",
    "\n",
    "for obj, prompt in tqdm(img_prompts, desc=\"Images\"):\n",
    "    image_bytes = await generate_image(prompt=prompt)\n",
    "    image = Image.open(image_bytes)\n",
    "    display(Markdown(f\"### {obj.name}\"))\n",
    "    display(Markdown(f\"\"\"\n",
    "- {prompt}\n",
    "    \"\"\"))\n",
    "    display(image)\n",
    "    image_file_name = f\".images/{obj.name}.png\"\n",
    "    image.save(image_file_name)\n",
    "    image.close()\n",
    "    image_bytes.close()\n",
    "    del image_bytes\n",
    "    images.append((obj, prompt, image_file_name))\n",
    "\n",
    "len(images)\n"
   ]
  },
  {
   "attachments": {},
   "cell_type": "markdown",
   "metadata": {},
   "source": [
    "## Display Images"
   ]
  },
  {
   "cell_type": "code",
   "execution_count": null,
   "metadata": {},
   "outputs": [],
   "source": [
    "import textwrap\n",
    "import matplotlib.pyplot as plt\n",
    "from matplotlib.patheffects import withStroke\n",
    "from PIL.Image import Resampling\n",
    "\n",
    "text_width = 30\n",
    "dpi = 600.0\n",
    "fig_width = 3.234\n",
    "\n",
    "columns = 4\n",
    "pic_width = fig_width * 0.27\n",
    "\n",
    "\n",
    "def plot_images(images):\n",
    "\n",
    "    # Estimate the number of rows needed based on the number of images\n",
    "    num_rows = (len(images) + columns - 1) // columns\n",
    "    fig_height = 0\n",
    "    # Get the height of the first image adjusted for scale\n",
    "    with Image.open(images[0][2]) as img:\n",
    "        w, h = img.size\n",
    "        aspect_ratio = float(w) / h\n",
    "        pic_height = pic_width / aspect_ratio\n",
    "\n",
    "        fig_height = pic_height * num_rows * 1.6\n",
    "\n",
    "    fig = plt.figure(figsize=(fig_width, fig_height), dpi=dpi)\n",
    "\n",
    "    # Define the path effect for the outline\n",
    "    outline_effect = withStroke(linewidth=0.3, foreground='black')\n",
    "\n",
    "    # Loop over the images and create a subplot for each\n",
    "    for i, (obj, prompt, image_file_name) in enumerate(images):\n",
    "        with Image.open(image_file_name) as image:\n",
    "        \n",
    "            # Resize the image\n",
    "            w, h = image.size\n",
    "            aspect_ratio = float(w) / h\n",
    "            new_width = int(pic_width * dpi)\n",
    "            new_height = int(new_width / aspect_ratio)\n",
    "            with image.resize((new_width, new_height), Resampling.LANCZOS) as image_resized:\n",
    "                # Create a subplot for the image\n",
    "                ax = fig.add_subplot(len(images) // columns + 1, columns, i + 1)\n",
    "                \n",
    "                # Display the image\n",
    "                ax.imshow(image_resized)\n",
    "\n",
    "        ax.set_xticks([])\n",
    "        ax.set_yticks([])\n",
    "        ax.set_aspect('equal') # set aspect ratio to 1:1\n",
    "        \n",
    "        # Set the title to the obj.name\n",
    "        # ax.set_title(obj.name, fontsize=4, color='magenta', pad=-10)\n",
    "        \n",
    "        # Wrap the prompt text to the desired width\n",
    "        wrapped_prompt = textwrap.fill(prompt, width=text_width)\n",
    "        wrapped_title = textwrap.fill(obj.name, width=14)\n",
    "        \n",
    "        # Display the wrapped prompt text below the title with black outline\n",
    "        ax.text(0.08, -0.38, wrapped_prompt, ha='left', va='bottom', transform=ax.transAxes, fontsize=1.7, family='monospace', color='white', path_effects=[outline_effect])\n",
    "        \n",
    "        ax.text(1.0-0.08, -0.4, wrapped_title, ha='right', va='top', transform=ax.transAxes, fontsize=2.4, family='monospace', color='magenta', path_effects=[outline_effect])\n",
    "\n",
    "    plt.subplots_adjust(wspace=0.03)\n",
    "\n",
    "    fig.patch.set_facecolor('none')\n",
    "\n",
    "\n",
    "plot_images(images)\n"
   ]
  }
 ],
 "metadata": {
  "kernelspec": {
   "display_name": ".venv",
   "language": "python",
   "name": "python3"
  },
  "language_info": {
   "codemirror_mode": {
    "name": "ipython",
    "version": 3
   },
   "file_extension": ".py",
   "mimetype": "text/x-python",
   "name": "python",
   "nbconvert_exporter": "python",
   "pygments_lexer": "ipython3",
   "version": "3.10.6"
  },
  "orig_nbformat": 4
 },
 "nbformat": 4,
 "nbformat_minor": 2
}
