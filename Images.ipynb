{
 "cells": [
  {
   "attachments": {},
   "cell_type": "markdown",
   "metadata": {},
   "source": [
    "## Prompts for locations"
   ]
  },
  {
   "cell_type": "code",
   "execution_count": 1,
   "metadata": {},
   "outputs": [],
   "source": [
    "location_prompts = [\n",
    "    \"steampunk city with skyscrapers\",\n",
    "    # \"cyberpunk village in Japanese rustic style\",\n",
    "    # \"fantasy dungsseons and dragons\",\n",
    "    # \"noir city from 1930s\",\n",
    "    # \"StarTrek inspired spaceship\",\n",
    "    # \"undeground mine of goblins\",\n",
    "    # \"SuperMario style magic land plain\",\n",
    "    # \"SuperMario style magic land beach\",\n",
    "]"
   ]
  },
  {
   "attachments": {},
   "cell_type": "markdown",
   "metadata": {},
   "source": [
    "## Generating locations "
   ]
  },
  {
   "cell_type": "code",
   "execution_count": 2,
   "metadata": {},
   "outputs": [
    {
     "name": "stderr",
     "output_type": "stream",
     "text": [
      "Generating locations:   0%|          | 0/1 [00:00<?, ?it/s]"
     ]
    },
    {
     "name": "stdout",
     "output_type": "stream",
     "text": [
      "<\n",
      "{'name': 'Steampunk Skyline', 'description': 'A bustling city of steam-powered buildings and skyscrapers. The air is alive with the whirring of cogs and wheels and the steam of high-pressure boilers. Through the smog and the fog, you can make out the silhouettes of buildings and bridges, leading to the harbor in the north. \\n', 'buildings': [{'name': 'Headquarters of the Clockwork Tower', 'description': 'The tallest building in the city and home to the ranks of the Clockwork Tower. A grand and majestic building with intricate clockwork and machinery on display, with a huge tower in the center that can be seen from far away. ', 'enterable': True}, {'name': 'The Starlight Theatre', 'description': 'An opulent theatre with a large stage and seating area, where plays, operas, and musicals can be performed. Its auditorium is lit with bright constellations of fairy lights, illuminating the elaborate decorations of the theatre.', 'enterable': True}, {'name': 'Cogwheel Café', 'description': 'A busy café with a steampunk-inspired interior where locals can gather'}]}\n",
      "\n"
     ]
    },
    {
     "name": "stderr",
     "output_type": "stream",
     "text": [
      "Generating locations: 100%|██████████| 1/1 [00:12<00:00, 12.96s/it]"
     ]
    },
    {
     "name": "stdout",
     "output_type": "stream",
     "text": [
      "<\n",
      "[{'probability': 0.1, 'description': 'As you wander the streets you come across a malfunctioning robot', 'actions': [{'type': 'critter', 'name': 'Malfunctioning Robot', 'description': 'An old, broken-down robot, its cogs and gears whirring and clanking.'}], 'trigger': {'type': 'location'}}, {'probability': 0.2, 'description': 'In the alley you stumble upon a mysterious masked figure', 'actions': [{'type': 'character', 'name': 'Mysterious Masked Figure', 'description': 'A sinister figure cloaked in a long, dark robe and wearing a peculiar, beaked mask.'}], 'trigger': {'type': 'location'}}, {'probability': 0.1, 'description': 'On the way to the theater, you see a strange contraption', 'actions': [{'type': 'item', 'name': 'Strange Contraption', 'description': 'A strange device with intricate clockwork, gears and springs.'}], 'trigger': {'type': 'locatio'}}]\n",
      "\n"
     ]
    },
    {
     "name": "stderr",
     "output_type": "stream",
     "text": [
      "\n"
     ]
    },
    {
     "data": {
      "text/plain": [
       "[Location(name='Steampunk Skyline', description='A bustling city of steam-powered buildings and skyscrapers. The air is alive with the whirring of cogs and wheels and the steam of high-pressure boilers. Through the smog and the fog, you can make out the silhouettes of buildings and bridges, leading to the harbor in the north. \\n', buildings=[Building(name='Headquarters of the Clockwork Tower', description='The tallest building in the city and home to the ranks of the Clockwork Tower. A grand and majestic building with intricate clockwork and machinery on display, with a huge tower in the center that can be seen from far away. ', enterable=True), Building(name='The Starlight Theatre', description='An opulent theatre with a large stage and seating area, where plays, operas, and musicals can be performed. Its auditorium is lit with bright constellations of fairy lights, illuminating the elaborate decorations of the theatre.', enterable=True), Building(name='Cogwheel Café', description='A busy café with a steampunk-inspired interior where locals can gather', enterable=False)], encounters=[Encounter(probability=0.1, description='As you wander the streets you come across a malfunctioning robot', triggers=[], actions=[Action(type='critter', critter=Critter(name='Malfunctioning Robot', description='An old, broken-down robot, its cogs and gears whirring and clanking.'))]), Encounter(probability=0.2, description='In the alley you stumble upon a mysterious masked figure', triggers=[], actions=[Action(type='character', character=Character(name='Mysterious Masked Figure', description='A sinister figure cloaked in a long, dark robe and wearing a peculiar, beaked mask.'))]), Encounter(probability=0.1, description='On the way to the theater, you see a strange contraption', triggers=[], actions=[Action(type='item', item=Item(name='Strange Contraption', description='A strange device with intricate clockwork, gears and springs.'))])])]"
      ]
     },
     "execution_count": 2,
     "metadata": {},
     "output_type": "execute_result"
    }
   ],
   "source": [
    "from holodeck import initialize_location\n",
    "from holodeck import generate_location_and_encounters\n",
    "import os\n",
    "from tqdm.notebook import tqdm\n",
    "import traceback\n",
    "\n",
    "import concurrent.futures\n",
    "from tqdm import tqdm\n",
    "\n",
    "def generate_location(prompt):\n",
    "    location_dict, encounters_list = generate_location_and_encounters(prompt)\n",
    "    if location_dict:\n",
    "        try:\n",
    "            location = initialize_location(location_dict, encounters_list)\n",
    "            return location\n",
    "        except Exception as e:\n",
    "            print(\"Error: \", e)\n",
    "            traceback.print_exc()\n",
    "    else:\n",
    "        print(f\"GENERATING FROM '{prompt}' failed!\")\n",
    "        return None\n",
    "\n",
    "locations = []\n",
    "with concurrent.futures.ThreadPoolExecutor(max_workers=os.cpu_count()) as executor:\n",
    "    results = list(tqdm(executor.map(generate_location, location_prompts), total=len(location_prompts), desc=\"Generating locations\"))\n",
    "    locations += [r for r in results if r is not None]\n",
    "\n",
    "\n",
    "assert len(locations) == len(location_prompts), \"some locations are failed to generate\"\n",
    "\n",
    "locations"
   ]
  },
  {
   "cell_type": "code",
   "execution_count": 3,
   "metadata": {},
   "outputs": [
    {
     "data": {
      "text/plain": [
       "Encounter(probability=0.1, description='On the way to the theater, you see a strange contraption', triggers=[], actions=[Action(type='item', item=Item(name='Strange Contraption', description='A strange device with intricate clockwork, gears and springs.'))])"
      ]
     },
     "execution_count": 3,
     "metadata": {},
     "output_type": "execute_result"
    }
   ],
   "source": [
    "b = locations[0].encounters[2\n",
    "                            ]\n",
    "b"
   ]
  },
  {
   "attachments": {},
   "cell_type": "markdown",
   "metadata": {},
   "source": [
    "## Save Locations to sqlite"
   ]
  },
  {
   "cell_type": "code",
   "execution_count": 5,
   "metadata": {},
   "outputs": [],
   "source": [
    "import os\n",
    "from sqlalchemy import create_engine\n",
    "from sqlalchemy.orm import sessionmaker\n",
    "from sqlite3 import dbapi2 as sqlite\n",
    "from sqlmodel import SQLModel\n",
    "\n",
    "# Make sure the .data directory exists\n",
    "if not os.path.exists('.data'):\n",
    "    os.mkdir('.data')\n",
    "\n",
    "# Remove the database file if it exists\n",
    "if os.path.exists('.data/locations.db'):\n",
    "    os.remove('.data/locations.db')\n",
    "\n",
    "# Create the engine that connects to the SQLite database\n",
    "engine = create_engine('sqlite+pysqlite:///.data/locations.db', module=sqlite)\n",
    "\n",
    "# Define a session factory that will be used to interact with the database\n",
    "Session = sessionmaker(bind=engine)\n",
    "\n",
    "# Create the tables in the database\n",
    "SQLModel.metadata.create_all(engine)\n",
    "\n",
    "# Open a session and add the locations list to it\n",
    "with Session() as session:\n",
    "    for location in locations:\n",
    "        session.add(location)\n",
    "    session.commit()\n",
    "\n",
    "# Close the database connection\n",
    "engine.dispose()\n"
   ]
  },
  {
   "attachments": {},
   "cell_type": "markdown",
   "metadata": {},
   "source": [
    "## Load Locations from sqlite"
   ]
  },
  {
   "cell_type": "code",
   "execution_count": 7,
   "metadata": {},
   "outputs": [
    {
     "data": {
      "text/plain": [
       "[Location(name='Steampunk Skyline', id=1, description='A bustling city of steam-powered buildings and skyscrapers. The air is alive with the whirring of cogs and wheels and the steam of high-pressure boilers. Through the smog and the fog, you can make out the silhouettes of buildings and bridges, leading to the harbor in the north. \\n')]"
      ]
     },
     "execution_count": 7,
     "metadata": {},
     "output_type": "execute_result"
    }
   ],
   "source": [
    "from sqlalchemy import create_engine\n",
    "from sqlalchemy.orm import sessionmaker\n",
    "from sqlite3 import dbapi2 as sqlite\n",
    "from sqlmodel import SQLModel, Session\n",
    "from holodeck import Location\n",
    "\n",
    "def get_saved_locations():\n",
    "    # Create the engine that connects to the SQLite database\n",
    "    engine = create_engine('sqlite+pysqlite:///.data/locations.db', module=sqlite)\n",
    "\n",
    "    # Define a session factory that will be used to interact with the database\n",
    "    SessionLocal = sessionmaker(bind=engine)\n",
    "\n",
    "    # Open a session and query the locations from the database\n",
    "    with SessionLocal() as session:\n",
    "        locations = session.query(Location).all()\n",
    "\n",
    "        # Close the database connection\n",
    "        engine.dispose()\n",
    "\n",
    "        return locations"
   ]
  },
  {
   "attachments": {},
   "cell_type": "markdown",
   "metadata": {},
   "source": [
    "## Generate Image Prompts"
   ]
  },
  {
   "cell_type": "code",
   "execution_count": 8,
   "metadata": {},
   "outputs": [
    {
     "name": "stdout",
     "output_type": "stream",
     "text": [
      "Error in function generate_location_image_prompt: (sqlite3.ProgrammingError) SQLite objects created in a thread can only be used in that same thread. The object was created in thread id 8707719488 and this is thread id 6220443648.\n",
      "[SQL: SELECT building.id AS building_id, building.name AS building_name, building.description AS building_description, building.enterable AS building_enterable, building.location_id AS building_location_id \n",
      "FROM building \n",
      "WHERE ? = building.location_id]\n",
      "[parameters: [{'%(4757449712 param)s': 1}]]\n",
      "(Background on this error at: https://sqlalche.me/e/14/f405)\n",
      "Error in function generate_location_image_prompt: (sqlite3.ProgrammingError) SQLite objects created in a thread can only be used in that same thread. The object was created in thread id 8707719488 and this is thread id 6220443648.\n",
      "[SQL: SELECT building.id AS building_id, building.name AS building_name, building.description AS building_description, building.enterable AS building_enterable, building.location_id AS building_location_id \n",
      "FROM building \n",
      "WHERE ? = building.location_id]\n",
      "[parameters: [{'%(4757449712 param)s': 1}]]\n",
      "(Background on this error at: https://sqlalche.me/e/14/f405)\n",
      "Error in function generate_location_image_prompt: (sqlite3.ProgrammingError) SQLite objects created in a thread can only be used in that same thread. The object was created in thread id 8707719488 and this is thread id 6220443648.\n",
      "[SQL: SELECT building.id AS building_id, building.name AS building_name, building.description AS building_description, building.enterable AS building_enterable, building.location_id AS building_location_id \n",
      "FROM building \n",
      "WHERE ? = building.location_id]\n",
      "[parameters: [{'%(4757449712 param)s': 1}]]\n",
      "(Background on this error at: https://sqlalche.me/e/14/f405)\n"
     ]
    },
    {
     "name": "stderr",
     "output_type": "stream",
     "text": [
      "Locations: 0it [00:00, ?it/s]\n"
     ]
    },
    {
     "ename": "Exception",
     "evalue": "Function generate_location_image_prompt failed after 3 attempts",
     "output_type": "error",
     "traceback": [
      "\u001b[0;31m---------------------------------------------------------------------------\u001b[0m",
      "\u001b[0;31mException\u001b[0m                                 Traceback (most recent call last)",
      "Cell \u001b[0;32mIn[8], line 29\u001b[0m\n\u001b[1;32m     26\u001b[0m     \u001b[39mreturn\u001b[39;00m prompts\n\u001b[1;32m     28\u001b[0m \u001b[39mwith\u001b[39;00m ThreadPoolExecutor() \u001b[39mas\u001b[39;00m executor:\n\u001b[0;32m---> 29\u001b[0m     location_image_futures \u001b[39m=\u001b[39m \u001b[39mlist\u001b[39;49m(tqdm(executor\u001b[39m.\u001b[39;49mmap(generate_location_images, locations), desc\u001b[39m=\u001b[39;49m\u001b[39m\"\u001b[39;49m\u001b[39mLocations\u001b[39;49m\u001b[39m\"\u001b[39;49m))\n\u001b[1;32m     30\u001b[0m     object_image_futures \u001b[39m=\u001b[39m [executor\u001b[39m.\u001b[39msubmit(generate_object_images, location) \u001b[39mfor\u001b[39;00m location \u001b[39min\u001b[39;00m locations]\n\u001b[1;32m     31\u001b[0m     building_image_futures \u001b[39m=\u001b[39m [executor\u001b[39m.\u001b[39msubmit(generate_building_images, location) \u001b[39mfor\u001b[39;00m location \u001b[39min\u001b[39;00m locations]\n",
      "File \u001b[0;32m~/SRC/Holodeck/.venv/lib/python3.10/site-packages/tqdm/std.py:1178\u001b[0m, in \u001b[0;36mtqdm.__iter__\u001b[0;34m(self)\u001b[0m\n\u001b[1;32m   1175\u001b[0m time \u001b[39m=\u001b[39m \u001b[39mself\u001b[39m\u001b[39m.\u001b[39m_time\n\u001b[1;32m   1177\u001b[0m \u001b[39mtry\u001b[39;00m:\n\u001b[0;32m-> 1178\u001b[0m     \u001b[39mfor\u001b[39;00m obj \u001b[39min\u001b[39;00m iterable:\n\u001b[1;32m   1179\u001b[0m         \u001b[39myield\u001b[39;00m obj\n\u001b[1;32m   1180\u001b[0m         \u001b[39m# Update and possibly print the progressbar.\u001b[39;00m\n\u001b[1;32m   1181\u001b[0m         \u001b[39m# Note: does not call self.update(1) for speed optimisation.\u001b[39;00m\n",
      "File \u001b[0;32m/opt/homebrew/Cellar/python@3.10/3.10.9/Frameworks/Python.framework/Versions/3.10/lib/python3.10/concurrent/futures/_base.py:621\u001b[0m, in \u001b[0;36mExecutor.map.<locals>.result_iterator\u001b[0;34m()\u001b[0m\n\u001b[1;32m    618\u001b[0m \u001b[39mwhile\u001b[39;00m fs:\n\u001b[1;32m    619\u001b[0m     \u001b[39m# Careful not to keep a reference to the popped future\u001b[39;00m\n\u001b[1;32m    620\u001b[0m     \u001b[39mif\u001b[39;00m timeout \u001b[39mis\u001b[39;00m \u001b[39mNone\u001b[39;00m:\n\u001b[0;32m--> 621\u001b[0m         \u001b[39myield\u001b[39;00m _result_or_cancel(fs\u001b[39m.\u001b[39;49mpop())\n\u001b[1;32m    622\u001b[0m     \u001b[39melse\u001b[39;00m:\n\u001b[1;32m    623\u001b[0m         \u001b[39myield\u001b[39;00m _result_or_cancel(fs\u001b[39m.\u001b[39mpop(), end_time \u001b[39m-\u001b[39m time\u001b[39m.\u001b[39mmonotonic())\n",
      "File \u001b[0;32m/opt/homebrew/Cellar/python@3.10/3.10.9/Frameworks/Python.framework/Versions/3.10/lib/python3.10/concurrent/futures/_base.py:319\u001b[0m, in \u001b[0;36m_result_or_cancel\u001b[0;34m(***failed resolving arguments***)\u001b[0m\n\u001b[1;32m    317\u001b[0m \u001b[39mtry\u001b[39;00m:\n\u001b[1;32m    318\u001b[0m     \u001b[39mtry\u001b[39;00m:\n\u001b[0;32m--> 319\u001b[0m         \u001b[39mreturn\u001b[39;00m fut\u001b[39m.\u001b[39;49mresult(timeout)\n\u001b[1;32m    320\u001b[0m     \u001b[39mfinally\u001b[39;00m:\n\u001b[1;32m    321\u001b[0m         fut\u001b[39m.\u001b[39mcancel()\n",
      "File \u001b[0;32m/opt/homebrew/Cellar/python@3.10/3.10.9/Frameworks/Python.framework/Versions/3.10/lib/python3.10/concurrent/futures/_base.py:451\u001b[0m, in \u001b[0;36mFuture.result\u001b[0;34m(self, timeout)\u001b[0m\n\u001b[1;32m    449\u001b[0m     \u001b[39mraise\u001b[39;00m CancelledError()\n\u001b[1;32m    450\u001b[0m \u001b[39melif\u001b[39;00m \u001b[39mself\u001b[39m\u001b[39m.\u001b[39m_state \u001b[39m==\u001b[39m FINISHED:\n\u001b[0;32m--> 451\u001b[0m     \u001b[39mreturn\u001b[39;00m \u001b[39mself\u001b[39;49m\u001b[39m.\u001b[39;49m__get_result()\n\u001b[1;32m    453\u001b[0m \u001b[39mself\u001b[39m\u001b[39m.\u001b[39m_condition\u001b[39m.\u001b[39mwait(timeout)\n\u001b[1;32m    455\u001b[0m \u001b[39mif\u001b[39;00m \u001b[39mself\u001b[39m\u001b[39m.\u001b[39m_state \u001b[39min\u001b[39;00m [CANCELLED, CANCELLED_AND_NOTIFIED]:\n",
      "File \u001b[0;32m/opt/homebrew/Cellar/python@3.10/3.10.9/Frameworks/Python.framework/Versions/3.10/lib/python3.10/concurrent/futures/_base.py:403\u001b[0m, in \u001b[0;36mFuture.__get_result\u001b[0;34m(self)\u001b[0m\n\u001b[1;32m    401\u001b[0m \u001b[39mif\u001b[39;00m \u001b[39mself\u001b[39m\u001b[39m.\u001b[39m_exception:\n\u001b[1;32m    402\u001b[0m     \u001b[39mtry\u001b[39;00m:\n\u001b[0;32m--> 403\u001b[0m         \u001b[39mraise\u001b[39;00m \u001b[39mself\u001b[39m\u001b[39m.\u001b[39m_exception\n\u001b[1;32m    404\u001b[0m     \u001b[39mfinally\u001b[39;00m:\n\u001b[1;32m    405\u001b[0m         \u001b[39m# Break a reference cycle with the exception in self._exception\u001b[39;00m\n\u001b[1;32m    406\u001b[0m         \u001b[39mself\u001b[39m \u001b[39m=\u001b[39m \u001b[39mNone\u001b[39;00m\n",
      "File \u001b[0;32m/opt/homebrew/Cellar/python@3.10/3.10.9/Frameworks/Python.framework/Versions/3.10/lib/python3.10/concurrent/futures/thread.py:58\u001b[0m, in \u001b[0;36m_WorkItem.run\u001b[0;34m(self)\u001b[0m\n\u001b[1;32m     55\u001b[0m     \u001b[39mreturn\u001b[39;00m\n\u001b[1;32m     57\u001b[0m \u001b[39mtry\u001b[39;00m:\n\u001b[0;32m---> 58\u001b[0m     result \u001b[39m=\u001b[39m \u001b[39mself\u001b[39;49m\u001b[39m.\u001b[39;49mfn(\u001b[39m*\u001b[39;49m\u001b[39mself\u001b[39;49m\u001b[39m.\u001b[39;49margs, \u001b[39m*\u001b[39;49m\u001b[39m*\u001b[39;49m\u001b[39mself\u001b[39;49m\u001b[39m.\u001b[39;49mkwargs)\n\u001b[1;32m     59\u001b[0m \u001b[39mexcept\u001b[39;00m \u001b[39mBaseException\u001b[39;00m \u001b[39mas\u001b[39;00m exc:\n\u001b[1;32m     60\u001b[0m     \u001b[39mself\u001b[39m\u001b[39m.\u001b[39mfuture\u001b[39m.\u001b[39mset_exception(exc)\n",
      "Cell \u001b[0;32mIn[8], line 14\u001b[0m, in \u001b[0;36mgenerate_location_images\u001b[0;34m(location)\u001b[0m\n\u001b[1;32m     13\u001b[0m \u001b[39mdef\u001b[39;00m \u001b[39mgenerate_location_images\u001b[39m(location):\n\u001b[0;32m---> 14\u001b[0m     \u001b[39mreturn\u001b[39;00m (location, generate_location_image_prompt(location))\n",
      "File \u001b[0;32m~/SRC/Holodeck/holodeck/gpt_text.py:36\u001b[0m, in \u001b[0;36mretry.<locals>.decorator.<locals>.wrapper\u001b[0;34m(*args, **kwargs)\u001b[0m\n\u001b[1;32m     34\u001b[0m         \u001b[39mprint\u001b[39m(\u001b[39mf\u001b[39m\u001b[39m'\u001b[39m\u001b[39mError in function \u001b[39m\u001b[39m{\u001b[39;00mfunc\u001b[39m.\u001b[39m\u001b[39m__name__\u001b[39m\u001b[39m}\u001b[39;00m\u001b[39m: \u001b[39m\u001b[39m{\u001b[39;00me\u001b[39m}\u001b[39;00m\u001b[39m'\u001b[39m)\n\u001b[1;32m     35\u001b[0m         attempts \u001b[39m+\u001b[39m\u001b[39m=\u001b[39m \u001b[39m1\u001b[39m\n\u001b[0;32m---> 36\u001b[0m \u001b[39mraise\u001b[39;00m \u001b[39mException\u001b[39;00m(\u001b[39mf\u001b[39m\u001b[39m'\u001b[39m\u001b[39mFunction \u001b[39m\u001b[39m{\u001b[39;00mfunc\u001b[39m.\u001b[39m\u001b[39m__name__\u001b[39m\u001b[39m}\u001b[39;00m\u001b[39m failed after \u001b[39m\u001b[39m{\u001b[39;00mmax_attempt\u001b[39m}\u001b[39;00m\u001b[39m attempts\u001b[39m\u001b[39m'\u001b[39m)\n",
      "\u001b[0;31mException\u001b[0m: Function generate_location_image_prompt failed after 3 attempts"
     ]
    }
   ],
   "source": [
    "from holodeck.gpt_text import \\\n",
    "        generate_object_image_prompt, \\\n",
    "        generate_building_image_prompt, \\\n",
    "        generate_location_image_prompt\n",
    "\n",
    "from concurrent.futures import ThreadPoolExecutor\n",
    "from tqdm import tqdm\n",
    "\n",
    "locations_prompts = []\n",
    "objects_image_prompts = []\n",
    "buildings_image_prompts = []\n",
    "\n",
    "def generate_location_images(location):\n",
    "    return (location, generate_location_image_prompt(location))\n",
    "\n",
    "def generate_object_images(location):\n",
    "    prompts = []\n",
    "    for o in location.objects:\n",
    "        prompts.append((o, generate_object_image_prompt(o, location)))\n",
    "    return prompts\n",
    "\n",
    "def generate_building_images(location):\n",
    "    prompts = []\n",
    "    for b in location.all_buildings:\n",
    "        prompts.append((b, generate_building_image_prompt(b, location)))\n",
    "    return prompts\n",
    "\n",
    "with ThreadPoolExecutor() as executor:\n",
    "    location_image_futures = list(tqdm(executor.map(generate_location_images, locations), desc=\"Locations\"))\n",
    "    object_image_futures = [executor.submit(generate_object_images, location) for location in locations]\n",
    "    building_image_futures = [executor.submit(generate_building_images, location) for location in locations]\n",
    "\n",
    "    for location, prompt in location_image_futures:\n",
    "        locations_prompts.append((location, prompt))\n",
    "    for f in object_image_futures:\n",
    "        for prompt in f.result():\n",
    "            objects_image_prompts.append(prompt)\n",
    "    for f in building_image_futures:\n",
    "        for prompt in f.result():\n",
    "            buildings_image_prompts.append(prompt)\n",
    "\n",
    "\n",
    "img_prompts = locations_prompts + objects_image_prompts + buildings_image_prompts\n",
    "\n",
    "obj_number = 0\n",
    "for location in locations:\n",
    "    obj_number += 1\n",
    "    obj_number += len(location.all_buildings)\n",
    "    obj_number += len(location.objects)\n",
    "\n",
    "\n",
    "assert len(img_prompts) == obj_number, \"not all descriptions got generated!\"\n",
    "\n"
   ]
  },
  {
   "cell_type": "code",
   "execution_count": null,
   "metadata": {},
   "outputs": [],
   "source": [
    "location = locations[0]\n",
    "len(location.encounters[1].triggers)\n"
   ]
  },
  {
   "attachments": {},
   "cell_type": "markdown",
   "metadata": {},
   "source": [
    "## Generate Images"
   ]
  },
  {
   "cell_type": "code",
   "execution_count": null,
   "metadata": {},
   "outputs": [],
   "source": [
    "from holodeck.gpt_image import generate_image\n",
    "from IPython.display import display, Markdown\n",
    "import PIL.Image as Image\n",
    "import random\n",
    "\n",
    "\n",
    "random.shuffle(img_prompts)\n",
    "\n",
    "# img_prompts = img_prompts[:9]\n",
    "\n",
    "images = []\n",
    "\n",
    "for obj, gen_options in tqdm(img_prompts, desc=\"Images\"):\n",
    "    prompt = gen_options['prompt']\n",
    "    negative_prompt = gen_options['negative_prompt']\n",
    "    image_bytes = await generate_image(prompt=prompt, negative_prompt=negative_prompt)\n",
    "    image = Image.open(image_bytes)\n",
    "    display(Markdown(f\"### {obj.name}\"))\n",
    "    display(Markdown(f\"\"\"\n",
    "- {prompt}\n",
    "  - *negative: {negative_prompt}*\n",
    "    \"\"\"))\n",
    "    display(image)\n",
    "    image_file_name = f\".images/{obj.name}.png\"\n",
    "    image.save(image_file_name)\n",
    "    image.close()\n",
    "    image_bytes.close()\n",
    "    del image_bytes\n",
    "    images.append((obj, prompt, image_file_name))\n",
    "\n",
    "len(images)\n"
   ]
  },
  {
   "attachments": {},
   "cell_type": "markdown",
   "metadata": {},
   "source": [
    "## Display Images"
   ]
  },
  {
   "cell_type": "code",
   "execution_count": null,
   "metadata": {},
   "outputs": [],
   "source": [
    "import textwrap\n",
    "import matplotlib.pyplot as plt\n",
    "from matplotlib.patheffects import withStroke\n",
    "from PIL.Image import Resampling\n",
    "\n",
    "text_width = 30\n",
    "dpi = 600.0\n",
    "fig_width = 3.234\n",
    "\n",
    "columns = 4\n",
    "pic_width = fig_width * 0.27\n",
    "\n",
    "\n",
    "def plot_images(images):\n",
    "\n",
    "    # Estimate the number of rows needed based on the number of images\n",
    "    num_rows = (len(images) + columns - 1) // columns\n",
    "    fig_height = 0\n",
    "    # Get the height of the first image adjusted for scale\n",
    "    with Image.open(images[0][2]) as img:\n",
    "        w, h = img.size\n",
    "        aspect_ratio = float(w) / h\n",
    "        pic_height = pic_width / aspect_ratio\n",
    "\n",
    "        fig_height = pic_height * num_rows * 1.6\n",
    "\n",
    "    fig = plt.figure(figsize=(fig_width, fig_height), dpi=dpi)\n",
    "\n",
    "    # Define the path effect for the outline\n",
    "    outline_effect = withStroke(linewidth=0.3, foreground='black')\n",
    "\n",
    "    # Loop over the images and create a subplot for each\n",
    "    for i, (obj, prompt, image_file_name) in enumerate(images):\n",
    "        with Image.open(image_file_name) as image:\n",
    "        \n",
    "            # Resize the image\n",
    "            w, h = image.size\n",
    "            aspect_ratio = float(w) / h\n",
    "            new_width = int(pic_width * dpi)\n",
    "            new_height = int(new_width / aspect_ratio)\n",
    "            with image.resize((new_width, new_height), Resampling.LANCZOS) as image_resized:\n",
    "                # Create a subplot for the image\n",
    "                ax = fig.add_subplot(len(images) // columns + 1, columns, i + 1)\n",
    "                \n",
    "                # Display the image\n",
    "                ax.imshow(image_resized)\n",
    "\n",
    "        ax.set_xticks([])\n",
    "        ax.set_yticks([])\n",
    "        ax.set_aspect('equal') # set aspect ratio to 1:1\n",
    "        \n",
    "        # Set the title to the obj.name\n",
    "        # ax.set_title(obj.name, fontsize=4, color='magenta', pad=-10)\n",
    "        \n",
    "        # Wrap the prompt text to the desired width\n",
    "        wrapped_prompt = textwrap.fill(prompt, width=text_width)\n",
    "        wrapped_title = textwrap.fill(obj.name, width=14)\n",
    "        \n",
    "        # Display the wrapped prompt text below the title with black outline\n",
    "        ax.text(0.08, -0.38, wrapped_prompt, ha='left', va='bottom', transform=ax.transAxes, fontsize=1.7, family='monospace', color='white', path_effects=[outline_effect])\n",
    "        \n",
    "        ax.text(1.0-0.08, -0.4, wrapped_title, ha='right', va='top', transform=ax.transAxes, fontsize=2.4, family='monospace', color='magenta', path_effects=[outline_effect])\n",
    "\n",
    "    plt.subplots_adjust(wspace=0.03)\n",
    "\n",
    "    fig.patch.set_facecolor('none')\n",
    "\n",
    "\n",
    "plot_images(images)\n"
   ]
  }
 ],
 "metadata": {
  "kernelspec": {
   "display_name": ".venv",
   "language": "python",
   "name": "python3"
  },
  "language_info": {
   "codemirror_mode": {
    "name": "ipython",
    "version": 3
   },
   "file_extension": ".py",
   "mimetype": "text/x-python",
   "name": "python",
   "nbconvert_exporter": "python",
   "pygments_lexer": "ipython3",
   "version": "3.10.9"
  },
  "orig_nbformat": 4
 },
 "nbformat": 4,
 "nbformat_minor": 2
}
