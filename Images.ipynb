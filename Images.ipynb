{
 "cells": [
  {
   "attachments": {},
   "cell_type": "markdown",
   "metadata": {},
   "source": [
    "## Prompts for locations"
   ]
  },
  {
   "cell_type": "code",
   "execution_count": null,
   "metadata": {},
   "outputs": [],
   "source": [
    "location_prompts = [\n",
    "    \"steampunk city with skyscrapers\",\n",
    "    \"cyberpunk village in Japanese rustic style\",\n",
    "    \"fantasy dungsseons and dragons\",\n",
    "    \"noir city from 1930s\",\n",
    "    \"StarTrek inspired spaceship\",\n",
    "    \"undeground mine of goblins\",\n",
    "    \"SuperMario style magic land plain\",\n",
    "    \"SuperMario style magic land beach\",\n",
    "]"
   ]
  },
  {
   "attachments": {},
   "cell_type": "markdown",
   "metadata": {},
   "source": [
    "## Generating locations "
   ]
  },
  {
   "cell_type": "code",
   "execution_count": null,
   "metadata": {},
   "outputs": [],
   "source": [
    "from holodeck import initialize_location\n",
    "from holodeck import generate_location_and_encounters\n",
    "import os\n",
    "from tqdm.notebook import tqdm\n",
    "import traceback\n",
    "\n",
    "import concurrent.futures\n",
    "from tqdm import tqdm\n",
    "\n",
    "def generate_location(prompt):\n",
    "    location_dict, encounters_list = generate_location_and_encounters(prompt)\n",
    "    if location_dict:\n",
    "        try:\n",
    "            location = initialize_location(location_dict, encounters_list)\n",
    "            return location\n",
    "        except Exception as e:\n",
    "            print(\"Error: \", e)\n",
    "            traceback.print_exc()\n",
    "    else:\n",
    "        print(f\"GENERATING FROM '{prompt}' failed!\")\n",
    "        return None\n",
    "\n",
    "locations = []\n",
    "with concurrent.futures.ThreadPoolExecutor(max_workers=os.cpu_count()) as executor:\n",
    "    results = list(tqdm(executor.map(generate_location, location_prompts), total=len(location_prompts), desc=\"Generating locations\"))\n",
    "    locations += [r for r in results if r is not None]\n",
    "\n",
    "\n",
    "\n",
    "locations"
   ]
  },
  {
   "attachments": {},
   "cell_type": "markdown",
   "metadata": {},
   "source": [
    "## Generate Image Prompts"
   ]
  },
  {
   "cell_type": "code",
   "execution_count": null,
   "metadata": {},
   "outputs": [],
   "source": [
    "from holodeck.gpt_text import \\\n",
    "        generate_object_image_prompt, \\\n",
    "        generate_building_image_prompt, \\\n",
    "        generate_location_image_prompt\n",
    "\n",
    "from concurrent.futures import ThreadPoolExecutor\n",
    "from tqdm import tqdm\n",
    "\n",
    "locations_prompts = []\n",
    "objects_image_prompts = []\n",
    "buildings_image_prompts = []\n",
    "\n",
    "def generate_location_images(location):\n",
    "    return (location, generate_location_image_prompt(location))\n",
    "\n",
    "def generate_object_images(location):\n",
    "    prompts = []\n",
    "    for o in location.objects:\n",
    "        prompts.append((o, generate_object_image_prompt(o, location)))\n",
    "    return prompts\n",
    "\n",
    "def generate_building_images(location):\n",
    "    prompts = []\n",
    "    for b in location.all_buildings:\n",
    "        prompts.append((b, generate_building_image_prompt(b, location)))\n",
    "    return prompts\n",
    "\n",
    "with ThreadPoolExecutor() as executor:\n",
    "    location_image_futures = list(tqdm(executor.map(generate_location_images, locations), desc=\"Locations\"))\n",
    "    object_image_futures = [executor.submit(generate_object_images, location) for location in locations]\n",
    "    building_image_futures = [executor.submit(generate_building_images, location) for location in locations]\n",
    "\n",
    "    for location, prompt in location_image_futures:\n",
    "        locations_prompts.append((location, prompt))\n",
    "    for f in object_image_futures:\n",
    "        for prompt in f.result():\n",
    "            objects_image_prompts.append(prompt)\n",
    "    for f in building_image_futures:\n",
    "        for prompt in f.result():\n",
    "            buildings_image_prompts.append(prompt)\n",
    "\n",
    "\n"
   ]
  },
  {
   "attachments": {},
   "cell_type": "markdown",
   "metadata": {},
   "source": [
    "## Generate Images"
   ]
  },
  {
   "cell_type": "code",
   "execution_count": null,
   "metadata": {},
   "outputs": [],
   "source": [
    "from holodeck.gpt_image import generate_image\n",
    "from IPython.display import display, Markdown\n",
    "import PIL.Image as Image\n",
    "\n",
    "img_prompts = locations_prompts + objects_image_prompts + buildings_image_prompts\n",
    "\n",
    "# img_prompts = img_prompts[:9]\n",
    "\n",
    "images = []\n",
    "\n",
    "for obj, gen_options in tqdm(img_prompts, desc=\"Images\"):\n",
    "    prompt = gen_options['prompt']\n",
    "    negative_prompt = gen_options['negative_prompt']\n",
    "    image_bytes = await generate_image(prompt=prompt, negative_prompt=negative_prompt)\n",
    "    image = Image.open(image_bytes)\n",
    "    display(Markdown(f\"### {obj.name}\"))\n",
    "    display(Markdown(\"\"\"\n",
    "- {prompt}\n",
    "  - _<<negative>>:_ *{negative_prompt}*\n",
    "    \"\"\"))\n",
    "    display(image)\n",
    "    image_file_name = f\".images/{obj.name}.png\"\n",
    "    image.save(image_file_name)\n",
    "    image.close()\n",
    "    image_bytes.close()\n",
    "    del image_bytes\n",
    "    images.append((obj, prompt, image_file_name))\n",
    "\n",
    "len(images)\n"
   ]
  },
  {
   "attachments": {},
   "cell_type": "markdown",
   "metadata": {},
   "source": [
    "## Display Images"
   ]
  },
  {
   "cell_type": "code",
   "execution_count": null,
   "metadata": {},
   "outputs": [],
   "source": [
    "import textwrap\n",
    "import matplotlib.pyplot as plt\n",
    "from matplotlib.patheffects import withStroke\n",
    "from PIL.Image import Resampling\n",
    "\n",
    "text_width = 30\n",
    "dpi = 600.0\n",
    "fig_width = 3.234\n",
    "\n",
    "columns = 4\n",
    "pic_width = fig_width * 0.27\n",
    "\n",
    "\n",
    "def plot_images(images):\n",
    "\n",
    "    # Estimate the number of rows needed based on the number of images\n",
    "    num_rows = (len(images) + columns - 1) // columns\n",
    "    fig_height = 0\n",
    "    # Get the height of the first image adjusted for scale\n",
    "    with Image.open(images[0][2]) as img:\n",
    "        w, h = img.size\n",
    "        aspect_ratio = float(w) / h\n",
    "        pic_height = pic_width / aspect_ratio\n",
    "\n",
    "        fig_height = pic_height * num_rows * 1.6\n",
    "\n",
    "    fig = plt.figure(figsize=(fig_width, fig_height), dpi=dpi)\n",
    "\n",
    "    # Define the path effect for the outline\n",
    "    outline_effect = withStroke(linewidth=0.3, foreground='black')\n",
    "\n",
    "    # Loop over the images and create a subplot for each\n",
    "    for i, (obj, prompt, image_file_name) in enumerate(images):\n",
    "        with Image.open(image_file_name) as image:\n",
    "        \n",
    "            # Resize the image\n",
    "            w, h = image.size\n",
    "            aspect_ratio = float(w) / h\n",
    "            new_width = int(pic_width * dpi)\n",
    "            new_height = int(new_width / aspect_ratio)\n",
    "            with image.resize((new_width, new_height), Resampling.LANCZOS) as image_resized:\n",
    "                # Create a subplot for the image\n",
    "                ax = fig.add_subplot(len(images) // columns + 1, columns, i + 1)\n",
    "                \n",
    "                # Display the image\n",
    "                ax.imshow(image_resized)\n",
    "\n",
    "        ax.set_xticks([])\n",
    "        ax.set_yticks([])\n",
    "        ax.set_aspect('equal') # set aspect ratio to 1:1\n",
    "        \n",
    "        # Set the title to the obj.name\n",
    "        # ax.set_title(obj.name, fontsize=4, color='magenta', pad=-10)\n",
    "        \n",
    "        # Wrap the prompt text to the desired width\n",
    "        wrapped_prompt = textwrap.fill(prompt, width=text_width)\n",
    "        wrapped_title = textwrap.fill(obj.name, width=14)\n",
    "        \n",
    "        # Display the wrapped prompt text below the title with black outline\n",
    "        ax.text(0.08, -0.38, wrapped_prompt, ha='left', va='bottom', transform=ax.transAxes, fontsize=1.7, family='monospace', color='white', path_effects=[outline_effect])\n",
    "        \n",
    "        ax.text(1.0-0.08, -0.4, wrapped_title, ha='right', va='top', transform=ax.transAxes, fontsize=2.4, family='monospace', color='magenta', path_effects=[outline_effect])\n",
    "\n",
    "    plt.subplots_adjust(wspace=0.03)\n",
    "\n",
    "    fig.patch.set_facecolor('none')\n",
    "\n",
    "\n",
    "plot_images(images)\n"
   ]
  },
  {
   "cell_type": "code",
   "execution_count": null,
   "metadata": {},
   "outputs": [],
   "source": [
    "print(\"hi\") "
   ]
  },
  {
   "cell_type": "code",
   "execution_count": null,
   "metadata": {},
   "outputs": [],
   "source": [
    "print"
   ]
  }
 ],
 "metadata": {
  "kernelspec": {
   "display_name": ".venv",
   "language": "python",
   "name": "python3"
  },
  "language_info": {
   "codemirror_mode": {
    "name": "ipython",
    "version": 3
   },
   "file_extension": ".py",
   "mimetype": "text/x-python",
   "name": "python",
   "nbconvert_exporter": "python",
   "pygments_lexer": "ipython3",
   "version": "3.10.9"
  },
  "orig_nbformat": 4
 },
 "nbformat": 4,
 "nbformat_minor": 2
}
