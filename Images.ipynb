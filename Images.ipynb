{
 "cells": [
  {
   "attachments": {},
   "cell_type": "markdown",
   "metadata": {},
   "source": [
    "## Prompts for locations"
   ]
  },
  {
   "cell_type": "code",
   "execution_count": 1,
   "metadata": {},
   "outputs": [],
   "source": [
    "location_prompts = [\n",
    "    \"steampunk city with skyscrapers\",\n",
    "    # \"cyberpunk village in Japanese rustic style\",\n",
    "    # \"fantasy dungsseons and dragons\",\n",
    "    # \"noir city from 1930s\",\n",
    "    # \"StarTrek inspired spaceship\",\n",
    "    # \"undeground mine of goblins\",\n",
    "    # \"SuperMario style magic land plain\",\n",
    "    # \"SuperMario style magic land beach\",\n",
    "]"
   ]
  },
  {
   "attachments": {},
   "cell_type": "markdown",
   "metadata": {},
   "source": [
    "## Generating locations "
   ]
  },
  {
   "cell_type": "code",
   "execution_count": 2,
   "metadata": {},
   "outputs": [
    {
     "name": "stderr",
     "output_type": "stream",
     "text": [
      "Generating locations:   0%|          | 0/1 [00:00<?, ?it/s]"
     ]
    },
    {
     "name": "stdout",
     "output_type": "stream",
     "text": [
      "<\n",
      "{'name': 'Steampunk City of X', 'description': 'A bustling steampunk city, with towering metal skyscrapers reaching as far as the eye can see. The streets are filled with people going about their daily lives and the roads are filled with hovercars and carriages. In the night the city is lit up with an array of neon lights.\\n', 'buildings': [{'name': 'Clock Tower', 'description': 'A tall, stately clock tower in the center of the city. It strikes a bell every hour, keeping the citizens in tune with the time.', 'enterable': True}, {'name': 'Airship Hangar', 'description': 'A large metal building, filled with a variety of advanced airships of every kind. All sizes, shapes and designs can be found here.', 'enterable': True}], 'ways': [{'name': 'Main Street', 'description': 'The main thoroughfare of the city, lined with tall buildings and filled with a constant stream of hovercars and carriages.'}, {'name': 'Upper Avenue', 'description': 'A wide avenue on the north side of the city, overlooking the skyline and filled with many theat'}]}\n",
      "\n"
     ]
    },
    {
     "name": "stderr",
     "output_type": "stream",
     "text": [
      "Traceback (most recent call last):\n",
      "  File \"/Users/standard/SRC/Holodeck/.venv/lib/python3.10/site-packages/sqlalchemy/orm/mapper.py\", line 2036, in get_property\n",
      "    return self._props[key]\n",
      "KeyError: 'location'\n",
      "\n",
      "The above exception was the direct cause of the following exception:\n",
      "\n",
      "Traceback (most recent call last):\n",
      "  File \"/var/folders/gf/k97vplfs0kq5rgx4cp5557sh0000gn/T/ipykernel_14789/1867708835.py\", line 14, in generate_location\n",
      "    location = initialize_location(location_dict, encounters_list)\n",
      "  File \"/Users/standard/SRC/Holodeck/holodeck/gpt_game_gen.py\", line 40, in initialize_location\n",
      "    location = Location(location_dict.get('name', f\"Location {get_location_number()}\"), location_dict.get('description', \"\"))\n",
      "  File \"<string>\", line 4, in __init__\n",
      "  File \"/Users/standard/SRC/Holodeck/.venv/lib/python3.10/site-packages/sqlalchemy/orm/state.py\", line 476, in _initialize_instance\n",
      "    manager.dispatch.init(self, args, kwargs)\n",
      "  File \"/Users/standard/SRC/Holodeck/.venv/lib/python3.10/site-packages/sqlalchemy/event/attr.py\", line 334, in __call__\n",
      "    fn(*args, **kw)\n",
      "  File \"/Users/standard/SRC/Holodeck/.venv/lib/python3.10/site-packages/sqlalchemy/orm/mapper.py\", line 3672, in _event_on_init\n",
      "    instrumenting_mapper._check_configure()\n",
      "  File \"/Users/standard/SRC/Holodeck/.venv/lib/python3.10/site-packages/sqlalchemy/orm/mapper.py\", line 1924, in _check_configure\n",
      "    _configure_registries({self.registry}, cascade=True)\n",
      "  File \"/Users/standard/SRC/Holodeck/.venv/lib/python3.10/site-packages/sqlalchemy/orm/mapper.py\", line 3483, in _configure_registries\n",
      "    _do_configure_registries(registries, cascade)\n",
      "  File \"/Users/standard/SRC/Holodeck/.venv/lib/python3.10/site-packages/sqlalchemy/orm/mapper.py\", line 3522, in _do_configure_registries\n",
      "    mapper._post_configure_properties()\n",
      "  File \"/Users/standard/SRC/Holodeck/.venv/lib/python3.10/site-packages/sqlalchemy/orm/mapper.py\", line 1941, in _post_configure_properties\n",
      "    prop.init()\n",
      "  File \"/Users/standard/SRC/Holodeck/.venv/lib/python3.10/site-packages/sqlalchemy/orm/interfaces.py\", line 231, in init\n",
      "    self.do_init()\n",
      "  File \"/Users/standard/SRC/Holodeck/.venv/lib/python3.10/site-packages/sqlalchemy/orm/relationships.py\", line 2150, in do_init\n",
      "    self._generate_backref()\n",
      "  File \"/Users/standard/SRC/Holodeck/.venv/lib/python3.10/site-packages/sqlalchemy/orm/relationships.py\", line 2486, in _generate_backref\n",
      "    self._add_reverse_property(self.back_populates)\n",
      "  File \"/Users/standard/SRC/Holodeck/.venv/lib/python3.10/site-packages/sqlalchemy/orm/relationships.py\", line 2056, in _add_reverse_property\n",
      "    other = self.mapper.get_property(key, _configure_mappers=False)\n",
      "  File \"/Users/standard/SRC/Holodeck/.venv/lib/python3.10/site-packages/sqlalchemy/orm/mapper.py\", line 2038, in get_property\n",
      "    util.raise_(\n",
      "  File \"/Users/standard/SRC/Holodeck/.venv/lib/python3.10/site-packages/sqlalchemy/util/compat.py\", line 208, in raise_\n",
      "    raise exception\n",
      "sqlalchemy.exc.InvalidRequestError: Mapper 'mapped class Building->building' has no property 'location'\n",
      "Generating locations: 100%|██████████| 1/1 [00:12<00:00, 12.99s/it]"
     ]
    },
    {
     "name": "stdout",
     "output_type": "stream",
     "text": [
      "<\n",
      "[{'probability': 0.1, 'description': 'As you walk down Main Street, you find a damaged hovercar', 'actions': [{'type': 'item', 'description': 'Damaged hovercar, still in working condition'}], 'trigger': {'type': 'way', 'way': 'Main Street'}}, {'probability': 0.3, 'description': 'On the Clock Tower, you hear a strange ticking sound coming from inside', 'actions': [{'type': 'building', 'name': 'Mysterious Clock', 'description': 'A strange ticking sound coming from inside the Clock Tower'}], 'trigger': {'type': 'building', 'building': 'Clock Tower'}}, {'probability': 0.02, 'description': 'As you approach the Mysterious Clock, a giant robot appears!', 'actions': [{'type': 'character', 'name': 'Mysterious Robot', 'description': 'A giant robot, made of a strange mix of materials'}], 'trigger': {'type': 'building', 'building': 'Mysterious Clock'}}]\n",
      "\n",
      "Error:  Mapper 'mapped class Building->building' has no property 'location'\n"
     ]
    },
    {
     "name": "stderr",
     "output_type": "stream",
     "text": [
      "\n"
     ]
    },
    {
     "ename": "AssertionError",
     "evalue": "some locations are failed to generate",
     "output_type": "error",
     "traceback": [
      "\u001b[0;31m---------------------------------------------------------------------------\u001b[0m",
      "\u001b[0;31mAssertionError\u001b[0m                            Traceback (most recent call last)",
      "Cell \u001b[0;32mIn[2], line 29\u001b[0m\n\u001b[1;32m     25\u001b[0m     results \u001b[39m=\u001b[39m \u001b[39mlist\u001b[39m(tqdm(executor\u001b[39m.\u001b[39mmap(generate_location, location_prompts), total\u001b[39m=\u001b[39m\u001b[39mlen\u001b[39m(location_prompts), desc\u001b[39m=\u001b[39m\u001b[39m\"\u001b[39m\u001b[39mGenerating locations\u001b[39m\u001b[39m\"\u001b[39m))\n\u001b[1;32m     26\u001b[0m     locations \u001b[39m+\u001b[39m\u001b[39m=\u001b[39m [r \u001b[39mfor\u001b[39;00m r \u001b[39min\u001b[39;00m results \u001b[39mif\u001b[39;00m r \u001b[39mis\u001b[39;00m \u001b[39mnot\u001b[39;00m \u001b[39mNone\u001b[39;00m]\n\u001b[0;32m---> 29\u001b[0m \u001b[39massert\u001b[39;00m \u001b[39mlen\u001b[39m(locations) \u001b[39m==\u001b[39m \u001b[39mlen\u001b[39m(location_prompts), \u001b[39m\"\u001b[39m\u001b[39msome locations are failed to generate\u001b[39m\u001b[39m\"\u001b[39m\n\u001b[1;32m     31\u001b[0m locations\n",
      "\u001b[0;31mAssertionError\u001b[0m: some locations are failed to generate"
     ]
    }
   ],
   "source": [
    "from holodeck import initialize_location\n",
    "from holodeck import generate_location_and_encounters\n",
    "import os\n",
    "from tqdm.notebook import tqdm\n",
    "import traceback\n",
    "\n",
    "import concurrent.futures\n",
    "from tqdm import tqdm\n",
    "\n",
    "def generate_location(prompt):\n",
    "    location_dict, encounters_list = generate_location_and_encounters(prompt)\n",
    "    if location_dict:\n",
    "        try:\n",
    "            location = initialize_location(location_dict, encounters_list)\n",
    "            return location\n",
    "        except Exception as e:\n",
    "            print(\"Error: \", e)\n",
    "            traceback.print_exc()\n",
    "    else:\n",
    "        print(f\"GENERATING FROM '{prompt}' failed!\")\n",
    "        return None\n",
    "\n",
    "locations = []\n",
    "with concurrent.futures.ThreadPoolExecutor(max_workers=os.cpu_count()) as executor:\n",
    "    results = list(tqdm(executor.map(generate_location, location_prompts), total=len(location_prompts), desc=\"Generating locations\"))\n",
    "    locations += [r for r in results if r is not None]\n",
    "\n",
    "\n",
    "assert len(locations) == len(location_prompts), \"some locations are failed to generate\"\n",
    "\n",
    "locations"
   ]
  },
  {
   "attachments": {},
   "cell_type": "markdown",
   "metadata": {},
   "source": [
    "## Generate Image Prompts"
   ]
  },
  {
   "cell_type": "code",
   "execution_count": null,
   "metadata": {},
   "outputs": [],
   "source": [
    "from holodeck.gpt_text import \\\n",
    "        generate_object_image_prompt, \\\n",
    "        generate_building_image_prompt, \\\n",
    "        generate_location_image_prompt\n",
    "\n",
    "from concurrent.futures import ThreadPoolExecutor\n",
    "from tqdm import tqdm\n",
    "\n",
    "locations_prompts = []\n",
    "objects_image_prompts = []\n",
    "buildings_image_prompts = []\n",
    "\n",
    "def generate_location_images(location):\n",
    "    return (location, generate_location_image_prompt(location))\n",
    "\n",
    "def generate_object_images(location):\n",
    "    prompts = []\n",
    "    for o in location.objects:\n",
    "        prompts.append((o, generate_object_image_prompt(o, location)))\n",
    "    return prompts\n",
    "\n",
    "def generate_building_images(location):\n",
    "    prompts = []\n",
    "    for b in location.all_buildings:\n",
    "        prompts.append((b, generate_building_image_prompt(b, location)))\n",
    "    return prompts\n",
    "\n",
    "with ThreadPoolExecutor() as executor:\n",
    "    location_image_futures = list(tqdm(executor.map(generate_location_images, locations), desc=\"Locations\"))\n",
    "    object_image_futures = [executor.submit(generate_object_images, location) for location in locations]\n",
    "    building_image_futures = [executor.submit(generate_building_images, location) for location in locations]\n",
    "\n",
    "    for location, prompt in location_image_futures:\n",
    "        locations_prompts.append((location, prompt))\n",
    "    for f in object_image_futures:\n",
    "        for prompt in f.result():\n",
    "            objects_image_prompts.append(prompt)\n",
    "    for f in building_image_futures:\n",
    "        for prompt in f.result():\n",
    "            buildings_image_prompts.append(prompt)\n",
    "\n",
    "\n",
    "img_prompts = locations_prompts + objects_image_prompts + buildings_image_prompts\n",
    "\n",
    "obj_number = 0\n",
    "for location in locations:\n",
    "    obj_number += 1\n",
    "    obj_number += len(location.all_buildings)\n",
    "    obj_number += len(location.objects)\n",
    "\n",
    "\n",
    "assert len(img_prompts) == obj_number, \"not all descriptions got generated!\"\n",
    "\n"
   ]
  },
  {
   "cell_type": "code",
   "execution_count": null,
   "metadata": {},
   "outputs": [],
   "source": []
  },
  {
   "attachments": {},
   "cell_type": "markdown",
   "metadata": {},
   "source": [
    "## Generate Images"
   ]
  },
  {
   "cell_type": "code",
   "execution_count": null,
   "metadata": {},
   "outputs": [],
   "source": [
    "from holodeck.gpt_image import generate_image\n",
    "from IPython.display import display, Markdown\n",
    "import PIL.Image as Image\n",
    "import random\n",
    "\n",
    "\n",
    "random.shuffle(img_prompts)\n",
    "\n",
    "# img_prompts = img_prompts[:9]\n",
    "\n",
    "images = []\n",
    "\n",
    "for obj, gen_options in tqdm(img_prompts, desc=\"Images\"):\n",
    "    prompt = gen_options['prompt']\n",
    "    negative_prompt = gen_options['negative_prompt']\n",
    "    image_bytes = await generate_image(prompt=prompt, negative_prompt=negative_prompt)\n",
    "    image = Image.open(image_bytes)\n",
    "    display(Markdown(f\"### {obj.name}\"))\n",
    "    display(Markdown(f\"\"\"\n",
    "- {prompt}\n",
    "  - *negative: {negative_prompt}*\n",
    "    \"\"\"))\n",
    "    display(image)\n",
    "    image_file_name = f\".images/{obj.name}.png\"\n",
    "    image.save(image_file_name)\n",
    "    image.close()\n",
    "    image_bytes.close()\n",
    "    del image_bytes\n",
    "    images.append((obj, prompt, image_file_name))\n",
    "\n",
    "len(images)\n"
   ]
  },
  {
   "attachments": {},
   "cell_type": "markdown",
   "metadata": {},
   "source": [
    "## Display Images"
   ]
  },
  {
   "cell_type": "code",
   "execution_count": null,
   "metadata": {},
   "outputs": [],
   "source": [
    "import textwrap\n",
    "import matplotlib.pyplot as plt\n",
    "from matplotlib.patheffects import withStroke\n",
    "from PIL.Image import Resampling\n",
    "\n",
    "text_width = 30\n",
    "dpi = 600.0\n",
    "fig_width = 3.234\n",
    "\n",
    "columns = 4\n",
    "pic_width = fig_width * 0.27\n",
    "\n",
    "\n",
    "def plot_images(images):\n",
    "\n",
    "    # Estimate the number of rows needed based on the number of images\n",
    "    num_rows = (len(images) + columns - 1) // columns\n",
    "    fig_height = 0\n",
    "    # Get the height of the first image adjusted for scale\n",
    "    with Image.open(images[0][2]) as img:\n",
    "        w, h = img.size\n",
    "        aspect_ratio = float(w) / h\n",
    "        pic_height = pic_width / aspect_ratio\n",
    "\n",
    "        fig_height = pic_height * num_rows * 1.6\n",
    "\n",
    "    fig = plt.figure(figsize=(fig_width, fig_height), dpi=dpi)\n",
    "\n",
    "    # Define the path effect for the outline\n",
    "    outline_effect = withStroke(linewidth=0.3, foreground='black')\n",
    "\n",
    "    # Loop over the images and create a subplot for each\n",
    "    for i, (obj, prompt, image_file_name) in enumerate(images):\n",
    "        with Image.open(image_file_name) as image:\n",
    "        \n",
    "            # Resize the image\n",
    "            w, h = image.size\n",
    "            aspect_ratio = float(w) / h\n",
    "            new_width = int(pic_width * dpi)\n",
    "            new_height = int(new_width / aspect_ratio)\n",
    "            with image.resize((new_width, new_height), Resampling.LANCZOS) as image_resized:\n",
    "                # Create a subplot for the image\n",
    "                ax = fig.add_subplot(len(images) // columns + 1, columns, i + 1)\n",
    "                \n",
    "                # Display the image\n",
    "                ax.imshow(image_resized)\n",
    "\n",
    "        ax.set_xticks([])\n",
    "        ax.set_yticks([])\n",
    "        ax.set_aspect('equal') # set aspect ratio to 1:1\n",
    "        \n",
    "        # Set the title to the obj.name\n",
    "        # ax.set_title(obj.name, fontsize=4, color='magenta', pad=-10)\n",
    "        \n",
    "        # Wrap the prompt text to the desired width\n",
    "        wrapped_prompt = textwrap.fill(prompt, width=text_width)\n",
    "        wrapped_title = textwrap.fill(obj.name, width=14)\n",
    "        \n",
    "        # Display the wrapped prompt text below the title with black outline\n",
    "        ax.text(0.08, -0.38, wrapped_prompt, ha='left', va='bottom', transform=ax.transAxes, fontsize=1.7, family='monospace', color='white', path_effects=[outline_effect])\n",
    "        \n",
    "        ax.text(1.0-0.08, -0.4, wrapped_title, ha='right', va='top', transform=ax.transAxes, fontsize=2.4, family='monospace', color='magenta', path_effects=[outline_effect])\n",
    "\n",
    "    plt.subplots_adjust(wspace=0.03)\n",
    "\n",
    "    fig.patch.set_facecolor('none')\n",
    "\n",
    "\n",
    "plot_images(images)\n"
   ]
  },
  {
   "cell_type": "code",
   "execution_count": null,
   "metadata": {},
   "outputs": [],
   "source": [
    "print(\"hi\") "
   ]
  },
  {
   "cell_type": "code",
   "execution_count": null,
   "metadata": {},
   "outputs": [],
   "source": [
    "print"
   ]
  }
 ],
 "metadata": {
  "kernelspec": {
   "display_name": ".venv",
   "language": "python",
   "name": "python3"
  },
  "language_info": {
   "codemirror_mode": {
    "name": "ipython",
    "version": 3
   },
   "file_extension": ".py",
   "mimetype": "text/x-python",
   "name": "python",
   "nbconvert_exporter": "python",
   "pygments_lexer": "ipython3",
   "version": "3.10.9"
  },
  "orig_nbformat": 4
 },
 "nbformat": 4,
 "nbformat_minor": 2
}
