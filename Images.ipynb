{
 "cells": [
  {
   "attachments": {},
   "cell_type": "markdown",
   "metadata": {},
   "source": [
    "## Prompts for locations"
   ]
  },
  {
   "cell_type": "code",
   "execution_count": 1,
   "metadata": {},
   "outputs": [],
   "source": [
    "location_prompts = [\n",
    "    \"steampunk city with skyscrapers\",\n",
    "    \"cyberpunk village in Japanese rustic style\",\n",
    "    \"fantasy dungeons and dragons\",\n",
    "    \"noir city from 1930s\",\n",
    "    \"StarTrek inspired spaceship\",\n",
    "    \"undeground mine of goblins\",\n",
    "    \"SuperMario style magic land plain\",\n",
    "    \"SuperMario style magic land beach\",\n",
    "]"
   ]
  },
  {
   "attachments": {},
   "cell_type": "markdown",
   "metadata": {},
   "source": [
    "## Generating locations "
   ]
  },
  {
   "cell_type": "code",
   "execution_count": 2,
   "metadata": {},
   "outputs": [
    {
     "ename": "ValidationError",
     "evalue": "1 validation error for PromptTemplate\n__root__\n  Invalid prompt schema; check for mismatched or missing input parameters. '    \"probability\"' (type=value_error)",
     "output_type": "error",
     "traceback": [
      "\u001b[0;31m---------------------------------------------------------------------------\u001b[0m",
      "\u001b[0;31mValidationError\u001b[0m                           Traceback (most recent call last)",
      "Cell \u001b[0;32mIn[2], line 2\u001b[0m\n\u001b[1;32m      1\u001b[0m \u001b[39mfrom\u001b[39;00m \u001b[39mholodeck\u001b[39;00m\u001b[39m.\u001b[39;00m\u001b[39mgame_objects\u001b[39;00m \u001b[39mimport\u001b[39;00m initialize_location\n\u001b[0;32m----> 2\u001b[0m \u001b[39mfrom\u001b[39;00m \u001b[39mholodeck\u001b[39;00m\u001b[39m.\u001b[39;00m\u001b[39mgpt_text\u001b[39;00m \u001b[39mimport\u001b[39;00m generate_location_and_encounters\n\u001b[1;32m      4\u001b[0m \u001b[39mfrom\u001b[39;00m \u001b[39mtqdm\u001b[39;00m\u001b[39m.\u001b[39;00m\u001b[39mnotebook\u001b[39;00m \u001b[39mimport\u001b[39;00m tqdm\n\u001b[1;32m      6\u001b[0m locations \u001b[39m=\u001b[39m []\n",
      "File \u001b[0;32m~/Holodeck/holodeck/gpt_text.py:13\u001b[0m\n\u001b[1;32m     11\u001b[0m \u001b[39mfrom\u001b[39;00m \u001b[39mlangchain\u001b[39;00m\u001b[39m.\u001b[39;00m\u001b[39mllms\u001b[39;00m \u001b[39mimport\u001b[39;00m OpenAI\n\u001b[1;32m     12\u001b[0m \u001b[39mfrom\u001b[39;00m \u001b[39mlangchain\u001b[39;00m\u001b[39m.\u001b[39;00m\u001b[39mchains\u001b[39;00m \u001b[39mimport\u001b[39;00m LLMChain\n\u001b[0;32m---> 13\u001b[0m \u001b[39mfrom\u001b[39;00m \u001b[39m.\u001b[39;00m\u001b[39mprompts\u001b[39;00m \u001b[39mimport\u001b[39;00m \u001b[39m*\u001b[39m\n\u001b[1;32m     15\u001b[0m llm \u001b[39m=\u001b[39m OpenAI(temperature\u001b[39m=\u001b[39m\u001b[39m0.9\u001b[39m)\n\u001b[1;32m     18\u001b[0m chain_location \u001b[39m=\u001b[39m LLMChain(llm\u001b[39m=\u001b[39mllm, prompt\u001b[39m=\u001b[39mprompt_location)\n",
      "File \u001b[0;32m~/Holodeck/holodeck/prompts.py:22\u001b[0m\n\u001b[1;32m      2\u001b[0m \u001b[39mfrom\u001b[39;00m \u001b[39mlangchain\u001b[39;00m\u001b[39m.\u001b[39;00m\u001b[39mprompts\u001b[39;00m \u001b[39mimport\u001b[39;00m PromptTemplate\n\u001b[1;32m      4\u001b[0m prompt_image_building \u001b[39m=\u001b[39m PromptTemplate(\n\u001b[1;32m      5\u001b[0m     input_variables\u001b[39m=\u001b[39m[\u001b[39m\"\u001b[39m\u001b[39mbuilding\u001b[39m\u001b[39m\"\u001b[39m, \u001b[39m\"\u001b[39m\u001b[39mlocation\u001b[39m\u001b[39m\"\u001b[39m],\n\u001b[1;32m      6\u001b[0m     template\u001b[39m=\u001b[39m\u001b[39m\"\"\"\u001b[39m\n\u001b[0;32m   (...)\u001b[0m\n\u001b[1;32m     19\u001b[0m \u001b[39m\"\"\"\u001b[39m,\n\u001b[1;32m     20\u001b[0m )\n\u001b[0;32m---> 22\u001b[0m prompt_encounters \u001b[39m=\u001b[39m PromptTemplate(\n\u001b[1;32m     23\u001b[0m     input_variables\u001b[39m=\u001b[39;49m[\u001b[39m\"\u001b[39;49m\u001b[39myaml\u001b[39;49m\u001b[39m\"\u001b[39;49m],\n\u001b[1;32m     24\u001b[0m     template\u001b[39m=\u001b[39;49m\u001b[39m\"\"\"\u001b[39;49m\n\u001b[1;32m     25\u001b[0m \u001b[39m    act as Random Encounter Generator. you will be given a YAML with description of location, for example:\u001b[39;49m\n\u001b[1;32m     26\u001b[0m \n\u001b[1;32m     27\u001b[0m \u001b[39m---\u001b[39;49m\n\u001b[1;32m     28\u001b[0m \u001b[39mname: Jungle of the Laughing Monkeys\u001b[39;49m\n\u001b[1;32m     29\u001b[0m \u001b[39mdescription: >\u001b[39;49m\n\u001b[1;32m     30\u001b[0m \u001b[39m  A dense jungle.\u001b[39;49m\n\u001b[1;32m     31\u001b[0m \u001b[39mbuildings:\u001b[39;49m\n\u001b[1;32m     32\u001b[0m \u001b[39m  - name: Stone Altar\u001b[39;49m\n\u001b[1;32m     33\u001b[0m \u001b[39m    description: A moss-covered stone altar.\u001b[39;49m\n\u001b[1;32m     34\u001b[0m \u001b[39m    enterable: true\u001b[39;49m\n\u001b[1;32m     35\u001b[0m \u001b[39m  - name: Monkey Treehouses\u001b[39;49m\n\u001b[1;32m     36\u001b[0m \u001b[39m    description: A network of small treehouses.\u001b[39;49m\n\u001b[1;32m     37\u001b[0m \u001b[39m    enterable: true\u001b[39;49m\n\u001b[1;32m     38\u001b[0m \u001b[39mways:\u001b[39;49m\n\u001b[1;32m     39\u001b[0m \u001b[39m  - name: Jungle Path\u001b[39;49m\n\u001b[1;32m     40\u001b[0m \u001b[39m    description: A narrow path winding through the thick jungle.\u001b[39;49m\n\u001b[1;32m     41\u001b[0m \u001b[39m  - name: River\u001b[39;49m\n\u001b[1;32m     42\u001b[0m \u001b[39m    description: A fast-moving river runs along the edge of the jungle.\u001b[39;49m\n\u001b[1;32m     43\u001b[0m \u001b[39m```\u001b[39;49m\n\u001b[1;32m     44\u001b[0m \n\u001b[1;32m     45\u001b[0m \u001b[39myou must respond with a JSON containing all possible random encounters, for example:\u001b[39;49m\n\u001b[1;32m     46\u001b[0m \n\u001b[1;32m     47\u001b[0m \u001b[39m```\u001b[39;49m\n\u001b[1;32m     48\u001b[0m \u001b[39m---\u001b[39;49m\n\u001b[1;32m     49\u001b[0m \u001b[39m[  \u001b[39;49m\n\u001b[1;32m     50\u001b[0m \u001b[39m  \u001b[39;49m\u001b[39m{\u001b[39;49m\u001b[39m    \u001b[39;49m\u001b[39m\"\u001b[39;49m\u001b[39mprobability\u001b[39;49m\u001b[39m\"\u001b[39;49m\u001b[39m: 0.1,    \u001b[39;49m\u001b[39m\"\u001b[39;49m\u001b[39mdescription\u001b[39;49m\u001b[39m\"\u001b[39;49m\u001b[39m: \u001b[39;49m\u001b[39m\"\u001b[39;49m\u001b[39mAs you enter jungles, you find a wallet lost by traveler\u001b[39;49m\u001b[39m\"\u001b[39;49m\u001b[39m,    \u001b[39;49m\u001b[39m\"\u001b[39;49m\u001b[39mtrigger\u001b[39;49m\u001b[39m\"\u001b[39;49m\u001b[39m: \u001b[39;49m\u001b[39m{\u001b[39;49m\u001b[39m      \u001b[39;49m\u001b[39m\"\u001b[39;49m\u001b[39mtype\u001b[39;49m\u001b[39m\"\u001b[39;49m\u001b[39m: \u001b[39;49m\u001b[39m\"\u001b[39;49m\u001b[39mlocation\u001b[39;49m\u001b[39m\"\u001b[39;49m\u001b[39m    },    \u001b[39;49m\u001b[39m\"\u001b[39;49m\u001b[39mactions\u001b[39;49m\u001b[39m\"\u001b[39;49m\u001b[39m: [      \u001b[39;49m\u001b[39m{\u001b[39;49m\u001b[39m        \u001b[39;49m\u001b[39m\"\u001b[39;49m\u001b[39mtype\u001b[39;49m\u001b[39m\"\u001b[39;49m\u001b[39m: \u001b[39;49m\u001b[39m\"\u001b[39;49m\u001b[39mitem\u001b[39;49m\u001b[39m\"\u001b[39;49m\u001b[39m,        \u001b[39;49m\u001b[39m\"\u001b[39;49m\u001b[39mdescription\u001b[39;49m\u001b[39m\"\u001b[39;49m\u001b[39m: \u001b[39;49m\u001b[39m\"\u001b[39;49m\u001b[39mWallet full of gold\u001b[39;49m\u001b[39m\"\u001b[39;49m\u001b[39m      }    ]\u001b[39;49m\n\u001b[1;32m     51\u001b[0m \u001b[39m  },\u001b[39;49m\n\u001b[1;32m     52\u001b[0m \u001b[39m  \u001b[39;49m\u001b[39m{\u001b[39;49m\n\u001b[1;32m     53\u001b[0m \u001b[39m    \u001b[39;49m\u001b[39m\"\u001b[39;49m\u001b[39mprobability\u001b[39;49m\u001b[39m\"\u001b[39;49m\u001b[39m: 0.3,\u001b[39;49m\n\u001b[1;32m     54\u001b[0m \u001b[39m    \u001b[39;49m\u001b[39m\"\u001b[39;49m\u001b[39mdescription\u001b[39;49m\u001b[39m\"\u001b[39;49m\u001b[39m: \u001b[39;49m\u001b[39m\"\u001b[39;49m\u001b[39mOn altar you find an ancient inscribing\u001b[39;49m\u001b[39m\"\u001b[39;49m\u001b[39m,\u001b[39;49m\n\u001b[1;32m     55\u001b[0m \u001b[39m    \u001b[39;49m\u001b[39m\"\u001b[39;49m\u001b[39mtrigger\u001b[39;49m\u001b[39m\"\u001b[39;49m\u001b[39m: \u001b[39;49m\u001b[39m{\u001b[39;49m\n\u001b[1;32m     56\u001b[0m \u001b[39m      \u001b[39;49m\u001b[39m\"\u001b[39;49m\u001b[39mtype\u001b[39;49m\u001b[39m\"\u001b[39;49m\u001b[39m: \u001b[39;49m\u001b[39m\"\u001b[39;49m\u001b[39mbuilding\u001b[39;49m\u001b[39m\"\u001b[39;49m\u001b[39m,\u001b[39;49m\n\u001b[1;32m     57\u001b[0m \u001b[39m      \u001b[39;49m\u001b[39m\"\u001b[39;49m\u001b[39mbuilding\u001b[39;49m\u001b[39m\"\u001b[39;49m\u001b[39m: \u001b[39;49m\u001b[39m\"\u001b[39;49m\u001b[39mStone Altar\u001b[39;49m\u001b[39m\"\u001b[39;49m\n\u001b[1;32m     58\u001b[0m \u001b[39m    },\u001b[39;49m\n\u001b[1;32m     59\u001b[0m \u001b[39m    \u001b[39;49m\u001b[39m\"\u001b[39;49m\u001b[39mactions\u001b[39;49m\u001b[39m\"\u001b[39;49m\u001b[39m: [\u001b[39;49m\n\u001b[1;32m     60\u001b[0m \u001b[39m      \u001b[39;49m\u001b[39m{\u001b[39;49m\n\u001b[1;32m     61\u001b[0m \u001b[39m        \u001b[39;49m\u001b[39m\"\u001b[39;49m\u001b[39mtype\u001b[39;49m\u001b[39m\"\u001b[39;49m\u001b[39m: \u001b[39;49m\u001b[39m\"\u001b[39;49m\u001b[39mbuilding\u001b[39;49m\u001b[39m\"\u001b[39;49m\u001b[39m,\u001b[39;49m\n\u001b[1;32m     62\u001b[0m \u001b[39m        \u001b[39;49m\u001b[39m\"\u001b[39;49m\u001b[39mname\u001b[39;49m\u001b[39m\"\u001b[39;49m\u001b[39m: \u001b[39;49m\u001b[39m\"\u001b[39;49m\u001b[39mAncient Inscribing\u001b[39;49m\u001b[39m\"\u001b[39;49m\u001b[39m,\u001b[39;49m\n\u001b[1;32m     63\u001b[0m \u001b[39m        \u001b[39;49m\u001b[39m\"\u001b[39;49m\u001b[39mdescription\u001b[39;49m\u001b[39m\"\u001b[39;49m\u001b[39m: \u001b[39;49m\u001b[39m\"\u001b[39;49m\u001b[39mAncient inscribing in an unfamiliar language\u001b[39;49m\u001b[39m\"\u001b[39;49m\n\u001b[1;32m     64\u001b[0m \u001b[39m      }\u001b[39;49m\n\u001b[1;32m     65\u001b[0m \u001b[39m    ]\u001b[39;49m\n\u001b[1;32m     66\u001b[0m \u001b[39m  },\u001b[39;49m\n\u001b[1;32m     67\u001b[0m \u001b[39m  \u001b[39;49m\u001b[39m{\u001b[39;49m\n\u001b[1;32m     68\u001b[0m \u001b[39m    \u001b[39;49m\u001b[39m\"\u001b[39;49m\u001b[39mprobability\u001b[39;49m\u001b[39m\"\u001b[39;49m\u001b[39m: 0.02,\u001b[39;49m\n\u001b[1;32m     69\u001b[0m \u001b[39m    \u001b[39;49m\u001b[39m\"\u001b[39;49m\u001b[39mdescription\u001b[39;49m\u001b[39m\"\u001b[39;49m\u001b[39m: \u001b[39;49m\u001b[39m\"\u001b[39;49m\u001b[39mAs you read the ancient inscribing, the evil Demon of Monkeylord appears!\u001b[39;49m\u001b[39m\"\u001b[39;49m\u001b[39m,\u001b[39;49m\n\u001b[1;32m     70\u001b[0m \u001b[39m    \u001b[39;49m\u001b[39m\"\u001b[39;49m\u001b[39mtrigger\u001b[39;49m\u001b[39m\"\u001b[39;49m\u001b[39m: \u001b[39;49m\u001b[39m{\u001b[39;49m\n\u001b[1;32m     71\u001b[0m \u001b[39m      \u001b[39;49m\u001b[39m\"\u001b[39;49m\u001b[39mtype\u001b[39;49m\u001b[39m\"\u001b[39;49m\u001b[39m: \u001b[39;49m\u001b[39m\"\u001b[39;49m\u001b[39mbuilding\u001b[39;49m\u001b[39m\"\u001b[39;49m\u001b[39m,\u001b[39;49m\n\u001b[1;32m     72\u001b[0m \u001b[39m      \u001b[39;49m\u001b[39m\"\u001b[39;49m\u001b[39mbuilding\u001b[39;49m\u001b[39m\"\u001b[39;49m\u001b[39m: \u001b[39;49m\u001b[39m\"\u001b[39;49m\u001b[39mAncient Inscribing\u001b[39;49m\u001b[39m\"\u001b[39;49m\n\u001b[1;32m     73\u001b[0m \u001b[39m    },\u001b[39;49m\n\u001b[1;32m     74\u001b[0m \u001b[39m    \u001b[39;49m\u001b[39m\"\u001b[39;49m\u001b[39mactions\u001b[39;49m\u001b[39m\"\u001b[39;49m\u001b[39m: [\u001b[39;49m\n\u001b[1;32m     75\u001b[0m \u001b[39m      \u001b[39;49m\u001b[39m{\u001b[39;49m\n\u001b[1;32m     76\u001b[0m \u001b[39m        \u001b[39;49m\u001b[39m\"\u001b[39;49m\u001b[39mtype\u001b[39;49m\u001b[39m\"\u001b[39;49m\u001b[39m: \u001b[39;49m\u001b[39m\"\u001b[39;49m\u001b[39mcharacter\u001b[39;49m\u001b[39m\"\u001b[39;49m\u001b[39m,\u001b[39;49m\n\u001b[1;32m     77\u001b[0m \u001b[39m        \u001b[39;49m\u001b[39m\"\u001b[39;49m\u001b[39mname\u001b[39;49m\u001b[39m\"\u001b[39;49m\u001b[39m: \u001b[39;49m\u001b[39m\"\u001b[39;49m\u001b[39mDemon of Monkeylord\u001b[39;49m\u001b[39m\"\u001b[39;49m\u001b[39m,\u001b[39;49m\n\u001b[1;32m     78\u001b[0m \u001b[39m        \u001b[39;49m\u001b[39m\"\u001b[39;49m\u001b[39mdescription\u001b[39;49m\u001b[39m\"\u001b[39;49m\u001b[39m: \u001b[39;49m\u001b[39m\"\u001b[39;49m\u001b[39mEvil ancient demon with both horns and tail! Only attacks good people.\u001b[39;49m\u001b[39m\"\u001b[39;49m\n\u001b[1;32m     79\u001b[0m \u001b[39m      }\u001b[39;49m\n\u001b[1;32m     80\u001b[0m \u001b[39m    ]\u001b[39;49m\n\u001b[1;32m     81\u001b[0m \u001b[39m  },\u001b[39;49m\n\u001b[1;32m     82\u001b[0m \u001b[39m  \u001b[39;49m\u001b[39m{\u001b[39;49m\n\u001b[1;32m     83\u001b[0m \u001b[39m    \u001b[39;49m\u001b[39m\"\u001b[39;49m\u001b[39mprobability\u001b[39;49m\u001b[39m\"\u001b[39;49m\u001b[39m: 0.1,\u001b[39;49m\n\u001b[1;32m     84\u001b[0m \u001b[39m    \u001b[39;49m\u001b[39m\"\u001b[39;49m\u001b[39mdescription\u001b[39;49m\u001b[39m\"\u001b[39;49m\u001b[39m: \u001b[39;49m\u001b[39m\"\u001b[39;49m\u001b[39mA group of non-sentient monkeys play on the path\u001b[39;49m\u001b[39m\"\u001b[39;49m\u001b[39m,\u001b[39;49m\n\u001b[1;32m     85\u001b[0m \u001b[39m    \u001b[39;49m\u001b[39m\"\u001b[39;49m\u001b[39mtrigger\u001b[39;49m\u001b[39m\"\u001b[39;49m\u001b[39m: \u001b[39;49m\u001b[39m{\u001b[39;49m\n\u001b[1;32m     86\u001b[0m \u001b[39m      \u001b[39;49m\u001b[39m\"\u001b[39;49m\u001b[39mtype\u001b[39;49m\u001b[39m\"\u001b[39;49m\u001b[39m: \u001b[39;49m\u001b[39m\"\u001b[39;49m\u001b[39mway\u001b[39;49m\u001b[39m\"\u001b[39;49m\u001b[39m,\u001b[39;49m\n\u001b[1;32m     87\u001b[0m \u001b[39m      \u001b[39;49m\u001b[39m\"\u001b[39;49m\u001b[39mway\u001b[39;49m\u001b[39m\"\u001b[39;49m\u001b[39m: \u001b[39;49m\u001b[39m\"\u001b[39;49m\u001b[39mJungle Path\u001b[39;49m\u001b[39m\"\u001b[39;49m\n\u001b[1;32m     88\u001b[0m \u001b[39m    },\u001b[39;49m\n\u001b[1;32m     89\u001b[0m \u001b[39m    \u001b[39;49m\u001b[39m\"\u001b[39;49m\u001b[39mactions\u001b[39;49m\u001b[39m\"\u001b[39;49m\u001b[39m: [\u001b[39;49m\n\u001b[1;32m     90\u001b[0m \u001b[39m      \u001b[39;49m\u001b[39m{\u001b[39;49m\n\u001b[1;32m     91\u001b[0m \u001b[39m        \u001b[39;49m\u001b[39m\"\u001b[39;49m\u001b[39mtype\u001b[39;49m\u001b[39m\"\u001b[39;49m\u001b[39m: \u001b[39;49m\u001b[39m\"\u001b[39;49m\u001b[39mcritter\u001b[39;49m\u001b[39m\"\u001b[39;49m\u001b[39m,\u001b[39;49m\n\u001b[1;32m     92\u001b[0m \u001b[39m        \u001b[39;49m\u001b[39m\"\u001b[39;49m\u001b[39mdescription\u001b[39;49m\u001b[39m\"\u001b[39;49m\u001b[39m: \u001b[39;49m\u001b[39m\"\u001b[39;49m\u001b[39mGroup of non-sentient monkeys. Not aggressive unless provoked.\u001b[39;49m\u001b[39m\"\u001b[39;49m\n\u001b[1;32m     93\u001b[0m \u001b[39m      }\u001b[39;49m\n\u001b[1;32m     94\u001b[0m \u001b[39m    ]\u001b[39;49m\n\u001b[1;32m     95\u001b[0m \u001b[39m  }\u001b[39;49m\n\u001b[1;32m     96\u001b[0m \u001b[39m]\u001b[39;49m\n\u001b[1;32m     97\u001b[0m \n\u001b[1;32m     98\u001b[0m \u001b[39m```\u001b[39;49m\n\u001b[1;32m     99\u001b[0m \n\u001b[1;32m    100\u001b[0m \u001b[39mfirst user\u001b[39;49m\u001b[39m'\u001b[39;49m\u001b[39ms input: \u001b[39;49m\n\u001b[1;32m    101\u001b[0m \n\u001b[1;32m    102\u001b[0m \u001b[39m```\u001b[39;49m\n\u001b[1;32m    103\u001b[0m \u001b[39m{yaml}\u001b[39;49;00m\n\u001b[1;32m    104\u001b[0m \u001b[39m```\u001b[39;49m\n\u001b[1;32m    105\u001b[0m \n\u001b[1;32m    106\u001b[0m \u001b[39mdo not output any explanations!\u001b[39;49m\n\u001b[1;32m    107\u001b[0m \u001b[39moutput valid YAML of encounters in code block\u001b[39;49m\n\u001b[1;32m    108\u001b[0m \u001b[39m    \u001b[39;49m\u001b[39m\"\"\"\u001b[39;49m\n\u001b[1;32m    109\u001b[0m )\n\u001b[1;32m    111\u001b[0m prompt_image_location \u001b[39m=\u001b[39m PromptTemplate(\n\u001b[1;32m    112\u001b[0m     input_variables\u001b[39m=\u001b[39m[\u001b[39m\"\u001b[39m\u001b[39mlocation\u001b[39m\u001b[39m\"\u001b[39m, \u001b[39m\"\u001b[39m\u001b[39mbuildings\u001b[39m\u001b[39m\"\u001b[39m],\n\u001b[1;32m    113\u001b[0m     template\u001b[39m=\u001b[39m\u001b[39m\"\"\"\u001b[39m\n\u001b[0;32m   (...)\u001b[0m\n\u001b[1;32m    133\u001b[0m \n\u001b[1;32m    134\u001b[0m \u001b[39m\"\"\"\u001b[39m)\n\u001b[1;32m    136\u001b[0m prompt_location \u001b[39m=\u001b[39m PromptTemplate(\n\u001b[1;32m    137\u001b[0m     input_variables\u001b[39m=\u001b[39m[\u001b[39m\"\u001b[39m\u001b[39mp\u001b[39m\u001b[39m\"\u001b[39m],\n\u001b[1;32m    138\u001b[0m     template\u001b[39m=\u001b[39m\u001b[39m\"\"\"\u001b[39m\n\u001b[0;32m   (...)\u001b[0m\n\u001b[1;32m    175\u001b[0m \u001b[39myou must output correct JSON in a code block for easier copying\u001b[39m\n\u001b[1;32m    176\u001b[0m \u001b[39m\"\"\"\u001b[39m)\n",
      "File \u001b[0;32m~/Holodeck/.venv/lib/python3.10/site-packages/pydantic/main.py:341\u001b[0m, in \u001b[0;36mpydantic.main.BaseModel.__init__\u001b[0;34m()\u001b[0m\n",
      "\u001b[0;31mValidationError\u001b[0m: 1 validation error for PromptTemplate\n__root__\n  Invalid prompt schema; check for mismatched or missing input parameters. '    \"probability\"' (type=value_error)"
     ]
    }
   ],
   "source": [
    "from holodeck.game_objects import initialize_location\n",
    "from holodeck.gpt_text import generate_location_and_encounters\n",
    "\n",
    "from tqdm.notebook import tqdm\n",
    "\n",
    "locations = []\n",
    "\n",
    "for p in tqdm(location_prompts, desc=\"Generating locations\"):\n",
    "    location_dict, encounters_list = generate_location_and_encounters(p)\n",
    "    if location_dict:\n",
    "        location = initialize_location(location_dict, encounters_list)\n",
    "        locations.append(location)\n",
    "\n",
    "\n",
    "locations"
   ]
  },
  {
   "attachments": {},
   "cell_type": "markdown",
   "metadata": {},
   "source": [
    "## Generate Image Prompts"
   ]
  },
  {
   "cell_type": "code",
   "execution_count": null,
   "metadata": {},
   "outputs": [
    {
     "data": {
      "application/vnd.jupyter.widget-view+json": {
       "model_id": "2a204686a88c40c09f82d70df312f7da",
       "version_major": 2,
       "version_minor": 0
      },
      "text/plain": [
       "Locations:   0%|          | 0/8 [00:00<?, ?it/s]"
      ]
     },
     "metadata": {},
     "output_type": "display_data"
    },
    {
     "ename": "AttributeError",
     "evalue": "'str' object has no attribute 'description'",
     "output_type": "error",
     "traceback": [
      "\u001b[0;31m---------------------------------------------------------------------------\u001b[0m",
      "\u001b[0;31mAttributeError\u001b[0m                            Traceback (most recent call last)",
      "Cell \u001b[0;32mIn[3], line 12\u001b[0m\n\u001b[1;32m      8\u001b[0m buildings_image_prompts \u001b[39m=\u001b[39m []\n\u001b[1;32m     10\u001b[0m \u001b[39mfor\u001b[39;00m location \u001b[39min\u001b[39;00m tqdm(locations, desc\u001b[39m=\u001b[39m\u001b[39m\"\u001b[39m\u001b[39mLocations\u001b[39m\u001b[39m\"\u001b[39m):\n\u001b[0;32m---> 12\u001b[0m     locations_prompts\u001b[39m.\u001b[39mappend((location, generate_location_image_prompt(location)))\n\u001b[1;32m     14\u001b[0m     \u001b[39mfor\u001b[39;00m o \u001b[39min\u001b[39;00m tqdm(location\u001b[39m.\u001b[39mobjects, desc\u001b[39m=\u001b[39m\u001b[39m\"\u001b[39m\u001b[39mObjects\u001b[39m\u001b[39m\"\u001b[39m):\n\u001b[1;32m     15\u001b[0m         objects_image_prompts\u001b[39m.\u001b[39mappend((o, generate_object_image_prompt(o, location)))\n",
      "File \u001b[0;32m~/Holodeck/holodeck/gpt_text.py:57\u001b[0m, in \u001b[0;36mgenerate_location_image_prompt\u001b[0;34m(location)\u001b[0m\n\u001b[1;32m     55\u001b[0m \u001b[39mdef\u001b[39;00m \u001b[39mgenerate_location_image_prompt\u001b[39m(location):\n\u001b[1;32m     56\u001b[0m     \u001b[39mreturn\u001b[39;00m chain_image_location({\n\u001b[0;32m---> 57\u001b[0m         \u001b[39m'\u001b[39m\u001b[39mlocation\u001b[39m\u001b[39m'\u001b[39m:location\u001b[39m.\u001b[39;49mdescription,\n\u001b[1;32m     58\u001b[0m         \u001b[39m'\u001b[39m\u001b[39mbuildings\u001b[39m\u001b[39m'\u001b[39m:\u001b[39m\"\u001b[39m\u001b[39m\\n\u001b[39;00m\u001b[39m\"\u001b[39m\u001b[39m.\u001b[39mjoin([\u001b[39mf\u001b[39m\u001b[39m\"\u001b[39m\u001b[39m{\u001b[39;00mb\u001b[39m.\u001b[39mname\u001b[39m}\u001b[39;00m\u001b[39m: \u001b[39m\u001b[39m{\u001b[39;00mb\u001b[39m.\u001b[39mdescription\u001b[39m}\u001b[39;00m\u001b[39m\"\u001b[39m \u001b[39mfor\u001b[39;00m b \u001b[39min\u001b[39;00m location\u001b[39m.\u001b[39mbuildings])\n\u001b[1;32m     59\u001b[0m     })[\u001b[39m'\u001b[39m\u001b[39mtext\u001b[39m\u001b[39m'\u001b[39m]\n",
      "\u001b[0;31mAttributeError\u001b[0m: 'str' object has no attribute 'description'"
     ]
    }
   ],
   "source": [
    "from holodeck.gpt_text import \\\n",
    "        generate_object_image_prompt, \\\n",
    "        generate_building_image_prompt, \\\n",
    "        generate_location_image_prompt\n",
    "\n",
    "locations_prompts = []\n",
    "objects_image_prompts = []\n",
    "buildings_image_prompts = []\n",
    "\n",
    "for location in tqdm(locations, desc=\"Locations\"):\n",
    "\n",
    "    locations_prompts.append((location, generate_location_image_prompt(location)))\n",
    "\n",
    "    for o in tqdm(location.objects, desc=\"Objects\"):\n",
    "        objects_image_prompts.append((o, generate_object_image_prompt(o, location)))\n",
    "\n",
    "\n",
    "    for b in tqdm(location.objects, desc=\"Buildings\"):\n",
    "        objects_image_prompts.append((b, generate_building_image_prompt(o, location)))\n",
    "\n",
    "\n"
   ]
  },
  {
   "attachments": {},
   "cell_type": "markdown",
   "metadata": {},
   "source": [
    "## Generate Images"
   ]
  },
  {
   "cell_type": "code",
   "execution_count": null,
   "metadata": {},
   "outputs": [],
   "source": [
    "from holodeck.gpt_image import generate_image\n",
    "from IPython.display import display, Markdown\n",
    "\n",
    "img_prompts = locations_prompts + objects_image_prompts + buildings_image_prompts\n",
    "\n",
    "images = []\n",
    "\n",
    "for obj, prompt in tqdm(img_prompts, desc=\"Images\"):\n",
    "    image = generate_image(prompt)\n",
    "    display(Markdown(prompt))\n",
    "    display(image)\n",
    "    image_file_name = f\".images/{obj.name}.jpg\"\n",
    "    image.save(image_file_name)\n",
    "    images.append((obj, prompt, image_file_name))\n",
    "\n",
    "len(images)\n"
   ]
  },
  {
   "attachments": {},
   "cell_type": "markdown",
   "metadata": {},
   "source": [
    "## Display Images"
   ]
  },
  {
   "cell_type": "code",
   "execution_count": null,
   "metadata": {},
   "outputs": [
    {
     "ename": "FileNotFoundError",
     "evalue": "[Errno 2] No such file or directory: 'image1.jpg'",
     "output_type": "error",
     "traceback": [
      "\u001b[0;31m---------------------------------------------------------------------------\u001b[0m",
      "\u001b[0;31mFileNotFoundError\u001b[0m                         Traceback (most recent call last)",
      "Cell \u001b[0;32mIn[3], line 27\u001b[0m\n\u001b[1;32m     25\u001b[0m \u001b[39m# loop through the data and create a widget for each tuple\u001b[39;00m\n\u001b[1;32m     26\u001b[0m \u001b[39mfor\u001b[39;00m i, (obj, text, img_path) \u001b[39min\u001b[39;00m \u001b[39menumerate\u001b[39m(data):\n\u001b[0;32m---> 27\u001b[0m     \u001b[39mwith\u001b[39;00m \u001b[39mopen\u001b[39;49m(img_path, \u001b[39m\"\u001b[39;49m\u001b[39mrb\u001b[39;49m\u001b[39m\"\u001b[39;49m) \u001b[39mas\u001b[39;00m f:\n\u001b[1;32m     28\u001b[0m         img \u001b[39m=\u001b[39m Image\u001b[39m.\u001b[39mopen(f)\n\u001b[1;32m     29\u001b[0m         img_widget \u001b[39m=\u001b[39m widgets\u001b[39m.\u001b[39mImage(value\u001b[39m=\u001b[39mf\u001b[39m.\u001b[39mread(), \u001b[39mformat\u001b[39m\u001b[39m=\u001b[39m\u001b[39m\"\u001b[39m\u001b[39mjpg\u001b[39m\u001b[39m\"\u001b[39m, width\u001b[39m=\u001b[39m\u001b[39m150\u001b[39m, height\u001b[39m=\u001b[39m\u001b[39m150\u001b[39m)\n",
      "File \u001b[0;32m~/Holodeck/.venv/lib/python3.10/site-packages/IPython/core/interactiveshell.py:284\u001b[0m, in \u001b[0;36m_modified_open\u001b[0;34m(file, *args, **kwargs)\u001b[0m\n\u001b[1;32m    277\u001b[0m \u001b[39mif\u001b[39;00m file \u001b[39min\u001b[39;00m {\u001b[39m0\u001b[39m, \u001b[39m1\u001b[39m, \u001b[39m2\u001b[39m}:\n\u001b[1;32m    278\u001b[0m     \u001b[39mraise\u001b[39;00m \u001b[39mValueError\u001b[39;00m(\n\u001b[1;32m    279\u001b[0m         \u001b[39mf\u001b[39m\u001b[39m\"\u001b[39m\u001b[39mIPython won\u001b[39m\u001b[39m'\u001b[39m\u001b[39mt let you open fd=\u001b[39m\u001b[39m{\u001b[39;00mfile\u001b[39m}\u001b[39;00m\u001b[39m by default \u001b[39m\u001b[39m\"\u001b[39m\n\u001b[1;32m    280\u001b[0m         \u001b[39m\"\u001b[39m\u001b[39mas it is likely to crash IPython. If you know what you are doing, \u001b[39m\u001b[39m\"\u001b[39m\n\u001b[1;32m    281\u001b[0m         \u001b[39m\"\u001b[39m\u001b[39myou can use builtins\u001b[39m\u001b[39m'\u001b[39m\u001b[39m open.\u001b[39m\u001b[39m\"\u001b[39m\n\u001b[1;32m    282\u001b[0m     )\n\u001b[0;32m--> 284\u001b[0m \u001b[39mreturn\u001b[39;00m io_open(file, \u001b[39m*\u001b[39;49margs, \u001b[39m*\u001b[39;49m\u001b[39m*\u001b[39;49mkwargs)\n",
      "\u001b[0;31mFileNotFoundError\u001b[0m: [Errno 2] No such file or directory: 'image1.jpg'"
     ]
    }
   ],
   "source": [
    "import ipywidgets as widgets\n",
    "from IPython.display import display\n",
    "import PIL.Image as Image\n",
    "\n",
    "# create an array of tuples containing objects, text, and images\n",
    "data = [\n",
    "    ({\"name\": \"Object 1\"}, \"Text 1\", \"image1.jpg\"),\n",
    "    ({\"name\": \"Object 2\"}, \"Text 2\", \"image2.jpg\"),\n",
    "    ({\"name\": \"Object 3\"}, \"Text 3\", \"image3.jpg\"),\n",
    "    ({\"name\": \"Object 4\"}, \"Text 4\", \"image4.jpg\"),\n",
    "    ({\"name\": \"Object 5\"}, \"Text 5\", \"image5.jpg\"),\n",
    "    ({\"name\": \"Object 6\"}, \"Text 6\", \"image6.jpg\"),\n",
    "    ({\"name\": \"Object 7\"}, \"Text 7\", \"image7.jpg\"),\n",
    "    ({\"name\": \"Object 8\"}, \"Text 8\", \"image8.jpg\")\n",
    "]\n",
    "\n",
    "# define the grid layout\n",
    "grid = widgets.GridBox(\n",
    "    layout=widgets.Layout(\n",
    "        grid_template_columns=\"repeat(4, 1fr)\",\n",
    "        grid_gap=\"10px\"\n",
    "    )\n",
    ")\n",
    "\n",
    "# loop through the data and create a widget for each tuple\n",
    "for i, (obj, text, img_path) in enumerate(data):\n",
    "    with open(img_path, \"rb\") as f:\n",
    "        img = Image.open(f)\n",
    "        img_widget = widgets.Image(value=f.read(), format=\"jpg\", width=150, height=150)\n",
    "    obj_widget = widgets.HTML(f\"<h3>{obj['name']}</h3>\")\n",
    "    text_widget = widgets.HTML(f\"<p>{text}</p>\")\n",
    "    item = widgets.VBox([img_widget, obj_widget, text_widget])\n",
    "    grid.children += (item,)\n",
    "    \n",
    "# display the grid\n",
    "display(grid)\n"
   ]
  },
  {
   "cell_type": "markdown",
   "metadata": {},
   "source": []
  }
 ],
 "metadata": {
  "kernelspec": {
   "display_name": ".venv",
   "language": "python",
   "name": "python3"
  },
  "language_info": {
   "codemirror_mode": {
    "name": "ipython",
    "version": 3
   },
   "file_extension": ".py",
   "mimetype": "text/x-python",
   "name": "python",
   "nbconvert_exporter": "python",
   "pygments_lexer": "ipython3",
   "version": "3.10.6"
  },
  "orig_nbformat": 4
 },
 "nbformat": 4,
 "nbformat_minor": 2
}
